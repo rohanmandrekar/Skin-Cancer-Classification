{
  "nbformat": 4,
  "nbformat_minor": 0,
  "metadata": {
    "accelerator": "GPU",
    "colab": {
      "name": "SkinCancerDetection.ipynb",
      "provenance": [],
      "collapsed_sections": []
    },
    "kernelspec": {
      "display_name": "Python 3",
      "name": "python3"
    },
    "language_info": {
      "name": "python"
    }
  },
  "cells": [
    {
      "cell_type": "code",
      "metadata": {
        "id": "kES_rD67rrG6"
      },
      "source": [
        "import pandas as pd\n",
        "import numpy as np"
      ],
      "execution_count": null,
      "outputs": []
    },
    {
      "cell_type": "code",
      "metadata": {
        "colab": {
          "base_uri": "https://localhost:8080/"
        },
        "id": "7zE639BQsKs7",
        "outputId": "db4d0241-b03f-4c62-fcb3-3c3fc47a8c57"
      },
      "source": [
        "from google.colab import drive\n",
        "drive.mount(\"/content/drive/\")"
      ],
      "execution_count": null,
      "outputs": [
        {
          "output_type": "stream",
          "text": [
            "Mounted at /content/drive/\n"
          ],
          "name": "stdout"
        }
      ]
    },
    {
      "cell_type": "code",
      "metadata": {
        "id": "g7tDvsg5sNZK"
      },
      "source": [
        "#Dataset used: https://www.kaggle.com/kmader/skin-cancer-mnist-ham10000\n",
        "path='/content/drive/My Drive/Colab Notebooks/Skin Cancer/hmnist_28_28_RGB.csv'\n"
      ],
      "execution_count": null,
      "outputs": []
    },
    {
      "cell_type": "code",
      "metadata": {
        "id": "TSlPUvq-sfo4"
      },
      "source": [
        "df=pd.read_csv(path)"
      ],
      "execution_count": null,
      "outputs": []
    },
    {
      "cell_type": "code",
      "metadata": {
        "colab": {
          "base_uri": "https://localhost:8080/",
          "height": 245
        },
        "id": "-XZB67tXslAf",
        "outputId": "a01b39cc-8d37-435d-b438-e7cca8a4d418"
      },
      "source": [
        "df.tail()"
      ],
      "execution_count": null,
      "outputs": [
        {
          "output_type": "execute_result",
          "data": {
            "text/html": [
              "<div>\n",
              "<style scoped>\n",
              "    .dataframe tbody tr th:only-of-type {\n",
              "        vertical-align: middle;\n",
              "    }\n",
              "\n",
              "    .dataframe tbody tr th {\n",
              "        vertical-align: top;\n",
              "    }\n",
              "\n",
              "    .dataframe thead th {\n",
              "        text-align: right;\n",
              "    }\n",
              "</style>\n",
              "<table border=\"1\" class=\"dataframe\">\n",
              "  <thead>\n",
              "    <tr style=\"text-align: right;\">\n",
              "      <th></th>\n",
              "      <th>pixel0000</th>\n",
              "      <th>pixel0001</th>\n",
              "      <th>pixel0002</th>\n",
              "      <th>pixel0003</th>\n",
              "      <th>pixel0004</th>\n",
              "      <th>pixel0005</th>\n",
              "      <th>pixel0006</th>\n",
              "      <th>pixel0007</th>\n",
              "      <th>pixel0008</th>\n",
              "      <th>pixel0009</th>\n",
              "      <th>pixel0010</th>\n",
              "      <th>pixel0011</th>\n",
              "      <th>pixel0012</th>\n",
              "      <th>pixel0013</th>\n",
              "      <th>pixel0014</th>\n",
              "      <th>pixel0015</th>\n",
              "      <th>pixel0016</th>\n",
              "      <th>pixel0017</th>\n",
              "      <th>pixel0018</th>\n",
              "      <th>pixel0019</th>\n",
              "      <th>pixel0020</th>\n",
              "      <th>pixel0021</th>\n",
              "      <th>pixel0022</th>\n",
              "      <th>pixel0023</th>\n",
              "      <th>pixel0024</th>\n",
              "      <th>pixel0025</th>\n",
              "      <th>pixel0026</th>\n",
              "      <th>pixel0027</th>\n",
              "      <th>pixel0028</th>\n",
              "      <th>pixel0029</th>\n",
              "      <th>pixel0030</th>\n",
              "      <th>pixel0031</th>\n",
              "      <th>pixel0032</th>\n",
              "      <th>pixel0033</th>\n",
              "      <th>pixel0034</th>\n",
              "      <th>pixel0035</th>\n",
              "      <th>pixel0036</th>\n",
              "      <th>pixel0037</th>\n",
              "      <th>pixel0038</th>\n",
              "      <th>pixel0039</th>\n",
              "      <th>...</th>\n",
              "      <th>pixel2313</th>\n",
              "      <th>pixel2314</th>\n",
              "      <th>pixel2315</th>\n",
              "      <th>pixel2316</th>\n",
              "      <th>pixel2317</th>\n",
              "      <th>pixel2318</th>\n",
              "      <th>pixel2319</th>\n",
              "      <th>pixel2320</th>\n",
              "      <th>pixel2321</th>\n",
              "      <th>pixel2322</th>\n",
              "      <th>pixel2323</th>\n",
              "      <th>pixel2324</th>\n",
              "      <th>pixel2325</th>\n",
              "      <th>pixel2326</th>\n",
              "      <th>pixel2327</th>\n",
              "      <th>pixel2328</th>\n",
              "      <th>pixel2329</th>\n",
              "      <th>pixel2330</th>\n",
              "      <th>pixel2331</th>\n",
              "      <th>pixel2332</th>\n",
              "      <th>pixel2333</th>\n",
              "      <th>pixel2334</th>\n",
              "      <th>pixel2335</th>\n",
              "      <th>pixel2336</th>\n",
              "      <th>pixel2337</th>\n",
              "      <th>pixel2338</th>\n",
              "      <th>pixel2339</th>\n",
              "      <th>pixel2340</th>\n",
              "      <th>pixel2341</th>\n",
              "      <th>pixel2342</th>\n",
              "      <th>pixel2343</th>\n",
              "      <th>pixel2344</th>\n",
              "      <th>pixel2345</th>\n",
              "      <th>pixel2346</th>\n",
              "      <th>pixel2347</th>\n",
              "      <th>pixel2348</th>\n",
              "      <th>pixel2349</th>\n",
              "      <th>pixel2350</th>\n",
              "      <th>pixel2351</th>\n",
              "      <th>label</th>\n",
              "    </tr>\n",
              "  </thead>\n",
              "  <tbody>\n",
              "    <tr>\n",
              "      <th>10010</th>\n",
              "      <td>183</td>\n",
              "      <td>165</td>\n",
              "      <td>181</td>\n",
              "      <td>182</td>\n",
              "      <td>165</td>\n",
              "      <td>180</td>\n",
              "      <td>184</td>\n",
              "      <td>166</td>\n",
              "      <td>182</td>\n",
              "      <td>188</td>\n",
              "      <td>168</td>\n",
              "      <td>182</td>\n",
              "      <td>181</td>\n",
              "      <td>157</td>\n",
              "      <td>162</td>\n",
              "      <td>205</td>\n",
              "      <td>179</td>\n",
              "      <td>188</td>\n",
              "      <td>221</td>\n",
              "      <td>199</td>\n",
              "      <td>214</td>\n",
              "      <td>224</td>\n",
              "      <td>202</td>\n",
              "      <td>215</td>\n",
              "      <td>226</td>\n",
              "      <td>201</td>\n",
              "      <td>205</td>\n",
              "      <td>223</td>\n",
              "      <td>198</td>\n",
              "      <td>206</td>\n",
              "      <td>230</td>\n",
              "      <td>207</td>\n",
              "      <td>219</td>\n",
              "      <td>228</td>\n",
              "      <td>201</td>\n",
              "      <td>211</td>\n",
              "      <td>229</td>\n",
              "      <td>203</td>\n",
              "      <td>210</td>\n",
              "      <td>223</td>\n",
              "      <td>...</td>\n",
              "      <td>225</td>\n",
              "      <td>197</td>\n",
              "      <td>195</td>\n",
              "      <td>222</td>\n",
              "      <td>193</td>\n",
              "      <td>193</td>\n",
              "      <td>228</td>\n",
              "      <td>199</td>\n",
              "      <td>202</td>\n",
              "      <td>231</td>\n",
              "      <td>202</td>\n",
              "      <td>204</td>\n",
              "      <td>227</td>\n",
              "      <td>203</td>\n",
              "      <td>206</td>\n",
              "      <td>230</td>\n",
              "      <td>211</td>\n",
              "      <td>219</td>\n",
              "      <td>231</td>\n",
              "      <td>217</td>\n",
              "      <td>223</td>\n",
              "      <td>222</td>\n",
              "      <td>204</td>\n",
              "      <td>207</td>\n",
              "      <td>202</td>\n",
              "      <td>179</td>\n",
              "      <td>180</td>\n",
              "      <td>205</td>\n",
              "      <td>180</td>\n",
              "      <td>181</td>\n",
              "      <td>208</td>\n",
              "      <td>185</td>\n",
              "      <td>187</td>\n",
              "      <td>208</td>\n",
              "      <td>186</td>\n",
              "      <td>186</td>\n",
              "      <td>206</td>\n",
              "      <td>187</td>\n",
              "      <td>189</td>\n",
              "      <td>0</td>\n",
              "    </tr>\n",
              "    <tr>\n",
              "      <th>10011</th>\n",
              "      <td>2</td>\n",
              "      <td>3</td>\n",
              "      <td>1</td>\n",
              "      <td>38</td>\n",
              "      <td>33</td>\n",
              "      <td>32</td>\n",
              "      <td>121</td>\n",
              "      <td>104</td>\n",
              "      <td>103</td>\n",
              "      <td>132</td>\n",
              "      <td>111</td>\n",
              "      <td>107</td>\n",
              "      <td>130</td>\n",
              "      <td>108</td>\n",
              "      <td>104</td>\n",
              "      <td>136</td>\n",
              "      <td>112</td>\n",
              "      <td>111</td>\n",
              "      <td>148</td>\n",
              "      <td>125</td>\n",
              "      <td>125</td>\n",
              "      <td>155</td>\n",
              "      <td>132</td>\n",
              "      <td>134</td>\n",
              "      <td>157</td>\n",
              "      <td>132</td>\n",
              "      <td>132</td>\n",
              "      <td>164</td>\n",
              "      <td>138</td>\n",
              "      <td>137</td>\n",
              "      <td>187</td>\n",
              "      <td>161</td>\n",
              "      <td>161</td>\n",
              "      <td>198</td>\n",
              "      <td>172</td>\n",
              "      <td>173</td>\n",
              "      <td>202</td>\n",
              "      <td>175</td>\n",
              "      <td>175</td>\n",
              "      <td>209</td>\n",
              "      <td>...</td>\n",
              "      <td>207</td>\n",
              "      <td>179</td>\n",
              "      <td>179</td>\n",
              "      <td>195</td>\n",
              "      <td>164</td>\n",
              "      <td>162</td>\n",
              "      <td>197</td>\n",
              "      <td>168</td>\n",
              "      <td>169</td>\n",
              "      <td>203</td>\n",
              "      <td>176</td>\n",
              "      <td>180</td>\n",
              "      <td>192</td>\n",
              "      <td>165</td>\n",
              "      <td>165</td>\n",
              "      <td>188</td>\n",
              "      <td>162</td>\n",
              "      <td>162</td>\n",
              "      <td>184</td>\n",
              "      <td>162</td>\n",
              "      <td>164</td>\n",
              "      <td>185</td>\n",
              "      <td>162</td>\n",
              "      <td>163</td>\n",
              "      <td>161</td>\n",
              "      <td>137</td>\n",
              "      <td>135</td>\n",
              "      <td>155</td>\n",
              "      <td>132</td>\n",
              "      <td>129</td>\n",
              "      <td>96</td>\n",
              "      <td>79</td>\n",
              "      <td>76</td>\n",
              "      <td>24</td>\n",
              "      <td>23</td>\n",
              "      <td>21</td>\n",
              "      <td>3</td>\n",
              "      <td>4</td>\n",
              "      <td>1</td>\n",
              "      <td>0</td>\n",
              "    </tr>\n",
              "    <tr>\n",
              "      <th>10012</th>\n",
              "      <td>132</td>\n",
              "      <td>118</td>\n",
              "      <td>118</td>\n",
              "      <td>167</td>\n",
              "      <td>149</td>\n",
              "      <td>149</td>\n",
              "      <td>175</td>\n",
              "      <td>156</td>\n",
              "      <td>160</td>\n",
              "      <td>184</td>\n",
              "      <td>164</td>\n",
              "      <td>167</td>\n",
              "      <td>195</td>\n",
              "      <td>173</td>\n",
              "      <td>175</td>\n",
              "      <td>210</td>\n",
              "      <td>191</td>\n",
              "      <td>199</td>\n",
              "      <td>212</td>\n",
              "      <td>195</td>\n",
              "      <td>201</td>\n",
              "      <td>210</td>\n",
              "      <td>189</td>\n",
              "      <td>193</td>\n",
              "      <td>218</td>\n",
              "      <td>194</td>\n",
              "      <td>203</td>\n",
              "      <td>217</td>\n",
              "      <td>191</td>\n",
              "      <td>195</td>\n",
              "      <td>217</td>\n",
              "      <td>195</td>\n",
              "      <td>199</td>\n",
              "      <td>224</td>\n",
              "      <td>201</td>\n",
              "      <td>203</td>\n",
              "      <td>236</td>\n",
              "      <td>211</td>\n",
              "      <td>215</td>\n",
              "      <td>250</td>\n",
              "      <td>...</td>\n",
              "      <td>200</td>\n",
              "      <td>169</td>\n",
              "      <td>165</td>\n",
              "      <td>217</td>\n",
              "      <td>183</td>\n",
              "      <td>179</td>\n",
              "      <td>241</td>\n",
              "      <td>211</td>\n",
              "      <td>210</td>\n",
              "      <td>242</td>\n",
              "      <td>216</td>\n",
              "      <td>215</td>\n",
              "      <td>239</td>\n",
              "      <td>214</td>\n",
              "      <td>213</td>\n",
              "      <td>234</td>\n",
              "      <td>208</td>\n",
              "      <td>208</td>\n",
              "      <td>224</td>\n",
              "      <td>198</td>\n",
              "      <td>196</td>\n",
              "      <td>206</td>\n",
              "      <td>180</td>\n",
              "      <td>177</td>\n",
              "      <td>226</td>\n",
              "      <td>202</td>\n",
              "      <td>201</td>\n",
              "      <td>214</td>\n",
              "      <td>192</td>\n",
              "      <td>190</td>\n",
              "      <td>204</td>\n",
              "      <td>181</td>\n",
              "      <td>178</td>\n",
              "      <td>181</td>\n",
              "      <td>159</td>\n",
              "      <td>153</td>\n",
              "      <td>172</td>\n",
              "      <td>151</td>\n",
              "      <td>145</td>\n",
              "      <td>0</td>\n",
              "    </tr>\n",
              "    <tr>\n",
              "      <th>10013</th>\n",
              "      <td>160</td>\n",
              "      <td>124</td>\n",
              "      <td>146</td>\n",
              "      <td>164</td>\n",
              "      <td>131</td>\n",
              "      <td>152</td>\n",
              "      <td>167</td>\n",
              "      <td>127</td>\n",
              "      <td>146</td>\n",
              "      <td>169</td>\n",
              "      <td>124</td>\n",
              "      <td>142</td>\n",
              "      <td>173</td>\n",
              "      <td>134</td>\n",
              "      <td>149</td>\n",
              "      <td>177</td>\n",
              "      <td>139</td>\n",
              "      <td>156</td>\n",
              "      <td>181</td>\n",
              "      <td>141</td>\n",
              "      <td>159</td>\n",
              "      <td>183</td>\n",
              "      <td>137</td>\n",
              "      <td>154</td>\n",
              "      <td>185</td>\n",
              "      <td>139</td>\n",
              "      <td>160</td>\n",
              "      <td>185</td>\n",
              "      <td>145</td>\n",
              "      <td>165</td>\n",
              "      <td>186</td>\n",
              "      <td>148</td>\n",
              "      <td>162</td>\n",
              "      <td>189</td>\n",
              "      <td>157</td>\n",
              "      <td>170</td>\n",
              "      <td>190</td>\n",
              "      <td>155</td>\n",
              "      <td>169</td>\n",
              "      <td>191</td>\n",
              "      <td>...</td>\n",
              "      <td>189</td>\n",
              "      <td>141</td>\n",
              "      <td>159</td>\n",
              "      <td>192</td>\n",
              "      <td>167</td>\n",
              "      <td>179</td>\n",
              "      <td>193</td>\n",
              "      <td>173</td>\n",
              "      <td>183</td>\n",
              "      <td>192</td>\n",
              "      <td>171</td>\n",
              "      <td>181</td>\n",
              "      <td>190</td>\n",
              "      <td>164</td>\n",
              "      <td>171</td>\n",
              "      <td>190</td>\n",
              "      <td>162</td>\n",
              "      <td>171</td>\n",
              "      <td>190</td>\n",
              "      <td>168</td>\n",
              "      <td>179</td>\n",
              "      <td>194</td>\n",
              "      <td>177</td>\n",
              "      <td>187</td>\n",
              "      <td>192</td>\n",
              "      <td>170</td>\n",
              "      <td>180</td>\n",
              "      <td>186</td>\n",
              "      <td>163</td>\n",
              "      <td>165</td>\n",
              "      <td>185</td>\n",
              "      <td>162</td>\n",
              "      <td>167</td>\n",
              "      <td>184</td>\n",
              "      <td>157</td>\n",
              "      <td>166</td>\n",
              "      <td>185</td>\n",
              "      <td>162</td>\n",
              "      <td>172</td>\n",
              "      <td>0</td>\n",
              "    </tr>\n",
              "    <tr>\n",
              "      <th>10014</th>\n",
              "      <td>175</td>\n",
              "      <td>142</td>\n",
              "      <td>121</td>\n",
              "      <td>181</td>\n",
              "      <td>150</td>\n",
              "      <td>134</td>\n",
              "      <td>181</td>\n",
              "      <td>150</td>\n",
              "      <td>133</td>\n",
              "      <td>178</td>\n",
              "      <td>145</td>\n",
              "      <td>127</td>\n",
              "      <td>177</td>\n",
              "      <td>144</td>\n",
              "      <td>122</td>\n",
              "      <td>177</td>\n",
              "      <td>146</td>\n",
              "      <td>123</td>\n",
              "      <td>179</td>\n",
              "      <td>148</td>\n",
              "      <td>126</td>\n",
              "      <td>185</td>\n",
              "      <td>157</td>\n",
              "      <td>140</td>\n",
              "      <td>177</td>\n",
              "      <td>142</td>\n",
              "      <td>113</td>\n",
              "      <td>174</td>\n",
              "      <td>138</td>\n",
              "      <td>112</td>\n",
              "      <td>177</td>\n",
              "      <td>141</td>\n",
              "      <td>117</td>\n",
              "      <td>175</td>\n",
              "      <td>139</td>\n",
              "      <td>108</td>\n",
              "      <td>178</td>\n",
              "      <td>145</td>\n",
              "      <td>117</td>\n",
              "      <td>181</td>\n",
              "      <td>...</td>\n",
              "      <td>183</td>\n",
              "      <td>150</td>\n",
              "      <td>136</td>\n",
              "      <td>178</td>\n",
              "      <td>141</td>\n",
              "      <td>116</td>\n",
              "      <td>184</td>\n",
              "      <td>151</td>\n",
              "      <td>135</td>\n",
              "      <td>188</td>\n",
              "      <td>160</td>\n",
              "      <td>147</td>\n",
              "      <td>183</td>\n",
              "      <td>153</td>\n",
              "      <td>131</td>\n",
              "      <td>180</td>\n",
              "      <td>146</td>\n",
              "      <td>131</td>\n",
              "      <td>173</td>\n",
              "      <td>137</td>\n",
              "      <td>115</td>\n",
              "      <td>157</td>\n",
              "      <td>88</td>\n",
              "      <td>68</td>\n",
              "      <td>146</td>\n",
              "      <td>32</td>\n",
              "      <td>47</td>\n",
              "      <td>145</td>\n",
              "      <td>24</td>\n",
              "      <td>48</td>\n",
              "      <td>159</td>\n",
              "      <td>79</td>\n",
              "      <td>82</td>\n",
              "      <td>174</td>\n",
              "      <td>137</td>\n",
              "      <td>125</td>\n",
              "      <td>175</td>\n",
              "      <td>139</td>\n",
              "      <td>126</td>\n",
              "      <td>6</td>\n",
              "    </tr>\n",
              "  </tbody>\n",
              "</table>\n",
              "<p>5 rows × 2353 columns</p>\n",
              "</div>"
            ],
            "text/plain": [
              "       pixel0000  pixel0001  pixel0002  ...  pixel2350  pixel2351  label\n",
              "10010        183        165        181  ...        187        189      0\n",
              "10011          2          3          1  ...          4          1      0\n",
              "10012        132        118        118  ...        151        145      0\n",
              "10013        160        124        146  ...        162        172      0\n",
              "10014        175        142        121  ...        139        126      6\n",
              "\n",
              "[5 rows x 2353 columns]"
            ]
          },
          "metadata": {
            "tags": []
          },
          "execution_count": 5
        }
      ]
    },
    {
      "cell_type": "code",
      "metadata": {
        "id": "iILXCW2hsoDl"
      },
      "source": [
        "#reference https://github.com/rohanmandrekar/Cifar-10-/blob/master/best_attempt%28model7%29.ipynb\n",
        "\n",
        "fractions=np.array([0.8,0.2])\n",
        "df=df.sample(frac=1)\n",
        "train_set, test_set = np.array_split(\n",
        "    df, (fractions[:-1].cumsum() * len(df)).astype(int))"
      ],
      "execution_count": null,
      "outputs": []
    },
    {
      "cell_type": "code",
      "metadata": {
        "colab": {
          "base_uri": "https://localhost:8080/"
        },
        "id": "As38rXlQs1PY",
        "outputId": "4a4c0a8f-c482-4361-970d-91b66772d111"
      },
      "source": [
        "print(len(train_set))"
      ],
      "execution_count": null,
      "outputs": [
        {
          "output_type": "stream",
          "text": [
            "8012\n"
          ],
          "name": "stdout"
        }
      ]
    },
    {
      "cell_type": "code",
      "metadata": {
        "colab": {
          "base_uri": "https://localhost:8080/"
        },
        "id": "VY83gf_ss-x1",
        "outputId": "90d32248-388d-4a51-8c84-709f28ad40ea"
      },
      "source": [
        "print(len(test_set))"
      ],
      "execution_count": null,
      "outputs": [
        {
          "output_type": "stream",
          "text": [
            "2003\n"
          ],
          "name": "stdout"
        }
      ]
    },
    {
      "cell_type": "code",
      "metadata": {
        "colab": {
          "base_uri": "https://localhost:8080/"
        },
        "id": "3w2H4w0_ubRT",
        "outputId": "dbae1f38-d8fe-461b-c97f-7ac66834055b"
      },
      "source": [
        "df.label.unique()"
      ],
      "execution_count": null,
      "outputs": [
        {
          "output_type": "execute_result",
          "data": {
            "text/plain": [
              "array([4, 2, 6, 0, 1, 5, 3])"
            ]
          },
          "metadata": {
            "tags": []
          },
          "execution_count": 9
        }
      ]
    },
    {
      "cell_type": "code",
      "metadata": {
        "id": "lHk4p-sdugSa"
      },
      "source": [
        "# reference: https://www.kaggle.com/kmader/skin-cancer-mnist-ham10000/discussion/183083\n",
        "classes={0:('akiec', 'actinic keratoses and intraepithelial carcinomae'),\n",
        "         1:('bcc' , 'basal cell carcinoma'),\n",
        "         2:('bkl', 'benign keratosis-like lesions'),\n",
        "         3:('df', 'dermatofibroma'),\n",
        "         4:('nv', ' melanocytic nevi'),\n",
        "         5:('vasc', ' pyogenic granulomas and hemorrhage'),\n",
        "         6:('mel', 'melanoma'),}"
      ],
      "execution_count": null,
      "outputs": []
    },
    {
      "cell_type": "code",
      "metadata": {
        "id": "2W5sBRkZtBr9"
      },
      "source": [
        "y_train=train_set['label']\n",
        "x_train=train_set.drop(columns=['label'])\n",
        "y_test=test_set['label']\n",
        "x_test=test_set.drop(columns=['label'])\n",
        "\n",
        "columns=list(x_train)"
      ],
      "execution_count": null,
      "outputs": []
    },
    {
      "cell_type": "code",
      "metadata": {
        "colab": {
          "base_uri": "https://localhost:8080/"
        },
        "id": "JzQneFTdtWO1",
        "outputId": "89c18639-1252-495f-e905-649a8688e6a0"
      },
      "source": [
        "import torch\n",
        "device = torch.device(\"cuda:0\" if torch.cuda.is_available() else \"cpu\")\n",
        "print(device)"
      ],
      "execution_count": null,
      "outputs": [
        {
          "output_type": "stream",
          "text": [
            "cuda:0\n"
          ],
          "name": "stdout"
        }
      ]
    },
    {
      "cell_type": "code",
      "metadata": {
        "colab": {
          "base_uri": "https://localhost:8080/",
          "height": 349
        },
        "id": "Tv4196QOhtmI",
        "outputId": "8ce0125a-efea-4867-a55c-4e4315c33e53"
      },
      "source": [
        "import seaborn as sns\n",
        "\n",
        "sns.countplot(train_set['label'])"
      ],
      "execution_count": null,
      "outputs": [
        {
          "output_type": "stream",
          "text": [
            "/usr/local/lib/python3.7/dist-packages/seaborn/_decorators.py:43: FutureWarning: Pass the following variable as a keyword arg: x. From version 0.12, the only valid positional argument will be `data`, and passing other arguments without an explicit keyword will result in an error or misinterpretation.\n",
            "  FutureWarning\n"
          ],
          "name": "stderr"
        },
        {
          "output_type": "execute_result",
          "data": {
            "text/plain": [
              "<matplotlib.axes._subplots.AxesSubplot at 0x7f136c24b390>"
            ]
          },
          "metadata": {
            "tags": []
          },
          "execution_count": 30
        },
        {
          "output_type": "display_data",
          "data": {
            "image/png": "[encoded data removed]",
            "text/plain": [
              "<Figure size 432x288 with 1 Axes>"
            ]
          },
          "metadata": {
            "tags": [],
            "needs_background": "light"
          }
        }
      ]
    },
    {
      "cell_type": "code",
      "metadata": {
        "colab": {
          "base_uri": "https://localhost:8080/"
        },
        "id": "CKIlAJY9pwh1",
        "outputId": "00c0bef5-7ace-452a-8bce-9970da6dcd93"
      },
      "source": [
        "from imblearn.over_sampling import RandomOverSampler \n",
        "oversample = RandomOverSampler()\n",
        "x_train,y_train  = oversample.fit_resample(x_train,y_train)"
      ],
      "execution_count": null,
      "outputs": [
        {
          "output_type": "stream",
          "text": [
            "/usr/local/lib/python3.7/dist-packages/sklearn/externals/six.py:31: FutureWarning: The module is deprecated in version 0.21 and will be removed in version 0.23 since we've dropped support for Python 2.7. Please rely on the official version of six (https://pypi.org/project/six/).\n",
            "  \"(https://pypi.org/project/six/).\", FutureWarning)\n",
            "/usr/local/lib/python3.7/dist-packages/sklearn/utils/deprecation.py:144: FutureWarning: The sklearn.neighbors.base module is  deprecated in version 0.22 and will be removed in version 0.24. The corresponding classes / functions should instead be imported from sklearn.neighbors. Anything that cannot be imported from sklearn.neighbors is now part of the private API.\n",
            "  warnings.warn(message, FutureWarning)\n",
            "/usr/local/lib/python3.7/dist-packages/sklearn/utils/deprecation.py:87: FutureWarning: Function safe_indexing is deprecated; safe_indexing is deprecated in version 0.22 and will be removed in version 0.24.\n",
            "  warnings.warn(msg, category=FutureWarning)\n"
          ],
          "name": "stderr"
        }
      ]
    },
    {
      "cell_type": "code",
      "metadata": {
        "colab": {
          "base_uri": "https://localhost:8080/",
          "height": 335
        },
        "id": "tM_GikKFiJuK",
        "outputId": "122c7c47-24dd-4f0a-86e6-4f3a59cb6524"
      },
      "source": [
        "sns.countplot(y_train)"
      ],
      "execution_count": null,
      "outputs": [
        {
          "output_type": "stream",
          "text": [
            "/usr/local/lib/python3.7/dist-packages/seaborn/_decorators.py:43: FutureWarning: Pass the following variable as a keyword arg: x. From version 0.12, the only valid positional argument will be `data`, and passing other arguments without an explicit keyword will result in an error or misinterpretation.\n",
            "  FutureWarning\n"
          ],
          "name": "stderr"
        },
        {
          "output_type": "execute_result",
          "data": {
            "text/plain": [
              "<matplotlib.axes._subplots.AxesSubplot at 0x7f136c0baf10>"
            ]
          },
          "metadata": {
            "tags": []
          },
          "execution_count": 31
        },
        {
          "output_type": "display_data",
          "data": {
            "image/png": "[encoded data removed]",
            "text/plain": [
              "<Figure size 432x288 with 1 Axes>"
            ]
          },
          "metadata": {
            "tags": [],
            "needs_background": "light"
          }
        }
      ]
    },
    {
      "cell_type": "code",
      "metadata": {
        "colab": {
          "base_uri": "https://localhost:8080/",
          "height": 809
        },
        "id": "84ADzEUx5R9I",
        "outputId": "c5c78d7f-dc60-4d80-b190-98b55367048b"
      },
      "source": [
        "import matplotlib.pyplot as plt\n",
        "import random\n",
        "num=random.randint(0,8000)\n",
        "x_train=np.array(x_train, dtype=np.uint8).reshape(-1,28,28,3)\n",
        "\n",
        "plt.imshow(x_train[num].reshape(28,28,3))\n",
        "plt.title(\"Random image from training data\")\n",
        "plt.show()\n",
        "num=random.randint(0,8000)\n",
        "plt.imshow(x_train[num].reshape(28,28,3))\n",
        "plt.title(\"Random image from training data\")\n",
        "plt.show()\n",
        "\n",
        "num=random.randint(0,8000)\n",
        "plt.imshow(x_train[num].reshape(28,28,3))\n",
        "plt.title(\"Random image from training data\")\n",
        "plt.show()"
      ],
      "execution_count": null,
      "outputs": [
        {
          "output_type": "display_data",
          "data": {
            "image/png": "[encoded data removed]",
            "text/plain": [
              "<Figure size 432x288 with 1 Axes>"
            ]
          },
          "metadata": {
            "tags": [],
            "needs_background": "light"
          }
        },
        {
          "output_type": "display_data",
          "data": {
            "image/png": "[encoded data removed]",
            "text/plain": [
              "<Figure size 432x288 with 1 Axes>"
            ]
          },
          "metadata": {
            "tags": [],
            "needs_background": "light"
          }
        },
        {
          "output_type": "display_data",
          "data": {
            "image/png": "[encoded data removed]",
            "text/plain": [
              "<Figure size 432x288 with 1 Axes>"
            ]
          },
          "metadata": {
            "tags": [],
            "needs_background": "light"
          }
        }
      ]
    },
    {
      "cell_type": "code",
      "metadata": {
        "id": "obmDZia7Sxnn"
      },
      "source": [
        "from tensorflow.keras.models import Sequential\n",
        "from tensorflow.keras.layers import Conv2D, Flatten, Dense, MaxPool2D\n",
        "import tensorflow as tf"
      ],
      "execution_count": null,
      "outputs": []
    },
    {
      "cell_type": "code",
      "metadata": {
        "colab": {
          "base_uri": "https://localhost:8080/"
        },
        "id": "Vsll2hd2wzuS",
        "outputId": "68f88461-8b13-47ef-be43-b70a76f22abb"
      },
      "source": [
        "model = Sequential()\n",
        "model.add(Conv2D(16, kernel_size = (3,3), input_shape = (28, 28, 3), activation = 'relu', padding = 'same'))\n",
        "model.add(MaxPool2D(pool_size = (2,2)))\n",
        "model.add(tf.keras.layers.BatchNormalization())\n",
        "model.add(Conv2D(32, kernel_size = (3,3), activation = 'relu'))\n",
        "model.add(Conv2D(64, kernel_size = (3,3), activation = 'relu'))\n",
        "model.add(MaxPool2D(pool_size = (2,2)))\n",
        "model.add(tf.keras.layers.BatchNormalization())\n",
        "model.add(Conv2D(128, kernel_size = (3,3), activation = 'relu'))\n",
        "model.add(Conv2D(256, kernel_size = (3,3), activation = 'relu'))\n",
        "model.add(Flatten())\n",
        "model.add(tf.keras.layers.Dropout(0.2))\n",
        "model.add(Dense(256,activation='relu'))\n",
        "model.add(tf.keras.layers.BatchNormalization())\n",
        "model.add(tf.keras.layers.Dropout(0.2))\n",
        "model.add(Dense(128,activation='relu'))\n",
        "model.add(tf.keras.layers.BatchNormalization())\n",
        "model.add(Dense(64,activation='relu'))\n",
        "model.add(tf.keras.layers.BatchNormalization())\n",
        "model.add(tf.keras.layers.Dropout(0.2))\n",
        "model.add(Dense(32,activation='relu'))\n",
        "model.add(tf.keras.layers.BatchNormalization())\n",
        "model.add(Dense(7,activation='softmax'))\n",
        "\n",
        "model.summary()"
      ],
      "execution_count": null,
      "outputs": [
        {
          "output_type": "stream",
          "text": [
            "Model: \"sequential\"\n",
            "_________________________________________________________________\n",
            "Layer (type)                 Output Shape              Param #   \n",
            "=================================================================\n",
            "conv2d (Conv2D)              (None, 28, 28, 16)        448       \n",
            "_________________________________________________________________\n",
            "max_pooling2d (MaxPooling2D) (None, 14, 14, 16)        0         \n",
            "_________________________________________________________________\n",
            "batch_normalization (BatchNo (None, 14, 14, 16)        64        \n",
            "_________________________________________________________________\n",
            "conv2d_1 (Conv2D)            (None, 12, 12, 32)        4640      \n",
            "_________________________________________________________________\n",
            "conv2d_2 (Conv2D)            (None, 10, 10, 64)        18496     \n",
            "_________________________________________________________________\n",
            "max_pooling2d_1 (MaxPooling2 (None, 5, 5, 64)          0         \n",
            "_________________________________________________________________\n",
            "batch_normalization_1 (Batch (None, 5, 5, 64)          256       \n",
            "_________________________________________________________________\n",
            "conv2d_3 (Conv2D)            (None, 3, 3, 128)         73856     \n",
            "_________________________________________________________________\n",
            "conv2d_4 (Conv2D)            (None, 1, 1, 256)         295168    \n",
            "_________________________________________________________________\n",
            "flatten (Flatten)            (None, 256)               0         \n",
            "_________________________________________________________________\n",
            "dropout (Dropout)            (None, 256)               0         \n",
            "_________________________________________________________________\n",
            "dense (Dense)                (None, 256)               65792     \n",
            "_________________________________________________________________\n",
            "batch_normalization_2 (Batch (None, 256)               1024      \n",
            "_________________________________________________________________\n",
            "dropout_1 (Dropout)          (None, 256)               0         \n",
            "_________________________________________________________________\n",
            "dense_1 (Dense)              (None, 128)               32896     \n",
            "_________________________________________________________________\n",
            "batch_normalization_3 (Batch (None, 128)               512       \n",
            "_________________________________________________________________\n",
            "dense_2 (Dense)              (None, 64)                8256      \n",
            "_________________________________________________________________\n",
            "batch_normalization_4 (Batch (None, 64)                256       \n",
            "_________________________________________________________________\n",
            "dropout_2 (Dropout)          (None, 64)                0         \n",
            "_________________________________________________________________\n",
            "dense_3 (Dense)              (None, 32)                2080      \n",
            "_________________________________________________________________\n",
            "batch_normalization_5 (Batch (None, 32)                128       \n",
            "_________________________________________________________________\n",
            "dense_4 (Dense)              (None, 7)                 231       \n",
            "=================================================================\n",
            "Total params: 504,103\n",
            "Trainable params: 502,983\n",
            "Non-trainable params: 1,120\n",
            "_________________________________________________________________\n"
          ],
          "name": "stdout"
        }
      ]
    },
    {
      "cell_type": "code",
      "metadata": {
        "id": "g4B4-f7ehUIW"
      },
      "source": [
        "#reference: https://www.kaggle.com/dhruv1234/ham10000-skin-disease-classification\n",
        "callback = tf.keras.callbacks.ModelCheckpoint(filepath='/content/drive/My Drive/Colab Notebooks/Skin Cancer/best_model.h5',\n",
        "                                                  monitor='val_acc', mode='max',\n",
        "                                                 verbose=1, save_best_only=True)"
      ],
      "execution_count": null,
      "outputs": []
    },
    {
      "cell_type": "code",
      "metadata": {
        "colab": {
          "base_uri": "https://localhost:8080/"
        },
        "id": "1XgBEIh5hY63",
        "outputId": "5b013bab-cc5b-45f7-e787-f2fbca02f906"
      },
      "source": [
        "optimizer=tf.keras.optimizers.Adam(lr=0.001)\n",
        "model.compile(loss = 'sparse_categorical_crossentropy',\n",
        "             optimizer =optimizer,\n",
        "              metrics = ['accuracy'])\n",
        "history = model.fit(x_train,\n",
        "                    y_train,\n",
        "                    validation_split=0.2,\n",
        "                    batch_size = 128,\n",
        "                    epochs = 50,\n",
        "                    shuffle=True,\n",
        "                    callbacks=[callback])"
      ],
      "execution_count": null,
      "outputs": [
        {
          "output_type": "stream",
          "text": [
            "Epoch 1/50\n",
            "236/236 [==============================] - 37s 12ms/step - loss: 1.6733 - accuracy: 0.3944 - val_loss: 3.9914 - val_accuracy: 0.0181\n",
            "WARNING:tensorflow:Can save best model only with val_acc available, skipping.\n",
            "Epoch 2/50\n",
            "236/236 [==============================] - 2s 9ms/step - loss: 0.5328 - accuracy: 0.8270 - val_loss: 2.6733 - val_accuracy: 0.1615\n",
            "WARNING:tensorflow:Can save best model only with val_acc available, skipping.\n",
            "Epoch 3/50\n",
            "236/236 [==============================] - 2s 8ms/step - loss: 0.2785 - accuracy: 0.9074 - val_loss: 1.0975 - val_accuracy: 0.4679\n",
            "WARNING:tensorflow:Can save best model only with val_acc available, skipping.\n",
            "Epoch 4/50\n",
            "236/236 [==============================] - 2s 9ms/step - loss: 0.2110 - accuracy: 0.9290 - val_loss: 1.1814 - val_accuracy: 0.5406\n",
            "WARNING:tensorflow:Can save best model only with val_acc available, skipping.\n",
            "Epoch 5/50\n",
            "236/236 [==============================] - 2s 9ms/step - loss: 0.1575 - accuracy: 0.9474 - val_loss: 1.2746 - val_accuracy: 0.5673\n",
            "WARNING:tensorflow:Can save best model only with val_acc available, skipping.\n",
            "Epoch 6/50\n",
            "236/236 [==============================] - 2s 9ms/step - loss: 0.1489 - accuracy: 0.9498 - val_loss: 0.6498 - val_accuracy: 0.6792\n",
            "WARNING:tensorflow:Can save best model only with val_acc available, skipping.\n",
            "Epoch 7/50\n",
            "236/236 [==============================] - 2s 9ms/step - loss: 0.1218 - accuracy: 0.9587 - val_loss: 0.9433 - val_accuracy: 0.6222\n",
            "WARNING:tensorflow:Can save best model only with val_acc available, skipping.\n",
            "Epoch 8/50\n",
            "236/236 [==============================] - 2s 9ms/step - loss: 0.1007 - accuracy: 0.9632 - val_loss: 0.4668 - val_accuracy: 0.8008\n",
            "WARNING:tensorflow:Can save best model only with val_acc available, skipping.\n",
            "Epoch 9/50\n",
            "236/236 [==============================] - 2s 9ms/step - loss: 0.0880 - accuracy: 0.9707 - val_loss: 1.2971 - val_accuracy: 0.5909\n",
            "WARNING:tensorflow:Can save best model only with val_acc available, skipping.\n",
            "Epoch 10/50\n",
            "236/236 [==============================] - 2s 9ms/step - loss: 0.1000 - accuracy: 0.9665 - val_loss: 1.2043 - val_accuracy: 0.5758\n",
            "WARNING:tensorflow:Can save best model only with val_acc available, skipping.\n",
            "Epoch 11/50\n",
            "236/236 [==============================] - 2s 9ms/step - loss: 0.0638 - accuracy: 0.9781 - val_loss: 0.4201 - val_accuracy: 0.8179\n",
            "WARNING:tensorflow:Can save best model only with val_acc available, skipping.\n",
            "Epoch 12/50\n",
            "236/236 [==============================] - 2s 9ms/step - loss: 0.0771 - accuracy: 0.9726 - val_loss: 0.7321 - val_accuracy: 0.7606\n",
            "WARNING:tensorflow:Can save best model only with val_acc available, skipping.\n",
            "Epoch 13/50\n",
            "236/236 [==============================] - 2s 9ms/step - loss: 0.0515 - accuracy: 0.9817 - val_loss: 0.2018 - val_accuracy: 0.9291\n",
            "WARNING:tensorflow:Can save best model only with val_acc available, skipping.\n",
            "Epoch 14/50\n",
            "236/236 [==============================] - 2s 9ms/step - loss: 0.0600 - accuracy: 0.9782 - val_loss: 0.5309 - val_accuracy: 0.8191\n",
            "WARNING:tensorflow:Can save best model only with val_acc available, skipping.\n",
            "Epoch 15/50\n",
            "236/236 [==============================] - 2s 9ms/step - loss: 0.0514 - accuracy: 0.9832 - val_loss: 0.6234 - val_accuracy: 0.7361\n",
            "WARNING:tensorflow:Can save best model only with val_acc available, skipping.\n",
            "Epoch 16/50\n",
            "236/236 [==============================] - 2s 9ms/step - loss: 0.0426 - accuracy: 0.9860 - val_loss: 0.2421 - val_accuracy: 0.9058\n",
            "WARNING:tensorflow:Can save best model only with val_acc available, skipping.\n",
            "Epoch 17/50\n",
            "236/236 [==============================] - 2s 9ms/step - loss: 0.0400 - accuracy: 0.9860 - val_loss: 0.8708 - val_accuracy: 0.7798\n",
            "WARNING:tensorflow:Can save best model only with val_acc available, skipping.\n",
            "Epoch 18/50\n",
            "236/236 [==============================] - 2s 9ms/step - loss: 0.0585 - accuracy: 0.9804 - val_loss: 0.1204 - val_accuracy: 0.9513\n",
            "WARNING:tensorflow:Can save best model only with val_acc available, skipping.\n",
            "Epoch 19/50\n",
            "236/236 [==============================] - 2s 9ms/step - loss: 0.0267 - accuracy: 0.9909 - val_loss: 0.5007 - val_accuracy: 0.7959\n",
            "WARNING:tensorflow:Can save best model only with val_acc available, skipping.\n",
            "Epoch 20/50\n",
            "236/236 [==============================] - 2s 9ms/step - loss: 0.0362 - accuracy: 0.9891 - val_loss: 0.4549 - val_accuracy: 0.8487\n",
            "WARNING:tensorflow:Can save best model only with val_acc available, skipping.\n",
            "Epoch 21/50\n",
            "236/236 [==============================] - 2s 9ms/step - loss: 0.0377 - accuracy: 0.9875 - val_loss: 0.2589 - val_accuracy: 0.9123\n",
            "WARNING:tensorflow:Can save best model only with val_acc available, skipping.\n",
            "Epoch 22/50\n",
            "236/236 [==============================] - 2s 9ms/step - loss: 0.0328 - accuracy: 0.9891 - val_loss: 0.5023 - val_accuracy: 0.8825\n",
            "WARNING:tensorflow:Can save best model only with val_acc available, skipping.\n",
            "Epoch 23/50\n",
            "236/236 [==============================] - 2s 9ms/step - loss: 0.0245 - accuracy: 0.9923 - val_loss: 0.3384 - val_accuracy: 0.8872\n",
            "WARNING:tensorflow:Can save best model only with val_acc available, skipping.\n",
            "Epoch 24/50\n",
            "236/236 [==============================] - 2s 9ms/step - loss: 0.0202 - accuracy: 0.9930 - val_loss: 0.4415 - val_accuracy: 0.8671\n",
            "WARNING:tensorflow:Can save best model only with val_acc available, skipping.\n",
            "Epoch 25/50\n",
            "236/236 [==============================] - 2s 9ms/step - loss: 0.0457 - accuracy: 0.9858 - val_loss: 0.9919 - val_accuracy: 0.8021\n",
            "WARNING:tensorflow:Can save best model only with val_acc available, skipping.\n",
            "Epoch 26/50\n",
            "236/236 [==============================] - 2s 9ms/step - loss: 0.0234 - accuracy: 0.9924 - val_loss: 0.1047 - val_accuracy: 0.9636\n",
            "WARNING:tensorflow:Can save best model only with val_acc available, skipping.\n",
            "Epoch 27/50\n",
            "236/236 [==============================] - 2s 9ms/step - loss: 0.0241 - accuracy: 0.9919 - val_loss: 0.0783 - val_accuracy: 0.9696\n",
            "WARNING:tensorflow:Can save best model only with val_acc available, skipping.\n",
            "Epoch 28/50\n",
            "236/236 [==============================] - 2s 9ms/step - loss: 0.0154 - accuracy: 0.9954 - val_loss: 0.6152 - val_accuracy: 0.8626\n",
            "WARNING:tensorflow:Can save best model only with val_acc available, skipping.\n",
            "Epoch 29/50\n",
            "236/236 [==============================] - 2s 9ms/step - loss: 0.0293 - accuracy: 0.9913 - val_loss: 0.1355 - val_accuracy: 0.9583\n",
            "WARNING:tensorflow:Can save best model only with val_acc available, skipping.\n",
            "Epoch 30/50\n",
            "236/236 [==============================] - 2s 9ms/step - loss: 0.0276 - accuracy: 0.9914 - val_loss: 0.1463 - val_accuracy: 0.9457\n",
            "WARNING:tensorflow:Can save best model only with val_acc available, skipping.\n",
            "Epoch 31/50\n",
            "236/236 [==============================] - 2s 9ms/step - loss: 0.0293 - accuracy: 0.9908 - val_loss: 0.1051 - val_accuracy: 0.9673\n",
            "WARNING:tensorflow:Can save best model only with val_acc available, skipping.\n",
            "Epoch 32/50\n",
            "236/236 [==============================] - 2s 9ms/step - loss: 0.0220 - accuracy: 0.9928 - val_loss: 0.0437 - val_accuracy: 0.9855\n",
            "WARNING:tensorflow:Can save best model only with val_acc available, skipping.\n",
            "Epoch 33/50\n",
            "236/236 [==============================] - 2s 9ms/step - loss: 0.0108 - accuracy: 0.9965 - val_loss: 0.8492 - val_accuracy: 0.7587\n",
            "WARNING:tensorflow:Can save best model only with val_acc available, skipping.\n",
            "Epoch 34/50\n",
            "236/236 [==============================] - 2s 9ms/step - loss: 0.0235 - accuracy: 0.9927 - val_loss: 0.0861 - val_accuracy: 0.9728\n",
            "WARNING:tensorflow:Can save best model only with val_acc available, skipping.\n",
            "Epoch 35/50\n",
            "236/236 [==============================] - 2s 9ms/step - loss: 0.0205 - accuracy: 0.9930 - val_loss: 0.4874 - val_accuracy: 0.8548\n",
            "WARNING:tensorflow:Can save best model only with val_acc available, skipping.\n",
            "Epoch 36/50\n",
            "236/236 [==============================] - 2s 9ms/step - loss: 0.0152 - accuracy: 0.9949 - val_loss: 0.7254 - val_accuracy: 0.8180\n",
            "WARNING:tensorflow:Can save best model only with val_acc available, skipping.\n",
            "Epoch 37/50\n",
            "236/236 [==============================] - 2s 9ms/step - loss: 0.0114 - accuracy: 0.9965 - val_loss: 0.5411 - val_accuracy: 0.8598\n",
            "WARNING:tensorflow:Can save best model only with val_acc available, skipping.\n",
            "Epoch 38/50\n",
            "236/236 [==============================] - 2s 9ms/step - loss: 0.0113 - accuracy: 0.9964 - val_loss: 0.1844 - val_accuracy: 0.9397\n",
            "WARNING:tensorflow:Can save best model only with val_acc available, skipping.\n",
            "Epoch 39/50\n",
            "236/236 [==============================] - 2s 9ms/step - loss: 0.0207 - accuracy: 0.9936 - val_loss: 0.0750 - val_accuracy: 0.9716\n",
            "WARNING:tensorflow:Can save best model only with val_acc available, skipping.\n",
            "Epoch 40/50\n",
            "236/236 [==============================] - 2s 9ms/step - loss: 0.0204 - accuracy: 0.9937 - val_loss: 0.1159 - val_accuracy: 0.9636\n",
            "WARNING:tensorflow:Can save best model only with val_acc available, skipping.\n",
            "Epoch 41/50\n",
            "236/236 [==============================] - 2s 9ms/step - loss: 0.0122 - accuracy: 0.9956 - val_loss: 0.1769 - val_accuracy: 0.9413\n",
            "WARNING:tensorflow:Can save best model only with val_acc available, skipping.\n",
            "Epoch 42/50\n",
            "236/236 [==============================] - 2s 9ms/step - loss: 0.0132 - accuracy: 0.9959 - val_loss: 0.1666 - val_accuracy: 0.9529\n",
            "WARNING:tensorflow:Can save best model only with val_acc available, skipping.\n",
            "Epoch 43/50\n",
            "236/236 [==============================] - 2s 9ms/step - loss: 0.0176 - accuracy: 0.9950 - val_loss: 0.1825 - val_accuracy: 0.9435\n",
            "WARNING:tensorflow:Can save best model only with val_acc available, skipping.\n",
            "Epoch 44/50\n",
            "236/236 [==============================] - 2s 9ms/step - loss: 0.0135 - accuracy: 0.9954 - val_loss: 0.2774 - val_accuracy: 0.9158\n",
            "WARNING:tensorflow:Can save best model only with val_acc available, skipping.\n",
            "Epoch 45/50\n",
            "236/236 [==============================] - 2s 9ms/step - loss: 0.0139 - accuracy: 0.9953 - val_loss: 0.4016 - val_accuracy: 0.8845\n",
            "WARNING:tensorflow:Can save best model only with val_acc available, skipping.\n",
            "Epoch 46/50\n",
            "236/236 [==============================] - 2s 9ms/step - loss: 0.0059 - accuracy: 0.9981 - val_loss: 1.2483 - val_accuracy: 0.7620\n",
            "WARNING:tensorflow:Can save best model only with val_acc available, skipping.\n",
            "Epoch 47/50\n",
            "236/236 [==============================] - 2s 9ms/step - loss: 0.0197 - accuracy: 0.9944 - val_loss: 0.2131 - val_accuracy: 0.9350\n",
            "WARNING:tensorflow:Can save best model only with val_acc available, skipping.\n",
            "Epoch 48/50\n",
            "236/236 [==============================] - 2s 9ms/step - loss: 0.0185 - accuracy: 0.9946 - val_loss: 0.0492 - val_accuracy: 0.9841\n",
            "WARNING:tensorflow:Can save best model only with val_acc available, skipping.\n",
            "Epoch 49/50\n",
            "236/236 [==============================] - 2s 9ms/step - loss: 0.0082 - accuracy: 0.9973 - val_loss: 0.0199 - val_accuracy: 0.9934\n",
            "WARNING:tensorflow:Can save best model only with val_acc available, skipping.\n",
            "Epoch 50/50\n",
            "236/236 [==============================] - 2s 9ms/step - loss: 0.0069 - accuracy: 0.9978 - val_loss: 0.3051 - val_accuracy: 0.9068\n",
            "WARNING:tensorflow:Can save best model only with val_acc available, skipping.\n"
          ],
          "name": "stdout"
        }
      ]
    },
    {
      "cell_type": "code",
      "metadata": {
        "colab": {
          "base_uri": "https://localhost:8080/",
          "height": 295
        },
        "id": "qieCeDDGnEh3",
        "outputId": "09fc1ae5-fa2b-4ecc-e606-6b3c3350e1fc"
      },
      "source": [
        "plt.plot(history.history['accuracy'])\n",
        "plt.plot(history.history['val_accuracy'])\n",
        "plt.title('model accuracy')\n",
        "plt.ylabel('accuracy')\n",
        "plt.xlabel('epoch')\n",
        "plt.legend(['train', 'val'], loc='upper left')\n",
        "plt.show()\n"
      ],
      "execution_count": null,
      "outputs": [
        {
          "output_type": "display_data",
          "data": {
            "image/png": "[encoded data removed]",
            "text/plain": [
              "<Figure size 432x288 with 1 Axes>"
            ]
          },
          "metadata": {
            "tags": [],
            "needs_background": "light"
          }
        }
      ]
    },
    {
      "cell_type": "code",
      "metadata": {
        "colab": {
          "base_uri": "https://localhost:8080/",
          "height": 295
        },
        "id": "8gK_9yQotuky",
        "outputId": "8bd093e5-a0af-4f8c-86dc-faf5e9a36afa"
      },
      "source": [
        "plt.plot(history.history['loss'])\n",
        "plt.plot(history.history['val_loss'])\n",
        "plt.title('model loss')\n",
        "plt.ylabel('loss')\n",
        "plt.xlabel('epoch')\n",
        "plt.legend(['train', 'val'], loc='upper left')\n",
        "plt.show()"
      ],
      "execution_count": null,
      "outputs": [
        {
          "output_type": "display_data",
          "data": {
            "image/png": "[encoded data removed]",
            "text/plain": [
              "<Figure size 432x288 with 1 Axes>"
            ]
          },
          "metadata": {
            "tags": [],
            "needs_background": "light"
          }
        }
      ]
    },
    {
      "cell_type": "code",
      "metadata": {
        "id": "w9uqTVqftz1w"
      },
      "source": [
        "model.load_weights('/content/drive/My Drive/Colab Notebooks/Skin Cancer/best_model.h5')"
      ],
      "execution_count": null,
      "outputs": []
    },
    {
      "cell_type": "code",
      "metadata": {
        "colab": {
          "base_uri": "https://localhost:8080/"
        },
        "id": "lzqOpvxMt2Xb",
        "outputId": "2584dd10-f261-43df-e2f8-692f2e16306e"
      },
      "source": [
        "x_test=np.array(x_test).reshape(-1,28,28,3)\n",
        "loss, acc = model.evaluate(x_test, y_test, verbose=2)"
      ],
      "execution_count": null,
      "outputs": [
        {
          "output_type": "stream",
          "text": [
            "63/63 - 1s - loss: 0.2194 - accuracy: 0.9521\n"
          ],
          "name": "stdout"
        }
      ]
    },
    {
      "cell_type": "code",
      "metadata": {
        "id": "ouu5LJMLt7TF",
        "colab": {
          "base_uri": "https://localhost:8080/"
        },
        "outputId": "b724b16e-d0f8-46cc-8a8a-c65f9764accc"
      },
      "source": [
        "import PIL\n",
        "image=PIL.Image.open('/content/drive/My Drive/Colab Notebooks/Skin Cancer/tester.jpg')\n",
        "image=image.resize((28,28))\n",
        "img=np.array(image).reshape(-1,28,28,3)\n",
        "result=model.predict(img)\n",
        "result=result.tolist()\n",
        "class_ind=result.index(max(result))\n",
        "print(classes[class_ind])"
      ],
      "execution_count": null,
      "outputs": [
        {
          "output_type": "stream",
          "text": [
            "('akiec', 'actinic keratoses and intraepithelial carcinomae')\n"
          ],
          "name": "stdout"
        }
      ]
    }
  ]
}