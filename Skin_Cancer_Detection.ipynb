{
  "nbformat": 4,
  "nbformat_minor": 0,
  "metadata": {
    "accelerator": "GPU",
    "colab": {
      "name": "Skin Cancer Detection.ipynb",
      "provenance": []
    },
    "kernelspec": {
      "display_name": "Python 3",
      "name": "python3"
    },
    "language_info": {
      "name": "python"
    }
  },
  "cells": [
    {
      "cell_type": "code",
      "metadata": {
        "id": "kES_rD67rrG6"
      },
      "source": [
        "import pandas as pd\n",
        "import numpy as np\n",
        "\n"
      ],
      "execution_count": 2,
      "outputs": []
    },
    {
      "cell_type": "code",
      "metadata": {
        "colab": {
          "base_uri": "https://localhost:8080/"
        },
        "id": "7zE639BQsKs7",
        "outputId": "d8784783-4f99-4b19-a3e1-e73c93f94207"
      },
      "source": [
        "from google.colab import drive\n",
        "drive.mount(\"/content/drive/\")"
      ],
      "execution_count": 3,
      "outputs": [
        {
          "output_type": "stream",
          "text": [
            "Drive already mounted at /content/drive/; to attempt to forcibly remount, call drive.mount(\"/content/drive/\", force_remount=True).\n"
          ],
          "name": "stdout"
        }
      ]
    },
    {
      "cell_type": "code",
      "metadata": {
        "id": "g7tDvsg5sNZK"
      },
      "source": [
        "path='/content/drive/My Drive/Colab Notebooks/Skin Cancer/hmnist_28_28_RGB.csv'\n"
      ],
      "execution_count": 4,
      "outputs": []
    },
    {
      "cell_type": "code",
      "metadata": {
        "id": "TSlPUvq-sfo4"
      },
      "source": [
        "df=pd.read_csv(path)"
      ],
      "execution_count": 5,
      "outputs": []
    },
    {
      "cell_type": "code",
      "metadata": {
        "colab": {
          "base_uri": "https://localhost:8080/",
          "height": 245
        },
        "id": "-XZB67tXslAf",
        "outputId": "f0ec41b4-d97c-4efa-c3a0-9fa5afbb43cd"
      },
      "source": [
        "df.tail()"
      ],
      "execution_count": 6,
      "outputs": [
        {
          "output_type": "execute_result",
          "data": {
            "text/html": [
              "<div>\n",
              "<style scoped>\n",
              "    .dataframe tbody tr th:only-of-type {\n",
              "        vertical-align: middle;\n",
              "    }\n",
              "\n",
              "    .dataframe tbody tr th {\n",
              "        vertical-align: top;\n",
              "    }\n",
              "\n",
              "    .dataframe thead th {\n",
              "        text-align: right;\n",
              "    }\n",
              "</style>\n",
              "<table border=\"1\" class=\"dataframe\">\n",
              "  <thead>\n",
              "    <tr style=\"text-align: right;\">\n",
              "      <th></th>\n",
              "      <th>pixel0000</th>\n",
              "      <th>pixel0001</th>\n",
              "      <th>pixel0002</th>\n",
              "      <th>pixel0003</th>\n",
              "      <th>pixel0004</th>\n",
              "      <th>pixel0005</th>\n",
              "      <th>pixel0006</th>\n",
              "      <th>pixel0007</th>\n",
              "      <th>pixel0008</th>\n",
              "      <th>pixel0009</th>\n",
              "      <th>pixel0010</th>\n",
              "      <th>pixel0011</th>\n",
              "      <th>pixel0012</th>\n",
              "      <th>pixel0013</th>\n",
              "      <th>pixel0014</th>\n",
              "      <th>pixel0015</th>\n",
              "      <th>pixel0016</th>\n",
              "      <th>pixel0017</th>\n",
              "      <th>pixel0018</th>\n",
              "      <th>pixel0019</th>\n",
              "      <th>pixel0020</th>\n",
              "      <th>pixel0021</th>\n",
              "      <th>pixel0022</th>\n",
              "      <th>pixel0023</th>\n",
              "      <th>pixel0024</th>\n",
              "      <th>pixel0025</th>\n",
              "      <th>pixel0026</th>\n",
              "      <th>pixel0027</th>\n",
              "      <th>pixel0028</th>\n",
              "      <th>pixel0029</th>\n",
              "      <th>pixel0030</th>\n",
              "      <th>pixel0031</th>\n",
              "      <th>pixel0032</th>\n",
              "      <th>pixel0033</th>\n",
              "      <th>pixel0034</th>\n",
              "      <th>pixel0035</th>\n",
              "      <th>pixel0036</th>\n",
              "      <th>pixel0037</th>\n",
              "      <th>pixel0038</th>\n",
              "      <th>pixel0039</th>\n",
              "      <th>...</th>\n",
              "      <th>pixel2313</th>\n",
              "      <th>pixel2314</th>\n",
              "      <th>pixel2315</th>\n",
              "      <th>pixel2316</th>\n",
              "      <th>pixel2317</th>\n",
              "      <th>pixel2318</th>\n",
              "      <th>pixel2319</th>\n",
              "      <th>pixel2320</th>\n",
              "      <th>pixel2321</th>\n",
              "      <th>pixel2322</th>\n",
              "      <th>pixel2323</th>\n",
              "      <th>pixel2324</th>\n",
              "      <th>pixel2325</th>\n",
              "      <th>pixel2326</th>\n",
              "      <th>pixel2327</th>\n",
              "      <th>pixel2328</th>\n",
              "      <th>pixel2329</th>\n",
              "      <th>pixel2330</th>\n",
              "      <th>pixel2331</th>\n",
              "      <th>pixel2332</th>\n",
              "      <th>pixel2333</th>\n",
              "      <th>pixel2334</th>\n",
              "      <th>pixel2335</th>\n",
              "      <th>pixel2336</th>\n",
              "      <th>pixel2337</th>\n",
              "      <th>pixel2338</th>\n",
              "      <th>pixel2339</th>\n",
              "      <th>pixel2340</th>\n",
              "      <th>pixel2341</th>\n",
              "      <th>pixel2342</th>\n",
              "      <th>pixel2343</th>\n",
              "      <th>pixel2344</th>\n",
              "      <th>pixel2345</th>\n",
              "      <th>pixel2346</th>\n",
              "      <th>pixel2347</th>\n",
              "      <th>pixel2348</th>\n",
              "      <th>pixel2349</th>\n",
              "      <th>pixel2350</th>\n",
              "      <th>pixel2351</th>\n",
              "      <th>label</th>\n",
              "    </tr>\n",
              "  </thead>\n",
              "  <tbody>\n",
              "    <tr>\n",
              "      <th>10010</th>\n",
              "      <td>183</td>\n",
              "      <td>165</td>\n",
              "      <td>181</td>\n",
              "      <td>182</td>\n",
              "      <td>165</td>\n",
              "      <td>180</td>\n",
              "      <td>184</td>\n",
              "      <td>166</td>\n",
              "      <td>182</td>\n",
              "      <td>188</td>\n",
              "      <td>168</td>\n",
              "      <td>182</td>\n",
              "      <td>181</td>\n",
              "      <td>157</td>\n",
              "      <td>162</td>\n",
              "      <td>205</td>\n",
              "      <td>179</td>\n",
              "      <td>188</td>\n",
              "      <td>221</td>\n",
              "      <td>199</td>\n",
              "      <td>214</td>\n",
              "      <td>224</td>\n",
              "      <td>202</td>\n",
              "      <td>215</td>\n",
              "      <td>226</td>\n",
              "      <td>201</td>\n",
              "      <td>205</td>\n",
              "      <td>223</td>\n",
              "      <td>198</td>\n",
              "      <td>206</td>\n",
              "      <td>230</td>\n",
              "      <td>207</td>\n",
              "      <td>219</td>\n",
              "      <td>228</td>\n",
              "      <td>201</td>\n",
              "      <td>211</td>\n",
              "      <td>229</td>\n",
              "      <td>203</td>\n",
              "      <td>210</td>\n",
              "      <td>223</td>\n",
              "      <td>...</td>\n",
              "      <td>225</td>\n",
              "      <td>197</td>\n",
              "      <td>195</td>\n",
              "      <td>222</td>\n",
              "      <td>193</td>\n",
              "      <td>193</td>\n",
              "      <td>228</td>\n",
              "      <td>199</td>\n",
              "      <td>202</td>\n",
              "      <td>231</td>\n",
              "      <td>202</td>\n",
              "      <td>204</td>\n",
              "      <td>227</td>\n",
              "      <td>203</td>\n",
              "      <td>206</td>\n",
              "      <td>230</td>\n",
              "      <td>211</td>\n",
              "      <td>219</td>\n",
              "      <td>231</td>\n",
              "      <td>217</td>\n",
              "      <td>223</td>\n",
              "      <td>222</td>\n",
              "      <td>204</td>\n",
              "      <td>207</td>\n",
              "      <td>202</td>\n",
              "      <td>179</td>\n",
              "      <td>180</td>\n",
              "      <td>205</td>\n",
              "      <td>180</td>\n",
              "      <td>181</td>\n",
              "      <td>208</td>\n",
              "      <td>185</td>\n",
              "      <td>187</td>\n",
              "      <td>208</td>\n",
              "      <td>186</td>\n",
              "      <td>186</td>\n",
              "      <td>206</td>\n",
              "      <td>187</td>\n",
              "      <td>189</td>\n",
              "      <td>0</td>\n",
              "    </tr>\n",
              "    <tr>\n",
              "      <th>10011</th>\n",
              "      <td>2</td>\n",
              "      <td>3</td>\n",
              "      <td>1</td>\n",
              "      <td>38</td>\n",
              "      <td>33</td>\n",
              "      <td>32</td>\n",
              "      <td>121</td>\n",
              "      <td>104</td>\n",
              "      <td>103</td>\n",
              "      <td>132</td>\n",
              "      <td>111</td>\n",
              "      <td>107</td>\n",
              "      <td>130</td>\n",
              "      <td>108</td>\n",
              "      <td>104</td>\n",
              "      <td>136</td>\n",
              "      <td>112</td>\n",
              "      <td>111</td>\n",
              "      <td>148</td>\n",
              "      <td>125</td>\n",
              "      <td>125</td>\n",
              "      <td>155</td>\n",
              "      <td>132</td>\n",
              "      <td>134</td>\n",
              "      <td>157</td>\n",
              "      <td>132</td>\n",
              "      <td>132</td>\n",
              "      <td>164</td>\n",
              "      <td>138</td>\n",
              "      <td>137</td>\n",
              "      <td>187</td>\n",
              "      <td>161</td>\n",
              "      <td>161</td>\n",
              "      <td>198</td>\n",
              "      <td>172</td>\n",
              "      <td>173</td>\n",
              "      <td>202</td>\n",
              "      <td>175</td>\n",
              "      <td>175</td>\n",
              "      <td>209</td>\n",
              "      <td>...</td>\n",
              "      <td>207</td>\n",
              "      <td>179</td>\n",
              "      <td>179</td>\n",
              "      <td>195</td>\n",
              "      <td>164</td>\n",
              "      <td>162</td>\n",
              "      <td>197</td>\n",
              "      <td>168</td>\n",
              "      <td>169</td>\n",
              "      <td>203</td>\n",
              "      <td>176</td>\n",
              "      <td>180</td>\n",
              "      <td>192</td>\n",
              "      <td>165</td>\n",
              "      <td>165</td>\n",
              "      <td>188</td>\n",
              "      <td>162</td>\n",
              "      <td>162</td>\n",
              "      <td>184</td>\n",
              "      <td>162</td>\n",
              "      <td>164</td>\n",
              "      <td>185</td>\n",
              "      <td>162</td>\n",
              "      <td>163</td>\n",
              "      <td>161</td>\n",
              "      <td>137</td>\n",
              "      <td>135</td>\n",
              "      <td>155</td>\n",
              "      <td>132</td>\n",
              "      <td>129</td>\n",
              "      <td>96</td>\n",
              "      <td>79</td>\n",
              "      <td>76</td>\n",
              "      <td>24</td>\n",
              "      <td>23</td>\n",
              "      <td>21</td>\n",
              "      <td>3</td>\n",
              "      <td>4</td>\n",
              "      <td>1</td>\n",
              "      <td>0</td>\n",
              "    </tr>\n",
              "    <tr>\n",
              "      <th>10012</th>\n",
              "      <td>132</td>\n",
              "      <td>118</td>\n",
              "      <td>118</td>\n",
              "      <td>167</td>\n",
              "      <td>149</td>\n",
              "      <td>149</td>\n",
              "      <td>175</td>\n",
              "      <td>156</td>\n",
              "      <td>160</td>\n",
              "      <td>184</td>\n",
              "      <td>164</td>\n",
              "      <td>167</td>\n",
              "      <td>195</td>\n",
              "      <td>173</td>\n",
              "      <td>175</td>\n",
              "      <td>210</td>\n",
              "      <td>191</td>\n",
              "      <td>199</td>\n",
              "      <td>212</td>\n",
              "      <td>195</td>\n",
              "      <td>201</td>\n",
              "      <td>210</td>\n",
              "      <td>189</td>\n",
              "      <td>193</td>\n",
              "      <td>218</td>\n",
              "      <td>194</td>\n",
              "      <td>203</td>\n",
              "      <td>217</td>\n",
              "      <td>191</td>\n",
              "      <td>195</td>\n",
              "      <td>217</td>\n",
              "      <td>195</td>\n",
              "      <td>199</td>\n",
              "      <td>224</td>\n",
              "      <td>201</td>\n",
              "      <td>203</td>\n",
              "      <td>236</td>\n",
              "      <td>211</td>\n",
              "      <td>215</td>\n",
              "      <td>250</td>\n",
              "      <td>...</td>\n",
              "      <td>200</td>\n",
              "      <td>169</td>\n",
              "      <td>165</td>\n",
              "      <td>217</td>\n",
              "      <td>183</td>\n",
              "      <td>179</td>\n",
              "      <td>241</td>\n",
              "      <td>211</td>\n",
              "      <td>210</td>\n",
              "      <td>242</td>\n",
              "      <td>216</td>\n",
              "      <td>215</td>\n",
              "      <td>239</td>\n",
              "      <td>214</td>\n",
              "      <td>213</td>\n",
              "      <td>234</td>\n",
              "      <td>208</td>\n",
              "      <td>208</td>\n",
              "      <td>224</td>\n",
              "      <td>198</td>\n",
              "      <td>196</td>\n",
              "      <td>206</td>\n",
              "      <td>180</td>\n",
              "      <td>177</td>\n",
              "      <td>226</td>\n",
              "      <td>202</td>\n",
              "      <td>201</td>\n",
              "      <td>214</td>\n",
              "      <td>192</td>\n",
              "      <td>190</td>\n",
              "      <td>204</td>\n",
              "      <td>181</td>\n",
              "      <td>178</td>\n",
              "      <td>181</td>\n",
              "      <td>159</td>\n",
              "      <td>153</td>\n",
              "      <td>172</td>\n",
              "      <td>151</td>\n",
              "      <td>145</td>\n",
              "      <td>0</td>\n",
              "    </tr>\n",
              "    <tr>\n",
              "      <th>10013</th>\n",
              "      <td>160</td>\n",
              "      <td>124</td>\n",
              "      <td>146</td>\n",
              "      <td>164</td>\n",
              "      <td>131</td>\n",
              "      <td>152</td>\n",
              "      <td>167</td>\n",
              "      <td>127</td>\n",
              "      <td>146</td>\n",
              "      <td>169</td>\n",
              "      <td>124</td>\n",
              "      <td>142</td>\n",
              "      <td>173</td>\n",
              "      <td>134</td>\n",
              "      <td>149</td>\n",
              "      <td>177</td>\n",
              "      <td>139</td>\n",
              "      <td>156</td>\n",
              "      <td>181</td>\n",
              "      <td>141</td>\n",
              "      <td>159</td>\n",
              "      <td>183</td>\n",
              "      <td>137</td>\n",
              "      <td>154</td>\n",
              "      <td>185</td>\n",
              "      <td>139</td>\n",
              "      <td>160</td>\n",
              "      <td>185</td>\n",
              "      <td>145</td>\n",
              "      <td>165</td>\n",
              "      <td>186</td>\n",
              "      <td>148</td>\n",
              "      <td>162</td>\n",
              "      <td>189</td>\n",
              "      <td>157</td>\n",
              "      <td>170</td>\n",
              "      <td>190</td>\n",
              "      <td>155</td>\n",
              "      <td>169</td>\n",
              "      <td>191</td>\n",
              "      <td>...</td>\n",
              "      <td>189</td>\n",
              "      <td>141</td>\n",
              "      <td>159</td>\n",
              "      <td>192</td>\n",
              "      <td>167</td>\n",
              "      <td>179</td>\n",
              "      <td>193</td>\n",
              "      <td>173</td>\n",
              "      <td>183</td>\n",
              "      <td>192</td>\n",
              "      <td>171</td>\n",
              "      <td>181</td>\n",
              "      <td>190</td>\n",
              "      <td>164</td>\n",
              "      <td>171</td>\n",
              "      <td>190</td>\n",
              "      <td>162</td>\n",
              "      <td>171</td>\n",
              "      <td>190</td>\n",
              "      <td>168</td>\n",
              "      <td>179</td>\n",
              "      <td>194</td>\n",
              "      <td>177</td>\n",
              "      <td>187</td>\n",
              "      <td>192</td>\n",
              "      <td>170</td>\n",
              "      <td>180</td>\n",
              "      <td>186</td>\n",
              "      <td>163</td>\n",
              "      <td>165</td>\n",
              "      <td>185</td>\n",
              "      <td>162</td>\n",
              "      <td>167</td>\n",
              "      <td>184</td>\n",
              "      <td>157</td>\n",
              "      <td>166</td>\n",
              "      <td>185</td>\n",
              "      <td>162</td>\n",
              "      <td>172</td>\n",
              "      <td>0</td>\n",
              "    </tr>\n",
              "    <tr>\n",
              "      <th>10014</th>\n",
              "      <td>175</td>\n",
              "      <td>142</td>\n",
              "      <td>121</td>\n",
              "      <td>181</td>\n",
              "      <td>150</td>\n",
              "      <td>134</td>\n",
              "      <td>181</td>\n",
              "      <td>150</td>\n",
              "      <td>133</td>\n",
              "      <td>178</td>\n",
              "      <td>145</td>\n",
              "      <td>127</td>\n",
              "      <td>177</td>\n",
              "      <td>144</td>\n",
              "      <td>122</td>\n",
              "      <td>177</td>\n",
              "      <td>146</td>\n",
              "      <td>123</td>\n",
              "      <td>179</td>\n",
              "      <td>148</td>\n",
              "      <td>126</td>\n",
              "      <td>185</td>\n",
              "      <td>157</td>\n",
              "      <td>140</td>\n",
              "      <td>177</td>\n",
              "      <td>142</td>\n",
              "      <td>113</td>\n",
              "      <td>174</td>\n",
              "      <td>138</td>\n",
              "      <td>112</td>\n",
              "      <td>177</td>\n",
              "      <td>141</td>\n",
              "      <td>117</td>\n",
              "      <td>175</td>\n",
              "      <td>139</td>\n",
              "      <td>108</td>\n",
              "      <td>178</td>\n",
              "      <td>145</td>\n",
              "      <td>117</td>\n",
              "      <td>181</td>\n",
              "      <td>...</td>\n",
              "      <td>183</td>\n",
              "      <td>150</td>\n",
              "      <td>136</td>\n",
              "      <td>178</td>\n",
              "      <td>141</td>\n",
              "      <td>116</td>\n",
              "      <td>184</td>\n",
              "      <td>151</td>\n",
              "      <td>135</td>\n",
              "      <td>188</td>\n",
              "      <td>160</td>\n",
              "      <td>147</td>\n",
              "      <td>183</td>\n",
              "      <td>153</td>\n",
              "      <td>131</td>\n",
              "      <td>180</td>\n",
              "      <td>146</td>\n",
              "      <td>131</td>\n",
              "      <td>173</td>\n",
              "      <td>137</td>\n",
              "      <td>115</td>\n",
              "      <td>157</td>\n",
              "      <td>88</td>\n",
              "      <td>68</td>\n",
              "      <td>146</td>\n",
              "      <td>32</td>\n",
              "      <td>47</td>\n",
              "      <td>145</td>\n",
              "      <td>24</td>\n",
              "      <td>48</td>\n",
              "      <td>159</td>\n",
              "      <td>79</td>\n",
              "      <td>82</td>\n",
              "      <td>174</td>\n",
              "      <td>137</td>\n",
              "      <td>125</td>\n",
              "      <td>175</td>\n",
              "      <td>139</td>\n",
              "      <td>126</td>\n",
              "      <td>6</td>\n",
              "    </tr>\n",
              "  </tbody>\n",
              "</table>\n",
              "<p>5 rows × 2353 columns</p>\n",
              "</div>"
            ],
            "text/plain": [
              "       pixel0000  pixel0001  pixel0002  ...  pixel2350  pixel2351  label\n",
              "10010        183        165        181  ...        187        189      0\n",
              "10011          2          3          1  ...          4          1      0\n",
              "10012        132        118        118  ...        151        145      0\n",
              "10013        160        124        146  ...        162        172      0\n",
              "10014        175        142        121  ...        139        126      6\n",
              "\n",
              "[5 rows x 2353 columns]"
            ]
          },
          "metadata": {
            "tags": []
          },
          "execution_count": 6
        }
      ]
    },
    {
      "cell_type": "code",
      "metadata": {
        "id": "iILXCW2hsoDl"
      },
      "source": [
        "#reference https://github.com/rohanmandrekar/Cifar-10-/blob/master/best_attempt%28model7%29.ipynb\n",
        "\n",
        "fractions=np.array([0.8,0.2])\n",
        "df=df.sample(frac=1)\n",
        "train_set, test_set = np.array_split(\n",
        "    df, (fractions[:-1].cumsum() * len(df)).astype(int))"
      ],
      "execution_count": 7,
      "outputs": []
    },
    {
      "cell_type": "code",
      "metadata": {
        "colab": {
          "base_uri": "https://localhost:8080/"
        },
        "id": "As38rXlQs1PY",
        "outputId": "2470bd9c-923e-4385-9b43-f372ffd4560b"
      },
      "source": [
        "print(len(train_set))"
      ],
      "execution_count": 8,
      "outputs": [
        {
          "output_type": "stream",
          "text": [
            "8012\n"
          ],
          "name": "stdout"
        }
      ]
    },
    {
      "cell_type": "code",
      "metadata": {
        "colab": {
          "base_uri": "https://localhost:8080/"
        },
        "id": "VY83gf_ss-x1",
        "outputId": "ff66767d-90ea-478f-d674-5636568b4bd5"
      },
      "source": [
        "print(len(test_set))"
      ],
      "execution_count": 9,
      "outputs": [
        {
          "output_type": "stream",
          "text": [
            "2003\n"
          ],
          "name": "stdout"
        }
      ]
    },
    {
      "cell_type": "code",
      "metadata": {
        "colab": {
          "base_uri": "https://localhost:8080/"
        },
        "id": "3w2H4w0_ubRT",
        "outputId": "24cacc2f-5962-4415-81a2-f277cec6b70c"
      },
      "source": [
        "df.label.unique()"
      ],
      "execution_count": 10,
      "outputs": [
        {
          "output_type": "execute_result",
          "data": {
            "text/plain": [
              "array([4, 2, 6, 1, 5, 0, 3])"
            ]
          },
          "metadata": {
            "tags": []
          },
          "execution_count": 10
        }
      ]
    },
    {
      "cell_type": "code",
      "metadata": {
        "id": "lHk4p-sdugSa"
      },
      "source": [
        "# reference: https://www.kaggle.com/kmader/skin-cancer-mnist-ham10000/discussion/183083\n",
        "classes={0:('akiec', 'actinic keratoses and intraepithelial carcinomae'),\n",
        "         1:('bcc' , 'basal cell carcinoma'),\n",
        "         2:('bkl', 'benign keratosis-like lesions'),\n",
        "         3:('df', 'dermatofibroma'),\n",
        "         4:('nv', ' melanocytic nevi'),\n",
        "         5:('vasc', ' pyogenic granulomas and hemorrhage'),\n",
        "         6:('mel', 'melanoma'),}"
      ],
      "execution_count": 11,
      "outputs": []
    },
    {
      "cell_type": "code",
      "metadata": {
        "id": "2W5sBRkZtBr9"
      },
      "source": [
        "y_train=train_set['label']\n",
        "x_train=train_set.drop(columns=['label'])\n",
        "y_test=test_set['label']\n",
        "x_test=test_set.drop(columns=['label'])\n",
        "\n",
        "columns=list(x_train)"
      ],
      "execution_count": 12,
      "outputs": []
    },
    {
      "cell_type": "code",
      "metadata": {
        "colab": {
          "base_uri": "https://localhost:8080/"
        },
        "id": "JzQneFTdtWO1",
        "outputId": "02b6bfbe-735d-4662-ee92-f7119f6d7cd0"
      },
      "source": [
        "device = torch.device(\"cuda:0\" if torch.cuda.is_available() else \"cpu\")\n",
        "print(device)"
      ],
      "execution_count": 13,
      "outputs": [
        {
          "output_type": "stream",
          "text": [
            "cuda:0\n"
          ],
          "name": "stdout"
        }
      ]
    },
    {
      "cell_type": "code",
      "metadata": {
        "id": "m0sSQutHmGw6"
      },
      "source": [
        "# x_train_augmented=[]\n",
        "# x_train_augmented.append(x_train)\n",
        "# x_train_augmented.append(np.fliplr(x_train))\n",
        "# x_train_augmented.append(np.flipud(x_train))\n",
        "\n",
        "\n",
        "# y_train_augmented=y_train*3\n",
        "# x_train=x_train_augmented\n",
        "\n",
        "\n",
        "# print(len(x_train))\n",
        "# y_train=y_train_augmented\n",
        "# y_train=np.array(y_train).reshape(-1)\n",
        "# print(len(y_train))"
      ],
      "execution_count": 14,
      "outputs": []
    },
    {
      "cell_type": "code",
      "metadata": {
        "colab": {
          "base_uri": "https://localhost:8080/"
        },
        "id": "CKIlAJY9pwh1",
        "outputId": "eb8f42fa-0252-40e5-d0ce-c709559f2ac5"
      },
      "source": [
        "from imblearn.over_sampling import RandomOverSampler \n",
        "oversample = RandomOverSampler()\n",
        "x_train,y_train  = oversample.fit_resample(x_train,y_train)"
      ],
      "execution_count": 15,
      "outputs": [
        {
          "output_type": "stream",
          "text": [
            "/usr/local/lib/python3.7/dist-packages/sklearn/externals/six.py:31: FutureWarning: The module is deprecated in version 0.21 and will be removed in version 0.23 since we've dropped support for Python 2.7. Please rely on the official version of six (https://pypi.org/project/six/).\n",
            "  \"(https://pypi.org/project/six/).\", FutureWarning)\n",
            "/usr/local/lib/python3.7/dist-packages/sklearn/utils/deprecation.py:144: FutureWarning: The sklearn.neighbors.base module is  deprecated in version 0.22 and will be removed in version 0.24. The corresponding classes / functions should instead be imported from sklearn.neighbors. Anything that cannot be imported from sklearn.neighbors is now part of the private API.\n",
            "  warnings.warn(message, FutureWarning)\n",
            "/usr/local/lib/python3.7/dist-packages/sklearn/utils/deprecation.py:87: FutureWarning: Function safe_indexing is deprecated; safe_indexing is deprecated in version 0.22 and will be removed in version 0.24.\n",
            "  warnings.warn(msg, category=FutureWarning)\n"
          ],
          "name": "stderr"
        }
      ]
    },
    {
      "cell_type": "code",
      "metadata": {
        "colab": {
          "base_uri": "https://localhost:8080/",
          "height": 809
        },
        "id": "84ADzEUx5R9I",
        "outputId": "4edc74fc-eb45-4717-f7bf-10486a580866"
      },
      "source": [
        "import matplotlib.pyplot as plt\n",
        "import random\n",
        "num=random.randint(0,8000)\n",
        "x_train=np.array(x_train, dtype=np.uint8).reshape(-1,28,28,3)\n",
        "\n",
        "plt.imshow(x_train[num].reshape(28,28,3))\n",
        "plt.title(\"Random image from training data\")\n",
        "plt.show()\n",
        "num=random.randint(0,8000)\n",
        "plt.imshow(x_train[num].reshape(28,28,3))\n",
        "plt.title(\"Random image from training data\")\n",
        "plt.show()\n",
        "\n",
        "num=random.randint(0,8000)\n",
        "plt.imshow(x_train[num].reshape(28,28,3))\n",
        "plt.title(\"Random image from training data\")\n",
        "plt.show()"
      ],
      "execution_count": 16,
      "outputs": [
        {
          "output_type": "display_data",
          "data": {
            "image/png": "[encoded data removed]",
            "text/plain": [
              "<Figure size 432x288 with 1 Axes>"
            ]
          },
          "metadata": {
            "tags": [],
            "needs_background": "light"
          }
        },
        {
          "output_type": "display_data",
          "data": {
            "image/png": "[encoded data removed]",
            "text/plain": [
              "<Figure size 432x288 with 1 Axes>"
            ]
          },
          "metadata": {
            "tags": [],
            "needs_background": "light"
          }
        },
        {
          "output_type": "display_data",
          "data": {
            "image/png": "[encoded data removed]",
            "text/plain": [
              "<Figure size 432x288 with 1 Axes>"
            ]
          },
          "metadata": {
            "tags": [],
            "needs_background": "light"
          }
        }
      ]
    },
    {
      "cell_type": "code",
      "metadata": {
        "id": "Lr0Vi8bSuypD"
      },
      "source": [
        "# transform = transforms.Compose(\n",
        "#     [transforms.ToPILImage(),\n",
        "#      transforms.ToTensor(),\n",
        "#      transforms.Normalize((0.5, 0.5, 0.5), (0.5, 0.5, 0.5)),\n",
        "#      transforms.RandomHorizontalFlip(p=1),\n",
        "#      transforms.RandomVerticalFlip(p=1),\n",
        "#      transforms.RandomRotation(degrees = 45),\n",
        "#      transforms.RandomPerspective(distortion_scale=0.5, p=0.5,fill=0)\n",
        "#      ])\n",
        "\n",
        "\n",
        "# https://stepup.ai/exploring_data_augmentation_keras/\n",
        "# from tensorflow.keras.preprocessing.image import load_img, img_to_array\n",
        "# from tensorflow.keras.preprocessing.image import ImageDataGenerator\n",
        "\n",
        "# def default_datagen():\n",
        "#   datagen = ImageDataGenerator( fill_mode='constant', dtype=int)\n",
        "#   datagen.fit(x_train)\n",
        "#   return datagen\n",
        "\n",
        "# datagen = default_datagen()\n",
        "# datagen.horizontal_flip = True\n",
        "# datagen.vertical_flip = True\n",
        "# datagen.rotation_range = 25    \n",
        "# datagen.shear_range = 20\n",
        "# x_train=datagen\n",
        "# x_train=np.array(datagen)"
      ],
      "execution_count": 17,
      "outputs": []
    },
    {
      "cell_type": "code",
      "metadata": {
        "id": "ffdKrGKZDHMo"
      },
      "source": [
        "# import torch.nn as nn\n",
        "# import torch.nn.functional as F\n",
        "\n",
        "# class Model(nn.Module):\n",
        "#   def __init__(self):\n",
        "    # super(Model,self).__init__()\n",
        "#     self.Conv1=nn.Conv2d(3,56,5)\n",
        "#     self.Pool=nn.MaxPool2d(2,2)\n",
        "#     self.Conv2=nn.Conv2d(56,112,5)\n",
        "#     self.FC1=nn.Linear(112*5*5,1400)\n",
        "#     self.FC2=nn.Linear(1400,700)\n",
        "#     self.FC3=nn.Linear(700,350)\n",
        "#     self.FC4=nn.Linear(350,175)\n",
        "#     self.FC5=nn.Linear(175,80)\n",
        "#     self.FC6=nn.Linear(80,30)\n",
        "#     self.FC7=nn.Linear(30,7)\n",
        "#     self.Drop=nn.Dropout(p=0.1)\n",
        "\n",
        "#   def forward(self,x):\n",
        "#     x = self.Pool(F.relu(self.Conv1(x)))\n",
        "#     x = self.Cool(F.relu(self.Conv2(x)))\n",
        "#     x = x.view(-1, 112*5*5)\n",
        "#     x = F.relu(self.FC1(x))\n",
        "#     x = F.relu(self.FC2(x))\n",
        "#     x = F.relu(self.FC3(x))\n",
        "#     x = self.drop(x)\n",
        "#     x = F.relu(self.FC4(x))\n",
        "#     x = F.relu(self.FC5(x))\n",
        "#     x = self.dropout(x)\n",
        "#     x = F.relu(self.FC6(x))\n",
        "#     x = self.FC7(x)\n",
        "#     return x\n",
        "\n",
        "# model=Model()\n",
        "# model=model.to(device)\n",
        "# print(model)\n"
      ],
      "execution_count": 18,
      "outputs": []
    },
    {
      "cell_type": "code",
      "metadata": {
        "id": "d2BtuasEGSqN"
      },
      "source": [
        "# import torch.optim as optim\n",
        "\n",
        "# criterion = nn.CrossEntropyLoss()\n",
        "# optimizer = optim.SGD(model.parameters(), lr=0.001, momentum=0.9)"
      ],
      "execution_count": 19,
      "outputs": []
    },
    {
      "cell_type": "code",
      "metadata": {
        "id": "zhmZeOPmQGiX"
      },
      "source": [
        "# for epoch in range(50):\n",
        "#   i=0\n",
        "#   running_loss = 0.0\n",
        "#   total_train = 0\n",
        "#   correct_train = 0\n",
        "#   for img in x_train:\n",
        "#     optimizer.zero_grad()\n",
        "    \n",
        "#     img=torchvision.transforms.functional.to_pil_image(img)\n",
        "#     img=torch.from_numpy(np.array(img))\n",
        "#     output=model(img.unsqueeze(1).reshape(1,3,28,28))\n",
        "#     loss=criterion(output,y_train[i])\n",
        "#     loss.backward()\n",
        "#     optimizer.step()\n",
        "\n",
        "#     running_loss=running_loss+loss.item()\n",
        "\n",
        "#     _, predicted = torch.max(output.data, 1)\n",
        "#     total_train += y_train[i].size(0)\n",
        "#     correct_train += predicted.eq(y_train[i]).sum().item()\n",
        "#     train_accuracy = 100 * correct_train / total_train\n",
        "\n",
        "#     if i % 2000 == 1999:    # print every 2000 mini-batches\n",
        "#       print('[%d, %5d] loss: %.3f' %\n",
        "#       (epoch + 1, i + 1, running_loss / 2000))\n",
        "#       print(\"training accuracy : \",train_accuracy)\n",
        "#       running_loss = 0.0\n",
        "\n",
        "# print('Finished Training')\n"
      ],
      "execution_count": 20,
      "outputs": []
    },
    {
      "cell_type": "code",
      "metadata": {
        "id": "obmDZia7Sxnn"
      },
      "source": [
        "from tensorflow.keras.models import Sequential\n",
        "from tensorflow.keras.layers import Conv2D, Flatten, Dense, MaxPool2D\n",
        "import tensorflow as tf"
      ],
      "execution_count": 21,
      "outputs": []
    },
    {
      "cell_type": "code",
      "metadata": {
        "colab": {
          "base_uri": "https://localhost:8080/"
        },
        "id": "Vsll2hd2wzuS",
        "outputId": "e4cd0519-2818-4bae-e291-6bea605f8b6c"
      },
      "source": [
        "model = Sequential()\n",
        "model.add(Conv2D(16, kernel_size = (3,3), input_shape = (28, 28, 3), activation = 'relu', padding = 'same'))\n",
        "model.add(MaxPool2D(pool_size = (2,2)))\n",
        "model.add(tf.keras.layers.BatchNormalization())\n",
        "model.add(Conv2D(32, kernel_size = (3,3), activation = 'relu'))\n",
        "model.add(Conv2D(64, kernel_size = (3,3), activation = 'relu'))\n",
        "model.add(MaxPool2D(pool_size = (2,2)))\n",
        "model.add(tf.keras.layers.BatchNormalization())\n",
        "model.add(Conv2D(128, kernel_size = (3,3), activation = 'relu'))\n",
        "model.add(Conv2D(256, kernel_size = (3,3), activation = 'relu'))\n",
        "# model.add(MaxPool2D(pool_size = (2,2)))\n",
        "# model.add(tf.keras.layers.BatchNormalization())\n",
        "# model.add(Conv2D(256,kernel_size=(3,3),activation='relu'))\n",
        "# model.add(MaxPool2D(pool_size = (2,2)))\n",
        "# model.add(tf.keras.layers.BatchNormalization())\n",
        "model.add(Flatten())\n",
        "model.add(tf.keras.layers.Dropout(0.2))\n",
        "model.add(Dense(256,activation='relu'))\n",
        "model.add(tf.keras.layers.BatchNormalization())\n",
        "model.add(tf.keras.layers.Dropout(0.2))\n",
        "model.add(Dense(128,activation='relu'))\n",
        "model.add(tf.keras.layers.BatchNormalization())\n",
        "model.add(Dense(64,activation='relu'))\n",
        "model.add(tf.keras.layers.BatchNormalization())\n",
        "model.add(tf.keras.layers.Dropout(0.2))\n",
        "model.add(Dense(32,activation='relu'))\n",
        "model.add(tf.keras.layers.BatchNormalization())\n",
        "model.add(Dense(7,activation='softmax'))\n",
        "\n",
        "model.summary()"
      ],
      "execution_count": 22,
      "outputs": [
        {
          "output_type": "stream",
          "text": [
            "Model: \"sequential\"\n",
            "_________________________________________________________________\n",
            "Layer (type)                 Output Shape              Param #   \n",
            "=================================================================\n",
            "conv2d (Conv2D)              (None, 28, 28, 16)        448       \n",
            "_________________________________________________________________\n",
            "max_pooling2d (MaxPooling2D) (None, 14, 14, 16)        0         \n",
            "_________________________________________________________________\n",
            "batch_normalization (BatchNo (None, 14, 14, 16)        64        \n",
            "_________________________________________________________________\n",
            "conv2d_1 (Conv2D)            (None, 12, 12, 32)        4640      \n",
            "_________________________________________________________________\n",
            "conv2d_2 (Conv2D)            (None, 10, 10, 64)        18496     \n",
            "_________________________________________________________________\n",
            "max_pooling2d_1 (MaxPooling2 (None, 5, 5, 64)          0         \n",
            "_________________________________________________________________\n",
            "batch_normalization_1 (Batch (None, 5, 5, 64)          256       \n",
            "_________________________________________________________________\n",
            "conv2d_3 (Conv2D)            (None, 3, 3, 128)         73856     \n",
            "_________________________________________________________________\n",
            "conv2d_4 (Conv2D)            (None, 1, 1, 256)         295168    \n",
            "_________________________________________________________________\n",
            "flatten (Flatten)            (None, 256)               0         \n",
            "_________________________________________________________________\n",
            "dropout (Dropout)            (None, 256)               0         \n",
            "_________________________________________________________________\n",
            "dense (Dense)                (None, 256)               65792     \n",
            "_________________________________________________________________\n",
            "batch_normalization_2 (Batch (None, 256)               1024      \n",
            "_________________________________________________________________\n",
            "dropout_1 (Dropout)          (None, 256)               0         \n",
            "_________________________________________________________________\n",
            "dense_1 (Dense)              (None, 128)               32896     \n",
            "_________________________________________________________________\n",
            "batch_normalization_3 (Batch (None, 128)               512       \n",
            "_________________________________________________________________\n",
            "dense_2 (Dense)              (None, 64)                8256      \n",
            "_________________________________________________________________\n",
            "batch_normalization_4 (Batch (None, 64)                256       \n",
            "_________________________________________________________________\n",
            "dropout_2 (Dropout)          (None, 64)                0         \n",
            "_________________________________________________________________\n",
            "dense_3 (Dense)              (None, 32)                2080      \n",
            "_________________________________________________________________\n",
            "batch_normalization_5 (Batch (None, 32)                128       \n",
            "_________________________________________________________________\n",
            "dense_4 (Dense)              (None, 7)                 231       \n",
            "=================================================================\n",
            "Total params: 504,103\n",
            "Trainable params: 502,983\n",
            "Non-trainable params: 1,120\n",
            "_________________________________________________________________\n"
          ],
          "name": "stdout"
        }
      ]
    },
    {
      "cell_type": "code",
      "metadata": {
        "id": "g4B4-f7ehUIW"
      },
      "source": [
        "callback = tf.keras.callbacks.ModelCheckpoint(filepath='best_model.h5',\n",
        "                                                  monitor='val_acc', mode='max',\n",
        "                                                 verbose=1,save_best_only=True)"
      ],
      "execution_count": 23,
      "outputs": []
    },
    {
      "cell_type": "code",
      "metadata": {
        "colab": {
          "base_uri": "https://localhost:8080/"
        },
        "id": "1XgBEIh5hY63",
        "outputId": "0c2ba7c6-a0ab-47a8-f36a-8162ba22a923"
      },
      "source": [
        "optimizer=tf.keras.optimizers.Adam(lr=0.001)\n",
        "model.compile(loss = 'sparse_categorical_crossentropy',\n",
        "             optimizer =optimizer,\n",
        "              metrics = ['accuracy'])\n",
        "history = model.fit(x_train,\n",
        "                    y_train,\n",
        "                    validation_split=0.2,\n",
        "                    batch_size = 128,\n",
        "                    epochs = 50,\n",
        "                    shuffle=True,\n",
        "                    callbacks=[callback])"
      ],
      "execution_count": 24,
      "outputs": [
        {
          "output_type": "stream",
          "text": [
            "Epoch 1/50\n",
            "235/235 [==============================] - 36s 13ms/step - loss: 1.6434 - accuracy: 0.4035 - val_loss: 2.5889 - val_accuracy: 0.1444\n",
            "WARNING:tensorflow:Can save best model only with val_acc available, skipping.\n",
            "Epoch 2/50\n",
            "235/235 [==============================] - 2s 9ms/step - loss: 0.5159 - accuracy: 0.8311 - val_loss: 1.8590 - val_accuracy: 0.3874\n",
            "WARNING:tensorflow:Can save best model only with val_acc available, skipping.\n",
            "Epoch 3/50\n",
            "235/235 [==============================] - 2s 9ms/step - loss: 0.2895 - accuracy: 0.9056 - val_loss: 1.1368 - val_accuracy: 0.4815\n",
            "WARNING:tensorflow:Can save best model only with val_acc available, skipping.\n",
            "Epoch 4/50\n",
            "235/235 [==============================] - 2s 9ms/step - loss: 0.2227 - accuracy: 0.9251 - val_loss: 1.1424 - val_accuracy: 0.4891\n",
            "WARNING:tensorflow:Can save best model only with val_acc available, skipping.\n",
            "Epoch 5/50\n",
            "235/235 [==============================] - 2s 9ms/step - loss: 0.1851 - accuracy: 0.9370 - val_loss: 1.2403 - val_accuracy: 0.5317\n",
            "WARNING:tensorflow:Can save best model only with val_acc available, skipping.\n",
            "Epoch 6/50\n",
            "235/235 [==============================] - 2s 9ms/step - loss: 0.1604 - accuracy: 0.9442 - val_loss: 0.7648 - val_accuracy: 0.5687\n",
            "WARNING:tensorflow:Can save best model only with val_acc available, skipping.\n",
            "Epoch 7/50\n",
            "235/235 [==============================] - 2s 9ms/step - loss: 0.1159 - accuracy: 0.9582 - val_loss: 0.8035 - val_accuracy: 0.6352\n",
            "WARNING:tensorflow:Can save best model only with val_acc available, skipping.\n",
            "Epoch 8/50\n",
            "235/235 [==============================] - 2s 9ms/step - loss: 0.1302 - accuracy: 0.9552 - val_loss: 1.2023 - val_accuracy: 0.5903\n",
            "WARNING:tensorflow:Can save best model only with val_acc available, skipping.\n",
            "Epoch 9/50\n",
            "235/235 [==============================] - 2s 9ms/step - loss: 0.0963 - accuracy: 0.9678 - val_loss: 0.7154 - val_accuracy: 0.6794\n",
            "WARNING:tensorflow:Can save best model only with val_acc available, skipping.\n",
            "Epoch 10/50\n",
            "235/235 [==============================] - 2s 9ms/step - loss: 0.0875 - accuracy: 0.9703 - val_loss: 0.5601 - val_accuracy: 0.7520\n",
            "WARNING:tensorflow:Can save best model only with val_acc available, skipping.\n",
            "Epoch 11/50\n",
            "235/235 [==============================] - 2s 9ms/step - loss: 0.0844 - accuracy: 0.9713 - val_loss: 0.5968 - val_accuracy: 0.7241\n",
            "WARNING:tensorflow:Can save best model only with val_acc available, skipping.\n",
            "Epoch 12/50\n",
            "235/235 [==============================] - 2s 9ms/step - loss: 0.0655 - accuracy: 0.9769 - val_loss: 0.1887 - val_accuracy: 0.9320\n",
            "WARNING:tensorflow:Can save best model only with val_acc available, skipping.\n",
            "Epoch 13/50\n",
            "235/235 [==============================] - 2s 9ms/step - loss: 0.0719 - accuracy: 0.9745 - val_loss: 0.6243 - val_accuracy: 0.7380\n",
            "WARNING:tensorflow:Can save best model only with val_acc available, skipping.\n",
            "Epoch 14/50\n",
            "235/235 [==============================] - 2s 9ms/step - loss: 0.0602 - accuracy: 0.9794 - val_loss: 0.2604 - val_accuracy: 0.8674\n",
            "WARNING:tensorflow:Can save best model only with val_acc available, skipping.\n",
            "Epoch 15/50\n",
            "235/235 [==============================] - 2s 10ms/step - loss: 0.0554 - accuracy: 0.9816 - val_loss: 1.0348 - val_accuracy: 0.6728\n",
            "WARNING:tensorflow:Can save best model only with val_acc available, skipping.\n",
            "Epoch 16/50\n",
            "235/235 [==============================] - 2s 9ms/step - loss: 0.0539 - accuracy: 0.9800 - val_loss: 0.3844 - val_accuracy: 0.8421\n",
            "WARNING:tensorflow:Can save best model only with val_acc available, skipping.\n",
            "Epoch 17/50\n",
            "235/235 [==============================] - 2s 9ms/step - loss: 0.0423 - accuracy: 0.9852 - val_loss: 0.9563 - val_accuracy: 0.6704\n",
            "WARNING:tensorflow:Can save best model only with val_acc available, skipping.\n",
            "Epoch 18/50\n",
            "235/235 [==============================] - 2s 9ms/step - loss: 0.0462 - accuracy: 0.9849 - val_loss: 0.2675 - val_accuracy: 0.8864\n",
            "WARNING:tensorflow:Can save best model only with val_acc available, skipping.\n",
            "Epoch 19/50\n",
            "235/235 [==============================] - 2s 9ms/step - loss: 0.0421 - accuracy: 0.9855 - val_loss: 0.4619 - val_accuracy: 0.7940\n",
            "WARNING:tensorflow:Can save best model only with val_acc available, skipping.\n",
            "Epoch 20/50\n",
            "235/235 [==============================] - 2s 10ms/step - loss: 0.0294 - accuracy: 0.9899 - val_loss: 0.6780 - val_accuracy: 0.7585\n",
            "WARNING:tensorflow:Can save best model only with val_acc available, skipping.\n",
            "Epoch 21/50\n",
            "235/235 [==============================] - 2s 9ms/step - loss: 0.0342 - accuracy: 0.9880 - val_loss: 0.8140 - val_accuracy: 0.7045\n",
            "WARNING:tensorflow:Can save best model only with val_acc available, skipping.\n",
            "Epoch 22/50\n",
            "235/235 [==============================] - 2s 9ms/step - loss: 0.0353 - accuracy: 0.9885 - val_loss: 0.1849 - val_accuracy: 0.9264\n",
            "WARNING:tensorflow:Can save best model only with val_acc available, skipping.\n",
            "Epoch 23/50\n",
            "235/235 [==============================] - 2s 9ms/step - loss: 0.0318 - accuracy: 0.9901 - val_loss: 0.1482 - val_accuracy: 0.9459\n",
            "WARNING:tensorflow:Can save best model only with val_acc available, skipping.\n",
            "Epoch 24/50\n",
            "235/235 [==============================] - 2s 9ms/step - loss: 0.0239 - accuracy: 0.9919 - val_loss: 0.1452 - val_accuracy: 0.9455\n",
            "WARNING:tensorflow:Can save best model only with val_acc available, skipping.\n",
            "Epoch 25/50\n",
            "235/235 [==============================] - 2s 9ms/step - loss: 0.0594 - accuracy: 0.9797 - val_loss: 0.0686 - val_accuracy: 0.9761\n",
            "WARNING:tensorflow:Can save best model only with val_acc available, skipping.\n",
            "Epoch 26/50\n",
            "235/235 [==============================] - 2s 9ms/step - loss: 0.0191 - accuracy: 0.9937 - val_loss: 0.3475 - val_accuracy: 0.8768\n",
            "WARNING:tensorflow:Can save best model only with val_acc available, skipping.\n",
            "Epoch 27/50\n",
            "235/235 [==============================] - 2s 10ms/step - loss: 0.0268 - accuracy: 0.9916 - val_loss: 0.0788 - val_accuracy: 0.9716\n",
            "WARNING:tensorflow:Can save best model only with val_acc available, skipping.\n",
            "Epoch 28/50\n",
            "235/235 [==============================] - 2s 9ms/step - loss: 0.0211 - accuracy: 0.9928 - val_loss: 0.7151 - val_accuracy: 0.7861\n",
            "WARNING:tensorflow:Can save best model only with val_acc available, skipping.\n",
            "Epoch 29/50\n",
            "235/235 [==============================] - 2s 9ms/step - loss: 0.0230 - accuracy: 0.9922 - val_loss: 0.1087 - val_accuracy: 0.9575\n",
            "WARNING:tensorflow:Can save best model only with val_acc available, skipping.\n",
            "Epoch 30/50\n",
            "235/235 [==============================] - 2s 9ms/step - loss: 0.0210 - accuracy: 0.9928 - val_loss: 0.1278 - val_accuracy: 0.9609\n",
            "WARNING:tensorflow:Can save best model only with val_acc available, skipping.\n",
            "Epoch 31/50\n",
            "235/235 [==============================] - 2s 10ms/step - loss: 0.0302 - accuracy: 0.9896 - val_loss: 0.4890 - val_accuracy: 0.8448\n",
            "WARNING:tensorflow:Can save best model only with val_acc available, skipping.\n",
            "Epoch 32/50\n",
            "235/235 [==============================] - 2s 10ms/step - loss: 0.0225 - accuracy: 0.9926 - val_loss: 0.2563 - val_accuracy: 0.9044\n",
            "WARNING:tensorflow:Can save best model only with val_acc available, skipping.\n",
            "Epoch 33/50\n",
            "235/235 [==============================] - 2s 10ms/step - loss: 0.0387 - accuracy: 0.9878 - val_loss: 0.1239 - val_accuracy: 0.9559\n",
            "WARNING:tensorflow:Can save best model only with val_acc available, skipping.\n",
            "Epoch 34/50\n",
            "235/235 [==============================] - 2s 10ms/step - loss: 0.0116 - accuracy: 0.9969 - val_loss: 0.1402 - val_accuracy: 0.9416\n",
            "WARNING:tensorflow:Can save best model only with val_acc available, skipping.\n",
            "Epoch 35/50\n",
            "235/235 [==============================] - 2s 10ms/step - loss: 0.0151 - accuracy: 0.9951 - val_loss: 0.0661 - val_accuracy: 0.9828\n",
            "WARNING:tensorflow:Can save best model only with val_acc available, skipping.\n",
            "Epoch 36/50\n",
            "235/235 [==============================] - 2s 9ms/step - loss: 0.0097 - accuracy: 0.9968 - val_loss: 0.5238 - val_accuracy: 0.8366\n",
            "WARNING:tensorflow:Can save best model only with val_acc available, skipping.\n",
            "Epoch 37/50\n",
            "235/235 [==============================] - 2s 9ms/step - loss: 0.0219 - accuracy: 0.9933 - val_loss: 0.5956 - val_accuracy: 0.8177\n",
            "WARNING:tensorflow:Can save best model only with val_acc available, skipping.\n",
            "Epoch 38/50\n",
            "235/235 [==============================] - 2s 10ms/step - loss: 0.0172 - accuracy: 0.9953 - val_loss: 0.4534 - val_accuracy: 0.8466\n",
            "WARNING:tensorflow:Can save best model only with val_acc available, skipping.\n",
            "Epoch 39/50\n",
            "235/235 [==============================] - 2s 9ms/step - loss: 0.0238 - accuracy: 0.9925 - val_loss: 0.1621 - val_accuracy: 0.9383\n",
            "WARNING:tensorflow:Can save best model only with val_acc available, skipping.\n",
            "Epoch 40/50\n",
            "235/235 [==============================] - 2s 10ms/step - loss: 0.0174 - accuracy: 0.9943 - val_loss: 0.3351 - val_accuracy: 0.8971\n",
            "WARNING:tensorflow:Can save best model only with val_acc available, skipping.\n",
            "Epoch 41/50\n",
            "235/235 [==============================] - 2s 9ms/step - loss: 0.0112 - accuracy: 0.9966 - val_loss: 0.9158 - val_accuracy: 0.7501\n",
            "WARNING:tensorflow:Can save best model only with val_acc available, skipping.\n",
            "Epoch 42/50\n",
            "235/235 [==============================] - 2s 10ms/step - loss: 0.0242 - accuracy: 0.9924 - val_loss: 0.3498 - val_accuracy: 0.8896\n",
            "WARNING:tensorflow:Can save best model only with val_acc available, skipping.\n",
            "Epoch 43/50\n",
            "235/235 [==============================] - 2s 9ms/step - loss: 0.0131 - accuracy: 0.9957 - val_loss: 0.1274 - val_accuracy: 0.9581\n",
            "WARNING:tensorflow:Can save best model only with val_acc available, skipping.\n",
            "Epoch 44/50\n",
            "235/235 [==============================] - 2s 9ms/step - loss: 0.0131 - accuracy: 0.9959 - val_loss: 0.1670 - val_accuracy: 0.9544\n",
            "WARNING:tensorflow:Can save best model only with val_acc available, skipping.\n",
            "Epoch 45/50\n",
            "235/235 [==============================] - 2s 9ms/step - loss: 0.0155 - accuracy: 0.9952 - val_loss: 0.1335 - val_accuracy: 0.9640\n",
            "WARNING:tensorflow:Can save best model only with val_acc available, skipping.\n",
            "Epoch 46/50\n",
            "235/235 [==============================] - 2s 9ms/step - loss: 0.0148 - accuracy: 0.9952 - val_loss: 0.2371 - val_accuracy: 0.9324\n",
            "WARNING:tensorflow:Can save best model only with val_acc available, skipping.\n",
            "Epoch 47/50\n",
            "235/235 [==============================] - 2s 9ms/step - loss: 0.0164 - accuracy: 0.9947 - val_loss: 0.9802 - val_accuracy: 0.8112\n",
            "WARNING:tensorflow:Can save best model only with val_acc available, skipping.\n",
            "Epoch 48/50\n",
            "235/235 [==============================] - 2s 9ms/step - loss: 0.0080 - accuracy: 0.9977 - val_loss: 0.1217 - val_accuracy: 0.9659\n",
            "WARNING:tensorflow:Can save best model only with val_acc available, skipping.\n",
            "Epoch 49/50\n",
            "235/235 [==============================] - 2s 9ms/step - loss: 0.0116 - accuracy: 0.9969 - val_loss: 0.9576 - val_accuracy: 0.7934\n",
            "WARNING:tensorflow:Can save best model only with val_acc available, skipping.\n",
            "Epoch 50/50\n",
            "235/235 [==============================] - 2s 9ms/step - loss: 0.0157 - accuracy: 0.9958 - val_loss: 0.2938 - val_accuracy: 0.9240\n",
            "WARNING:tensorflow:Can save best model only with val_acc available, skipping.\n"
          ],
          "name": "stdout"
        }
      ]
    },
    {
      "cell_type": "code",
      "metadata": {
        "colab": {
          "base_uri": "https://localhost:8080/",
          "height": 295
        },
        "id": "qieCeDDGnEh3",
        "outputId": "40c77d2e-534d-4c24-ee90-894596b58ad4"
      },
      "source": [
        "plt.plot(history.history['accuracy'])\n",
        "plt.plot(history.history['val_accuracy'])\n",
        "plt.title('model accuracy')\n",
        "plt.ylabel('accuracy')\n",
        "plt.xlabel('epoch')\n",
        "plt.legend(['train', 'val'], loc='upper left')\n",
        "plt.show()\n"
      ],
      "execution_count": 25,
      "outputs": [
        {
          "output_type": "display_data",
          "data": {
            "image/png": "[encoded data removed]",
            "text/plain": [
              "<Figure size 432x288 with 1 Axes>"
            ]
          },
          "metadata": {
            "tags": [],
            "needs_background": "light"
          }
        }
      ]
    },
    {
      "cell_type": "code",
      "metadata": {
        "colab": {
          "base_uri": "https://localhost:8080/",
          "height": 295
        },
        "id": "8gK_9yQotuky",
        "outputId": "e475651f-1139-48e7-dc4f-92cd1dc870bd"
      },
      "source": [
        "plt.plot(history.history['loss'])\n",
        "plt.plot(history.history['val_loss'])\n",
        "plt.title('model loss')\n",
        "plt.ylabel('loss')\n",
        "plt.xlabel('epoch')\n",
        "plt.legend(['train', 'val'], loc='upper left')\n",
        "plt.show()"
      ],
      "execution_count": 26,
      "outputs": [
        {
          "output_type": "display_data",
          "data": {
            "image/png": "[encoded data removed]",
            "text/plain": [
              "<Figure size 432x288 with 1 Axes>"
            ]
          },
          "metadata": {
            "tags": [],
            "needs_background": "light"
          }
        }
      ]
    },
    {
      "cell_type": "code",
      "metadata": {
        "id": "w9uqTVqftz1w"
      },
      "source": [
        "model.load_weights('best_model.h5')"
      ],
      "execution_count": 27,
      "outputs": []
    },
    {
      "cell_type": "code",
      "metadata": {
        "colab": {
          "base_uri": "https://localhost:8080/"
        },
        "id": "lzqOpvxMt2Xb",
        "outputId": "970ab4e0-9d9b-4b3c-9537-5c1800ca3f13"
      },
      "source": [
        "x_test=np.array(x_test).reshape(-1,28,28,3)\n",
        "loss, acc = model.evaluate(x_test, y_test, verbose=2)"
      ],
      "execution_count": 28,
      "outputs": [
        {
          "output_type": "stream",
          "text": [
            "63/63 - 1s - loss: 0.6740 - accuracy: 0.8557\n"
          ],
          "name": "stdout"
        }
      ]
    },
    {
      "cell_type": "code",
      "metadata": {
        "id": "ouu5LJMLt7TF"
      },
      "source": [
        ""
      ],
      "execution_count": null,
      "outputs": []
    }
  ]
}