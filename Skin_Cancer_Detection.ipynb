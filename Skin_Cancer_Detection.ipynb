{
  "nbformat": 4,
  "nbformat_minor": 0,
  "metadata": {
    "colab": {
      "name": "Skin Cancer Detection.ipynb",
      "provenance": []
    },
    "kernelspec": {
      "name": "python3",
      "display_name": "Python 3"
    },
    "language_info": {
      "name": "python"
    }
  },
  "cells": [
    {
      "cell_type": "code",
      "metadata": {
        "id": "kES_rD67rrG6"
      },
      "source": [
        "import pandas as pd\n",
        "import numpy as np\n",
        "import torch\n",
        "import torchvision\n",
        "import torchvision.transforms as transforms\n"
      ],
      "execution_count": 1,
      "outputs": []
    },
    {
      "cell_type": "code",
      "metadata": {
        "colab": {
          "base_uri": "https://localhost:8080/"
        },
        "id": "7zE639BQsKs7",
        "outputId": "af6a0d52-5a94-4397-d6ca-007bc988fbe1"
      },
      "source": [
        "from google.colab import drive\n",
        "drive.mount(\"/content/drive/\")"
      ],
      "execution_count": 2,
      "outputs": [
        {
          "output_type": "stream",
          "text": [
            "Mounted at /content/drive/\n"
          ],
          "name": "stdout"
        }
      ]
    },
    {
      "cell_type": "code",
      "metadata": {
        "id": "g7tDvsg5sNZK"
      },
      "source": [
        "path='/content/drive/My Drive/Colab Notebooks/Skin Cancer/hmnist_28_28_RGB.csv'\n"
      ],
      "execution_count": 3,
      "outputs": []
    },
    {
      "cell_type": "code",
      "metadata": {
        "id": "TSlPUvq-sfo4"
      },
      "source": [
        "df=pd.read_csv(path)"
      ],
      "execution_count": 4,
      "outputs": []
    },
    {
      "cell_type": "code",
      "metadata": {
        "colab": {
          "base_uri": "https://localhost:8080/",
          "height": 245
        },
        "id": "-XZB67tXslAf",
        "outputId": "18915ae4-7ddd-4b3c-d252-83d35729e0fb"
      },
      "source": [
        "df.tail()"
      ],
      "execution_count": 5,
      "outputs": [
        {
          "output_type": "execute_result",
          "data": {
            "text/html": [
              "<div>\n",
              "<style scoped>\n",
              "    .dataframe tbody tr th:only-of-type {\n",
              "        vertical-align: middle;\n",
              "    }\n",
              "\n",
              "    .dataframe tbody tr th {\n",
              "        vertical-align: top;\n",
              "    }\n",
              "\n",
              "    .dataframe thead th {\n",
              "        text-align: right;\n",
              "    }\n",
              "</style>\n",
              "<table border=\"1\" class=\"dataframe\">\n",
              "  <thead>\n",
              "    <tr style=\"text-align: right;\">\n",
              "      <th></th>\n",
              "      <th>pixel0000</th>\n",
              "      <th>pixel0001</th>\n",
              "      <th>pixel0002</th>\n",
              "      <th>pixel0003</th>\n",
              "      <th>pixel0004</th>\n",
              "      <th>pixel0005</th>\n",
              "      <th>pixel0006</th>\n",
              "      <th>pixel0007</th>\n",
              "      <th>pixel0008</th>\n",
              "      <th>pixel0009</th>\n",
              "      <th>pixel0010</th>\n",
              "      <th>pixel0011</th>\n",
              "      <th>pixel0012</th>\n",
              "      <th>pixel0013</th>\n",
              "      <th>pixel0014</th>\n",
              "      <th>pixel0015</th>\n",
              "      <th>pixel0016</th>\n",
              "      <th>pixel0017</th>\n",
              "      <th>pixel0018</th>\n",
              "      <th>pixel0019</th>\n",
              "      <th>pixel0020</th>\n",
              "      <th>pixel0021</th>\n",
              "      <th>pixel0022</th>\n",
              "      <th>pixel0023</th>\n",
              "      <th>pixel0024</th>\n",
              "      <th>pixel0025</th>\n",
              "      <th>pixel0026</th>\n",
              "      <th>pixel0027</th>\n",
              "      <th>pixel0028</th>\n",
              "      <th>pixel0029</th>\n",
              "      <th>pixel0030</th>\n",
              "      <th>pixel0031</th>\n",
              "      <th>pixel0032</th>\n",
              "      <th>pixel0033</th>\n",
              "      <th>pixel0034</th>\n",
              "      <th>pixel0035</th>\n",
              "      <th>pixel0036</th>\n",
              "      <th>pixel0037</th>\n",
              "      <th>pixel0038</th>\n",
              "      <th>pixel0039</th>\n",
              "      <th>...</th>\n",
              "      <th>pixel2313</th>\n",
              "      <th>pixel2314</th>\n",
              "      <th>pixel2315</th>\n",
              "      <th>pixel2316</th>\n",
              "      <th>pixel2317</th>\n",
              "      <th>pixel2318</th>\n",
              "      <th>pixel2319</th>\n",
              "      <th>pixel2320</th>\n",
              "      <th>pixel2321</th>\n",
              "      <th>pixel2322</th>\n",
              "      <th>pixel2323</th>\n",
              "      <th>pixel2324</th>\n",
              "      <th>pixel2325</th>\n",
              "      <th>pixel2326</th>\n",
              "      <th>pixel2327</th>\n",
              "      <th>pixel2328</th>\n",
              "      <th>pixel2329</th>\n",
              "      <th>pixel2330</th>\n",
              "      <th>pixel2331</th>\n",
              "      <th>pixel2332</th>\n",
              "      <th>pixel2333</th>\n",
              "      <th>pixel2334</th>\n",
              "      <th>pixel2335</th>\n",
              "      <th>pixel2336</th>\n",
              "      <th>pixel2337</th>\n",
              "      <th>pixel2338</th>\n",
              "      <th>pixel2339</th>\n",
              "      <th>pixel2340</th>\n",
              "      <th>pixel2341</th>\n",
              "      <th>pixel2342</th>\n",
              "      <th>pixel2343</th>\n",
              "      <th>pixel2344</th>\n",
              "      <th>pixel2345</th>\n",
              "      <th>pixel2346</th>\n",
              "      <th>pixel2347</th>\n",
              "      <th>pixel2348</th>\n",
              "      <th>pixel2349</th>\n",
              "      <th>pixel2350</th>\n",
              "      <th>pixel2351</th>\n",
              "      <th>label</th>\n",
              "    </tr>\n",
              "  </thead>\n",
              "  <tbody>\n",
              "    <tr>\n",
              "      <th>10010</th>\n",
              "      <td>183</td>\n",
              "      <td>165</td>\n",
              "      <td>181</td>\n",
              "      <td>182</td>\n",
              "      <td>165</td>\n",
              "      <td>180</td>\n",
              "      <td>184</td>\n",
              "      <td>166</td>\n",
              "      <td>182</td>\n",
              "      <td>188</td>\n",
              "      <td>168</td>\n",
              "      <td>182</td>\n",
              "      <td>181</td>\n",
              "      <td>157</td>\n",
              "      <td>162</td>\n",
              "      <td>205</td>\n",
              "      <td>179</td>\n",
              "      <td>188</td>\n",
              "      <td>221</td>\n",
              "      <td>199</td>\n",
              "      <td>214</td>\n",
              "      <td>224</td>\n",
              "      <td>202</td>\n",
              "      <td>215</td>\n",
              "      <td>226</td>\n",
              "      <td>201</td>\n",
              "      <td>205</td>\n",
              "      <td>223</td>\n",
              "      <td>198</td>\n",
              "      <td>206</td>\n",
              "      <td>230</td>\n",
              "      <td>207</td>\n",
              "      <td>219</td>\n",
              "      <td>228</td>\n",
              "      <td>201</td>\n",
              "      <td>211</td>\n",
              "      <td>229</td>\n",
              "      <td>203</td>\n",
              "      <td>210</td>\n",
              "      <td>223</td>\n",
              "      <td>...</td>\n",
              "      <td>225</td>\n",
              "      <td>197</td>\n",
              "      <td>195</td>\n",
              "      <td>222</td>\n",
              "      <td>193</td>\n",
              "      <td>193</td>\n",
              "      <td>228</td>\n",
              "      <td>199</td>\n",
              "      <td>202</td>\n",
              "      <td>231</td>\n",
              "      <td>202</td>\n",
              "      <td>204</td>\n",
              "      <td>227</td>\n",
              "      <td>203</td>\n",
              "      <td>206</td>\n",
              "      <td>230</td>\n",
              "      <td>211</td>\n",
              "      <td>219</td>\n",
              "      <td>231</td>\n",
              "      <td>217</td>\n",
              "      <td>223</td>\n",
              "      <td>222</td>\n",
              "      <td>204</td>\n",
              "      <td>207</td>\n",
              "      <td>202</td>\n",
              "      <td>179</td>\n",
              "      <td>180</td>\n",
              "      <td>205</td>\n",
              "      <td>180</td>\n",
              "      <td>181</td>\n",
              "      <td>208</td>\n",
              "      <td>185</td>\n",
              "      <td>187</td>\n",
              "      <td>208</td>\n",
              "      <td>186</td>\n",
              "      <td>186</td>\n",
              "      <td>206</td>\n",
              "      <td>187</td>\n",
              "      <td>189</td>\n",
              "      <td>0</td>\n",
              "    </tr>\n",
              "    <tr>\n",
              "      <th>10011</th>\n",
              "      <td>2</td>\n",
              "      <td>3</td>\n",
              "      <td>1</td>\n",
              "      <td>38</td>\n",
              "      <td>33</td>\n",
              "      <td>32</td>\n",
              "      <td>121</td>\n",
              "      <td>104</td>\n",
              "      <td>103</td>\n",
              "      <td>132</td>\n",
              "      <td>111</td>\n",
              "      <td>107</td>\n",
              "      <td>130</td>\n",
              "      <td>108</td>\n",
              "      <td>104</td>\n",
              "      <td>136</td>\n",
              "      <td>112</td>\n",
              "      <td>111</td>\n",
              "      <td>148</td>\n",
              "      <td>125</td>\n",
              "      <td>125</td>\n",
              "      <td>155</td>\n",
              "      <td>132</td>\n",
              "      <td>134</td>\n",
              "      <td>157</td>\n",
              "      <td>132</td>\n",
              "      <td>132</td>\n",
              "      <td>164</td>\n",
              "      <td>138</td>\n",
              "      <td>137</td>\n",
              "      <td>187</td>\n",
              "      <td>161</td>\n",
              "      <td>161</td>\n",
              "      <td>198</td>\n",
              "      <td>172</td>\n",
              "      <td>173</td>\n",
              "      <td>202</td>\n",
              "      <td>175</td>\n",
              "      <td>175</td>\n",
              "      <td>209</td>\n",
              "      <td>...</td>\n",
              "      <td>207</td>\n",
              "      <td>179</td>\n",
              "      <td>179</td>\n",
              "      <td>195</td>\n",
              "      <td>164</td>\n",
              "      <td>162</td>\n",
              "      <td>197</td>\n",
              "      <td>168</td>\n",
              "      <td>169</td>\n",
              "      <td>203</td>\n",
              "      <td>176</td>\n",
              "      <td>180</td>\n",
              "      <td>192</td>\n",
              "      <td>165</td>\n",
              "      <td>165</td>\n",
              "      <td>188</td>\n",
              "      <td>162</td>\n",
              "      <td>162</td>\n",
              "      <td>184</td>\n",
              "      <td>162</td>\n",
              "      <td>164</td>\n",
              "      <td>185</td>\n",
              "      <td>162</td>\n",
              "      <td>163</td>\n",
              "      <td>161</td>\n",
              "      <td>137</td>\n",
              "      <td>135</td>\n",
              "      <td>155</td>\n",
              "      <td>132</td>\n",
              "      <td>129</td>\n",
              "      <td>96</td>\n",
              "      <td>79</td>\n",
              "      <td>76</td>\n",
              "      <td>24</td>\n",
              "      <td>23</td>\n",
              "      <td>21</td>\n",
              "      <td>3</td>\n",
              "      <td>4</td>\n",
              "      <td>1</td>\n",
              "      <td>0</td>\n",
              "    </tr>\n",
              "    <tr>\n",
              "      <th>10012</th>\n",
              "      <td>132</td>\n",
              "      <td>118</td>\n",
              "      <td>118</td>\n",
              "      <td>167</td>\n",
              "      <td>149</td>\n",
              "      <td>149</td>\n",
              "      <td>175</td>\n",
              "      <td>156</td>\n",
              "      <td>160</td>\n",
              "      <td>184</td>\n",
              "      <td>164</td>\n",
              "      <td>167</td>\n",
              "      <td>195</td>\n",
              "      <td>173</td>\n",
              "      <td>175</td>\n",
              "      <td>210</td>\n",
              "      <td>191</td>\n",
              "      <td>199</td>\n",
              "      <td>212</td>\n",
              "      <td>195</td>\n",
              "      <td>201</td>\n",
              "      <td>210</td>\n",
              "      <td>189</td>\n",
              "      <td>193</td>\n",
              "      <td>218</td>\n",
              "      <td>194</td>\n",
              "      <td>203</td>\n",
              "      <td>217</td>\n",
              "      <td>191</td>\n",
              "      <td>195</td>\n",
              "      <td>217</td>\n",
              "      <td>195</td>\n",
              "      <td>199</td>\n",
              "      <td>224</td>\n",
              "      <td>201</td>\n",
              "      <td>203</td>\n",
              "      <td>236</td>\n",
              "      <td>211</td>\n",
              "      <td>215</td>\n",
              "      <td>250</td>\n",
              "      <td>...</td>\n",
              "      <td>200</td>\n",
              "      <td>169</td>\n",
              "      <td>165</td>\n",
              "      <td>217</td>\n",
              "      <td>183</td>\n",
              "      <td>179</td>\n",
              "      <td>241</td>\n",
              "      <td>211</td>\n",
              "      <td>210</td>\n",
              "      <td>242</td>\n",
              "      <td>216</td>\n",
              "      <td>215</td>\n",
              "      <td>239</td>\n",
              "      <td>214</td>\n",
              "      <td>213</td>\n",
              "      <td>234</td>\n",
              "      <td>208</td>\n",
              "      <td>208</td>\n",
              "      <td>224</td>\n",
              "      <td>198</td>\n",
              "      <td>196</td>\n",
              "      <td>206</td>\n",
              "      <td>180</td>\n",
              "      <td>177</td>\n",
              "      <td>226</td>\n",
              "      <td>202</td>\n",
              "      <td>201</td>\n",
              "      <td>214</td>\n",
              "      <td>192</td>\n",
              "      <td>190</td>\n",
              "      <td>204</td>\n",
              "      <td>181</td>\n",
              "      <td>178</td>\n",
              "      <td>181</td>\n",
              "      <td>159</td>\n",
              "      <td>153</td>\n",
              "      <td>172</td>\n",
              "      <td>151</td>\n",
              "      <td>145</td>\n",
              "      <td>0</td>\n",
              "    </tr>\n",
              "    <tr>\n",
              "      <th>10013</th>\n",
              "      <td>160</td>\n",
              "      <td>124</td>\n",
              "      <td>146</td>\n",
              "      <td>164</td>\n",
              "      <td>131</td>\n",
              "      <td>152</td>\n",
              "      <td>167</td>\n",
              "      <td>127</td>\n",
              "      <td>146</td>\n",
              "      <td>169</td>\n",
              "      <td>124</td>\n",
              "      <td>142</td>\n",
              "      <td>173</td>\n",
              "      <td>134</td>\n",
              "      <td>149</td>\n",
              "      <td>177</td>\n",
              "      <td>139</td>\n",
              "      <td>156</td>\n",
              "      <td>181</td>\n",
              "      <td>141</td>\n",
              "      <td>159</td>\n",
              "      <td>183</td>\n",
              "      <td>137</td>\n",
              "      <td>154</td>\n",
              "      <td>185</td>\n",
              "      <td>139</td>\n",
              "      <td>160</td>\n",
              "      <td>185</td>\n",
              "      <td>145</td>\n",
              "      <td>165</td>\n",
              "      <td>186</td>\n",
              "      <td>148</td>\n",
              "      <td>162</td>\n",
              "      <td>189</td>\n",
              "      <td>157</td>\n",
              "      <td>170</td>\n",
              "      <td>190</td>\n",
              "      <td>155</td>\n",
              "      <td>169</td>\n",
              "      <td>191</td>\n",
              "      <td>...</td>\n",
              "      <td>189</td>\n",
              "      <td>141</td>\n",
              "      <td>159</td>\n",
              "      <td>192</td>\n",
              "      <td>167</td>\n",
              "      <td>179</td>\n",
              "      <td>193</td>\n",
              "      <td>173</td>\n",
              "      <td>183</td>\n",
              "      <td>192</td>\n",
              "      <td>171</td>\n",
              "      <td>181</td>\n",
              "      <td>190</td>\n",
              "      <td>164</td>\n",
              "      <td>171</td>\n",
              "      <td>190</td>\n",
              "      <td>162</td>\n",
              "      <td>171</td>\n",
              "      <td>190</td>\n",
              "      <td>168</td>\n",
              "      <td>179</td>\n",
              "      <td>194</td>\n",
              "      <td>177</td>\n",
              "      <td>187</td>\n",
              "      <td>192</td>\n",
              "      <td>170</td>\n",
              "      <td>180</td>\n",
              "      <td>186</td>\n",
              "      <td>163</td>\n",
              "      <td>165</td>\n",
              "      <td>185</td>\n",
              "      <td>162</td>\n",
              "      <td>167</td>\n",
              "      <td>184</td>\n",
              "      <td>157</td>\n",
              "      <td>166</td>\n",
              "      <td>185</td>\n",
              "      <td>162</td>\n",
              "      <td>172</td>\n",
              "      <td>0</td>\n",
              "    </tr>\n",
              "    <tr>\n",
              "      <th>10014</th>\n",
              "      <td>175</td>\n",
              "      <td>142</td>\n",
              "      <td>121</td>\n",
              "      <td>181</td>\n",
              "      <td>150</td>\n",
              "      <td>134</td>\n",
              "      <td>181</td>\n",
              "      <td>150</td>\n",
              "      <td>133</td>\n",
              "      <td>178</td>\n",
              "      <td>145</td>\n",
              "      <td>127</td>\n",
              "      <td>177</td>\n",
              "      <td>144</td>\n",
              "      <td>122</td>\n",
              "      <td>177</td>\n",
              "      <td>146</td>\n",
              "      <td>123</td>\n",
              "      <td>179</td>\n",
              "      <td>148</td>\n",
              "      <td>126</td>\n",
              "      <td>185</td>\n",
              "      <td>157</td>\n",
              "      <td>140</td>\n",
              "      <td>177</td>\n",
              "      <td>142</td>\n",
              "      <td>113</td>\n",
              "      <td>174</td>\n",
              "      <td>138</td>\n",
              "      <td>112</td>\n",
              "      <td>177</td>\n",
              "      <td>141</td>\n",
              "      <td>117</td>\n",
              "      <td>175</td>\n",
              "      <td>139</td>\n",
              "      <td>108</td>\n",
              "      <td>178</td>\n",
              "      <td>145</td>\n",
              "      <td>117</td>\n",
              "      <td>181</td>\n",
              "      <td>...</td>\n",
              "      <td>183</td>\n",
              "      <td>150</td>\n",
              "      <td>136</td>\n",
              "      <td>178</td>\n",
              "      <td>141</td>\n",
              "      <td>116</td>\n",
              "      <td>184</td>\n",
              "      <td>151</td>\n",
              "      <td>135</td>\n",
              "      <td>188</td>\n",
              "      <td>160</td>\n",
              "      <td>147</td>\n",
              "      <td>183</td>\n",
              "      <td>153</td>\n",
              "      <td>131</td>\n",
              "      <td>180</td>\n",
              "      <td>146</td>\n",
              "      <td>131</td>\n",
              "      <td>173</td>\n",
              "      <td>137</td>\n",
              "      <td>115</td>\n",
              "      <td>157</td>\n",
              "      <td>88</td>\n",
              "      <td>68</td>\n",
              "      <td>146</td>\n",
              "      <td>32</td>\n",
              "      <td>47</td>\n",
              "      <td>145</td>\n",
              "      <td>24</td>\n",
              "      <td>48</td>\n",
              "      <td>159</td>\n",
              "      <td>79</td>\n",
              "      <td>82</td>\n",
              "      <td>174</td>\n",
              "      <td>137</td>\n",
              "      <td>125</td>\n",
              "      <td>175</td>\n",
              "      <td>139</td>\n",
              "      <td>126</td>\n",
              "      <td>6</td>\n",
              "    </tr>\n",
              "  </tbody>\n",
              "</table>\n",
              "<p>5 rows × 2353 columns</p>\n",
              "</div>"
            ],
            "text/plain": [
              "       pixel0000  pixel0001  pixel0002  ...  pixel2350  pixel2351  label\n",
              "10010        183        165        181  ...        187        189      0\n",
              "10011          2          3          1  ...          4          1      0\n",
              "10012        132        118        118  ...        151        145      0\n",
              "10013        160        124        146  ...        162        172      0\n",
              "10014        175        142        121  ...        139        126      6\n",
              "\n",
              "[5 rows x 2353 columns]"
            ]
          },
          "metadata": {
            "tags": []
          },
          "execution_count": 5
        }
      ]
    },
    {
      "cell_type": "code",
      "metadata": {
        "id": "iILXCW2hsoDl"
      },
      "source": [
        "#reference https://github.com/rohanmandrekar/Cifar-10-/blob/master/best_attempt%28model7%29.ipynb\n",
        "\n",
        "fractions=np.array([0.8,0.2])\n",
        "df=df.sample(frac=1)\n",
        "train_set, test_set = np.array_split(\n",
        "    df, (fractions[:-1].cumsum() * len(df)).astype(int))"
      ],
      "execution_count": 7,
      "outputs": []
    },
    {
      "cell_type": "code",
      "metadata": {
        "colab": {
          "base_uri": "https://localhost:8080/"
        },
        "id": "As38rXlQs1PY",
        "outputId": "a54e31de-c5cb-430c-b049-7ca5efdd49f6"
      },
      "source": [
        "print(len(train_set))"
      ],
      "execution_count": 9,
      "outputs": [
        {
          "output_type": "stream",
          "text": [
            "8012\n"
          ],
          "name": "stdout"
        }
      ]
    },
    {
      "cell_type": "code",
      "metadata": {
        "colab": {
          "base_uri": "https://localhost:8080/"
        },
        "id": "VY83gf_ss-x1",
        "outputId": "88c988ed-c5a8-433d-fc8f-344c4391e89a"
      },
      "source": [
        "print(len(test_set))"
      ],
      "execution_count": 10,
      "outputs": [
        {
          "output_type": "stream",
          "text": [
            "2003\n"
          ],
          "name": "stdout"
        }
      ]
    },
    {
      "cell_type": "code",
      "metadata": {
        "colab": {
          "base_uri": "https://localhost:8080/"
        },
        "id": "3w2H4w0_ubRT",
        "outputId": "19bac768-44f5-4844-f931-e16c40222fd0"
      },
      "source": [
        "df.label.unique()"
      ],
      "execution_count": 11,
      "outputs": [
        {
          "output_type": "execute_result",
          "data": {
            "text/plain": [
              "array([4, 6, 1, 3, 2, 0, 5])"
            ]
          },
          "metadata": {
            "tags": []
          },
          "execution_count": 11
        }
      ]
    },
    {
      "cell_type": "code",
      "metadata": {
        "id": "lHk4p-sdugSa"
      },
      "source": [
        "# reference: https://www.kaggle.com/kmader/skin-cancer-mnist-ham10000/discussion/183083\n",
        "classes={0:('akiec', 'actinic keratoses and intraepithelial carcinomae'),\n",
        "         1:('bcc' , 'basal cell carcinoma'),\n",
        "         2:('bkl', 'benign keratosis-like lesions'),\n",
        "         3:('df', 'dermatofibroma'),\n",
        "         4:('nv', ' melanocytic nevi'),\n",
        "         5:('vasc', ' pyogenic granulomas and hemorrhage'),\n",
        "         6:('mel', 'melanoma'),}"
      ],
      "execution_count": 12,
      "outputs": []
    },
    {
      "cell_type": "code",
      "metadata": {
        "id": "2W5sBRkZtBr9"
      },
      "source": [
        "y_train=train_set['label']\n",
        "x_train=train_set.drop(columns=['label'])\n",
        "y_test=test_set['label']\n",
        "x_test=test_set.drop(columns=['label'])\n",
        "\n",
        "columns=list(x_train)"
      ],
      "execution_count": 38,
      "outputs": []
    },
    {
      "cell_type": "code",
      "metadata": {
        "colab": {
          "base_uri": "https://localhost:8080/"
        },
        "id": "JzQneFTdtWO1",
        "outputId": "cc9c3097-91ba-49e8-89f6-ef8afe85efa5"
      },
      "source": [
        "device = torch.device(\"cuda:0\" if torch.cuda.is_available() else \"cpu\")\n",
        "print(device)"
      ],
      "execution_count": 39,
      "outputs": [
        {
          "output_type": "stream",
          "text": [
            "cpu\n"
          ],
          "name": "stdout"
        }
      ]
    },
    {
      "cell_type": "code",
      "metadata": {
        "colab": {
          "base_uri": "https://localhost:8080/",
          "height": 809
        },
        "id": "84ADzEUx5R9I",
        "outputId": "0a5c3ecf-edce-482c-9b98-38a0cbc2da84"
      },
      "source": [
        "import matplotlib.pyplot as plt\n",
        "import random\n",
        "num=random.randint(0,8000)\n",
        "x_train=np.array(x_train, dtype=np.uint8).reshape(-1,28,28,3)\n",
        "\n",
        "plt.imshow(x_train[num].reshape(28,28,3))\n",
        "plt.title(\"Random image from training data\")\n",
        "plt.show()\n",
        "num=random.randint(0,8000)\n",
        "plt.imshow(x_train[num].reshape(28,28,3))\n",
        "plt.title(\"Random image from training data\")\n",
        "plt.show()\n",
        "\n",
        "num=random.randint(0,8000)\n",
        "plt.imshow(x_train[num].reshape(28,28,3))\n",
        "plt.title(\"Random image from training data\")\n",
        "plt.show()"
      ],
      "execution_count": 52,
      "outputs": [
        {
          "output_type": "display_data",
          "data": {
            "image/png": "[encoded data removed]",
            "text/plain": [
              "<Figure size 432x288 with 1 Axes>"
            ]
          },
          "metadata": {
            "tags": [],
            "needs_background": "light"
          }
        },
        {
          "output_type": "display_data",
          "data": {
            "image/png": "[encoded data removed]",
            "text/plain": [
              "<Figure size 432x288 with 1 Axes>"
            ]
          },
          "metadata": {
            "tags": [],
            "needs_background": "light"
          }
        },
        {
          "output_type": "display_data",
          "data": {
            "image/png": "[encoded data removed]",
            "text/plain": [
              "<Figure size 432x288 with 1 Axes>"
            ]
          },
          "metadata": {
            "tags": [],
            "needs_background": "light"
          }
        }
      ]
    },
    {
      "cell_type": "code",
      "metadata": {
        "id": "Lr0Vi8bSuypD"
      },
      "source": [
        "transform = transforms.Compose(\n",
        "    [transforms.ToPILImage(),\n",
        "     transforms.ToTensor(),\n",
        "     transforms.Normalize((0.5, 0.5, 0.5), (0.5, 0.5, 0.5)),\n",
        "     transforms.RandomHorizontalFlip(p=1),\n",
        "     transforms.RandomVerticalFlip(p=1),\n",
        "     transforms.RandomRotation(degrees = 45),\n",
        "     transforms.RandomPerspective(distortion_scale=0.5, p=0.5,fill=0)\n",
        "     ])"
      ],
      "execution_count": 61,
      "outputs": []
    },
    {
      "cell_type": "code",
      "metadata": {
        "colab": {
          "base_uri": "https://localhost:8080/"
        },
        "id": "_OoTM8MNzTH1",
        "outputId": "3cb49ccd-b851-4861-e0fd-253a240827cc"
      },
      "source": [
        "\n",
        "print(x_train.shape)\n",
        "\n",
        "trainloader= torch.utils.data.DataLoader(x_train, batch_size=4)"
      ],
      "execution_count": 64,
      "outputs": [
        {
          "output_type": "stream",
          "text": [
            "(8012, 28, 28, 3)\n"
          ],
          "name": "stdout"
        }
      ]
    },
    {
      "cell_type": "code",
      "metadata": {
        "colab": {
          "base_uri": "https://localhost:8080/"
        },
        "id": "ffdKrGKZDHMo",
        "outputId": "76f8c66e-98da-4ca1-b4e9-aaa08dd0e447"
      },
      "source": [
        "import torch.nn as nn\n",
        "import torch.nn.functional as F\n",
        "\n",
        "class Model(nn.Module):\n",
        "  def __init__(self):\n",
        "    super(Model,self).__init__()\n",
        "    self.Conv1=nn.Conv2d(3,56,5)\n",
        "    self.Pool=nn.MaxPool2d(2,2)\n",
        "    self.Conv2=nn.Conv2d(56,112,5)\n",
        "    self.FC1=nn.Linear(112*5*5,1400)\n",
        "    self.FC2=nn.Linear(1400,700)\n",
        "    self.FC3=nn.Linear(700,350)\n",
        "    self.FC4=nn.Linear(350,175)\n",
        "    self.FC5=nn.Linear(175,80)\n",
        "    self.FC6=nn.Linear(80,30)\n",
        "    self.FC7=nn.Linear(30,7)\n",
        "    self.Drop=nn.Dropout(p=0.1)\n",
        "\n",
        "  def forward(self,x):\n",
        "    x = self.Pool(F.relu(self.Conv1(x)))\n",
        "    x = self.Cool(F.relu(self.Conv2(x)))\n",
        "    x = x.view(-1, 112*5*5)\n",
        "    x = F.relu(self.FC1(x))\n",
        "    x = F.relu(self.FC2(x))\n",
        "    x = F.relu(self.FC3(x))\n",
        "    x = self.drop(x)\n",
        "    x = F.relu(self.FC4(x))\n",
        "    x = F.relu(self.FC5(x))\n",
        "    x = self.dropout(x)\n",
        "    x = F.relu(self.FC6(x))\n",
        "    x = self.FC7(x)\n",
        "    return x\n",
        "\n",
        "model=Model()\n",
        "model=model.to(device)\n",
        "print(model)\n"
      ],
      "execution_count": 84,
      "outputs": [
        {
          "output_type": "stream",
          "text": [
            "Model(\n",
            "  (Conv1): Conv2d(3, 56, kernel_size=(5, 5), stride=(1, 1))\n",
            "  (Pool): MaxPool2d(kernel_size=2, stride=2, padding=0, dilation=1, ceil_mode=False)\n",
            "  (Conv2): Conv2d(56, 112, kernel_size=(5, 5), stride=(1, 1))\n",
            "  (FC1): Linear(in_features=2800, out_features=1400, bias=True)\n",
            "  (FC2): Linear(in_features=1400, out_features=700, bias=True)\n",
            "  (FC3): Linear(in_features=700, out_features=350, bias=True)\n",
            "  (FC4): Linear(in_features=350, out_features=175, bias=True)\n",
            "  (FC5): Linear(in_features=175, out_features=80, bias=True)\n",
            "  (FC6): Linear(in_features=80, out_features=30, bias=True)\n",
            "  (FC7): Linear(in_features=30, out_features=7, bias=True)\n",
            "  (Drop): Dropout(p=0.1, inplace=False)\n",
            ")\n"
          ],
          "name": "stdout"
        }
      ]
    },
    {
      "cell_type": "code",
      "metadata": {
        "id": "d2BtuasEGSqN"
      },
      "source": [
        "import torch.optim as optim\n",
        "\n",
        "criterion = nn.CrossEntropyLoss()\n",
        "optimizer = optim.SGD(model.parameters(), lr=0.001, momentum=0.9)"
      ],
      "execution_count": 82,
      "outputs": []
    },
    {
      "cell_type": "code",
      "metadata": {
        "colab": {
          "base_uri": "https://localhost:8080/",
          "height": 369
        },
        "id": "zhmZeOPmQGiX",
        "outputId": "4443fcbc-455b-46c3-c0f6-2f5b54dffca2"
      },
      "source": [
        "for epoch in range(50):\n",
        "  i=0\n",
        "  running_loss = 0.0\n",
        "  total_train = 0\n",
        "  correct_train = 0\n",
        "  for img in x_train:\n",
        "    optimizer.zero_grad()\n",
        "    \n",
        "    img=torchvision.transforms.functional.to_pil_image(img)\n",
        "    img=torch.from_numpy(np.array(img))\n",
        "    output=model(img.unsqueeze(1).reshape(1,3,28,28))\n",
        "    loss=criterion(output,y_train[i])\n",
        "    loss.backward()\n",
        "    optimizer.step()\n",
        "\n",
        "    running_loss=running_loss+loss.item()\n",
        "\n",
        "    _, predicted = torch.max(output.data, 1)\n",
        "    total_train += y_train[i].size(0)\n",
        "    correct_train += predicted.eq(y_train[i]).sum().item()\n",
        "    train_accuracy = 100 * correct_train / total_train\n",
        "\n",
        "    if i % 2000 == 1999:    # print every 2000 mini-batches\n",
        "      print('[%d, %5d] loss: %.3f' %\n",
        "      (epoch + 1, i + 1, running_loss / 2000))\n",
        "      print(\"training accuracy : \",train_accuracy)\n",
        "      running_loss = 0.0\n",
        "\n",
        "print('Finished Training')\n"
      ],
      "execution_count": 99,
      "outputs": [
        {
          "output_type": "error",
          "ename": "RuntimeError",
          "evalue": "ignored",
          "traceback": [
            "\u001b[0;31m---------------------------------------------------------------------------\u001b[0m",
            "\u001b[0;31mRuntimeError\u001b[0m                              Traceback (most recent call last)",
            "\u001b[0;32m<ipython-input-99-8b9edfc64614>\u001b[0m in \u001b[0;36m<module>\u001b[0;34m()\u001b[0m\n\u001b[1;32m      9\u001b[0m     \u001b[0mimg\u001b[0m\u001b[0;34m=\u001b[0m\u001b[0mtorchvision\u001b[0m\u001b[0;34m.\u001b[0m\u001b[0mtransforms\u001b[0m\u001b[0;34m.\u001b[0m\u001b[0mfunctional\u001b[0m\u001b[0;34m.\u001b[0m\u001b[0mto_pil_image\u001b[0m\u001b[0;34m(\u001b[0m\u001b[0mimg\u001b[0m\u001b[0;34m)\u001b[0m\u001b[0;34m\u001b[0m\u001b[0;34m\u001b[0m\u001b[0m\n\u001b[1;32m     10\u001b[0m     \u001b[0mimg\u001b[0m\u001b[0;34m=\u001b[0m\u001b[0mtorch\u001b[0m\u001b[0;34m.\u001b[0m\u001b[0mfrom_numpy\u001b[0m\u001b[0;34m(\u001b[0m\u001b[0mnp\u001b[0m\u001b[0;34m.\u001b[0m\u001b[0marray\u001b[0m\u001b[0;34m(\u001b[0m\u001b[0mimg\u001b[0m\u001b[0;34m)\u001b[0m\u001b[0;34m)\u001b[0m\u001b[0;34m\u001b[0m\u001b[0;34m\u001b[0m\u001b[0m\n\u001b[0;32m---> 11\u001b[0;31m     \u001b[0moutput\u001b[0m\u001b[0;34m=\u001b[0m\u001b[0mmodel\u001b[0m\u001b[0;34m(\u001b[0m\u001b[0mimg\u001b[0m\u001b[0;34m.\u001b[0m\u001b[0munsqueeze\u001b[0m\u001b[0;34m(\u001b[0m\u001b[0;36m1\u001b[0m\u001b[0;34m)\u001b[0m\u001b[0;34m.\u001b[0m\u001b[0mreshape\u001b[0m\u001b[0;34m(\u001b[0m\u001b[0;36m1\u001b[0m\u001b[0;34m,\u001b[0m\u001b[0;36m3\u001b[0m\u001b[0;34m,\u001b[0m\u001b[0;36m28\u001b[0m\u001b[0;34m,\u001b[0m\u001b[0;36m28\u001b[0m\u001b[0;34m)\u001b[0m\u001b[0;34m)\u001b[0m\u001b[0;34m\u001b[0m\u001b[0;34m\u001b[0m\u001b[0m\n\u001b[0m\u001b[1;32m     12\u001b[0m     \u001b[0mloss\u001b[0m\u001b[0;34m=\u001b[0m\u001b[0mcriterion\u001b[0m\u001b[0;34m(\u001b[0m\u001b[0moutput\u001b[0m\u001b[0;34m,\u001b[0m\u001b[0my_train\u001b[0m\u001b[0;34m[\u001b[0m\u001b[0mi\u001b[0m\u001b[0;34m]\u001b[0m\u001b[0;34m)\u001b[0m\u001b[0;34m\u001b[0m\u001b[0;34m\u001b[0m\u001b[0m\n\u001b[1;32m     13\u001b[0m     \u001b[0mloss\u001b[0m\u001b[0;34m.\u001b[0m\u001b[0mbackward\u001b[0m\u001b[0;34m(\u001b[0m\u001b[0;34m)\u001b[0m\u001b[0;34m\u001b[0m\u001b[0;34m\u001b[0m\u001b[0m\n",
            "\u001b[0;32m/usr/local/lib/python3.7/dist-packages/torch/nn/modules/module.py\u001b[0m in \u001b[0;36m_call_impl\u001b[0;34m(self, *input, **kwargs)\u001b[0m\n\u001b[1;32m    887\u001b[0m             \u001b[0mresult\u001b[0m \u001b[0;34m=\u001b[0m \u001b[0mself\u001b[0m\u001b[0;34m.\u001b[0m\u001b[0m_slow_forward\u001b[0m\u001b[0;34m(\u001b[0m\u001b[0;34m*\u001b[0m\u001b[0minput\u001b[0m\u001b[0;34m,\u001b[0m \u001b[0;34m**\u001b[0m\u001b[0mkwargs\u001b[0m\u001b[0;34m)\u001b[0m\u001b[0;34m\u001b[0m\u001b[0;34m\u001b[0m\u001b[0m\n\u001b[1;32m    888\u001b[0m         \u001b[0;32melse\u001b[0m\u001b[0;34m:\u001b[0m\u001b[0;34m\u001b[0m\u001b[0;34m\u001b[0m\u001b[0m\n\u001b[0;32m--> 889\u001b[0;31m             \u001b[0mresult\u001b[0m \u001b[0;34m=\u001b[0m \u001b[0mself\u001b[0m\u001b[0;34m.\u001b[0m\u001b[0mforward\u001b[0m\u001b[0;34m(\u001b[0m\u001b[0;34m*\u001b[0m\u001b[0minput\u001b[0m\u001b[0;34m,\u001b[0m \u001b[0;34m**\u001b[0m\u001b[0mkwargs\u001b[0m\u001b[0;34m)\u001b[0m\u001b[0;34m\u001b[0m\u001b[0;34m\u001b[0m\u001b[0m\n\u001b[0m\u001b[1;32m    890\u001b[0m         for hook in itertools.chain(\n\u001b[1;32m    891\u001b[0m                 \u001b[0m_global_forward_hooks\u001b[0m\u001b[0;34m.\u001b[0m\u001b[0mvalues\u001b[0m\u001b[0;34m(\u001b[0m\u001b[0;34m)\u001b[0m\u001b[0;34m,\u001b[0m\u001b[0;34m\u001b[0m\u001b[0;34m\u001b[0m\u001b[0m\n",
            "\u001b[0;32m<ipython-input-84-8879f06170b8>\u001b[0m in \u001b[0;36mforward\u001b[0;34m(self, x)\u001b[0m\n\u001b[1;32m     18\u001b[0m \u001b[0;34m\u001b[0m\u001b[0m\n\u001b[1;32m     19\u001b[0m   \u001b[0;32mdef\u001b[0m \u001b[0mforward\u001b[0m\u001b[0;34m(\u001b[0m\u001b[0mself\u001b[0m\u001b[0;34m,\u001b[0m\u001b[0mx\u001b[0m\u001b[0;34m)\u001b[0m\u001b[0;34m:\u001b[0m\u001b[0;34m\u001b[0m\u001b[0;34m\u001b[0m\u001b[0m\n\u001b[0;32m---> 20\u001b[0;31m     \u001b[0mx\u001b[0m \u001b[0;34m=\u001b[0m \u001b[0mself\u001b[0m\u001b[0;34m.\u001b[0m\u001b[0mPool\u001b[0m\u001b[0;34m(\u001b[0m\u001b[0mF\u001b[0m\u001b[0;34m.\u001b[0m\u001b[0mrelu\u001b[0m\u001b[0;34m(\u001b[0m\u001b[0mself\u001b[0m\u001b[0;34m.\u001b[0m\u001b[0mConv1\u001b[0m\u001b[0;34m(\u001b[0m\u001b[0mx\u001b[0m\u001b[0;34m)\u001b[0m\u001b[0;34m)\u001b[0m\u001b[0;34m)\u001b[0m\u001b[0;34m\u001b[0m\u001b[0;34m\u001b[0m\u001b[0m\n\u001b[0m\u001b[1;32m     21\u001b[0m     \u001b[0mx\u001b[0m \u001b[0;34m=\u001b[0m \u001b[0mself\u001b[0m\u001b[0;34m.\u001b[0m\u001b[0mCool\u001b[0m\u001b[0;34m(\u001b[0m\u001b[0mF\u001b[0m\u001b[0;34m.\u001b[0m\u001b[0mrelu\u001b[0m\u001b[0;34m(\u001b[0m\u001b[0mself\u001b[0m\u001b[0;34m.\u001b[0m\u001b[0mConv2\u001b[0m\u001b[0;34m(\u001b[0m\u001b[0mx\u001b[0m\u001b[0;34m)\u001b[0m\u001b[0;34m)\u001b[0m\u001b[0;34m)\u001b[0m\u001b[0;34m\u001b[0m\u001b[0;34m\u001b[0m\u001b[0m\n\u001b[1;32m     22\u001b[0m     \u001b[0mx\u001b[0m \u001b[0;34m=\u001b[0m \u001b[0mx\u001b[0m\u001b[0;34m.\u001b[0m\u001b[0mview\u001b[0m\u001b[0;34m(\u001b[0m\u001b[0;34m-\u001b[0m\u001b[0;36m1\u001b[0m\u001b[0;34m,\u001b[0m \u001b[0;36m112\u001b[0m\u001b[0;34m*\u001b[0m\u001b[0;36m5\u001b[0m\u001b[0;34m*\u001b[0m\u001b[0;36m5\u001b[0m\u001b[0;34m)\u001b[0m\u001b[0;34m\u001b[0m\u001b[0;34m\u001b[0m\u001b[0m\n",
            "\u001b[0;32m/usr/local/lib/python3.7/dist-packages/torch/nn/modules/module.py\u001b[0m in \u001b[0;36m_call_impl\u001b[0;34m(self, *input, **kwargs)\u001b[0m\n\u001b[1;32m    887\u001b[0m             \u001b[0mresult\u001b[0m \u001b[0;34m=\u001b[0m \u001b[0mself\u001b[0m\u001b[0;34m.\u001b[0m\u001b[0m_slow_forward\u001b[0m\u001b[0;34m(\u001b[0m\u001b[0;34m*\u001b[0m\u001b[0minput\u001b[0m\u001b[0;34m,\u001b[0m \u001b[0;34m**\u001b[0m\u001b[0mkwargs\u001b[0m\u001b[0;34m)\u001b[0m\u001b[0;34m\u001b[0m\u001b[0;34m\u001b[0m\u001b[0m\n\u001b[1;32m    888\u001b[0m         \u001b[0;32melse\u001b[0m\u001b[0;34m:\u001b[0m\u001b[0;34m\u001b[0m\u001b[0;34m\u001b[0m\u001b[0m\n\u001b[0;32m--> 889\u001b[0;31m             \u001b[0mresult\u001b[0m \u001b[0;34m=\u001b[0m \u001b[0mself\u001b[0m\u001b[0;34m.\u001b[0m\u001b[0mforward\u001b[0m\u001b[0;34m(\u001b[0m\u001b[0;34m*\u001b[0m\u001b[0minput\u001b[0m\u001b[0;34m,\u001b[0m \u001b[0;34m**\u001b[0m\u001b[0mkwargs\u001b[0m\u001b[0;34m)\u001b[0m\u001b[0;34m\u001b[0m\u001b[0;34m\u001b[0m\u001b[0m\n\u001b[0m\u001b[1;32m    890\u001b[0m         for hook in itertools.chain(\n\u001b[1;32m    891\u001b[0m                 \u001b[0m_global_forward_hooks\u001b[0m\u001b[0;34m.\u001b[0m\u001b[0mvalues\u001b[0m\u001b[0;34m(\u001b[0m\u001b[0;34m)\u001b[0m\u001b[0;34m,\u001b[0m\u001b[0;34m\u001b[0m\u001b[0;34m\u001b[0m\u001b[0m\n",
            "\u001b[0;32m/usr/local/lib/python3.7/dist-packages/torch/nn/modules/conv.py\u001b[0m in \u001b[0;36mforward\u001b[0;34m(self, input)\u001b[0m\n\u001b[1;32m    397\u001b[0m \u001b[0;34m\u001b[0m\u001b[0m\n\u001b[1;32m    398\u001b[0m     \u001b[0;32mdef\u001b[0m \u001b[0mforward\u001b[0m\u001b[0;34m(\u001b[0m\u001b[0mself\u001b[0m\u001b[0;34m,\u001b[0m \u001b[0minput\u001b[0m\u001b[0;34m:\u001b[0m \u001b[0mTensor\u001b[0m\u001b[0;34m)\u001b[0m \u001b[0;34m->\u001b[0m \u001b[0mTensor\u001b[0m\u001b[0;34m:\u001b[0m\u001b[0;34m\u001b[0m\u001b[0;34m\u001b[0m\u001b[0m\n\u001b[0;32m--> 399\u001b[0;31m         \u001b[0;32mreturn\u001b[0m \u001b[0mself\u001b[0m\u001b[0;34m.\u001b[0m\u001b[0m_conv_forward\u001b[0m\u001b[0;34m(\u001b[0m\u001b[0minput\u001b[0m\u001b[0;34m,\u001b[0m \u001b[0mself\u001b[0m\u001b[0;34m.\u001b[0m\u001b[0mweight\u001b[0m\u001b[0;34m,\u001b[0m \u001b[0mself\u001b[0m\u001b[0;34m.\u001b[0m\u001b[0mbias\u001b[0m\u001b[0;34m)\u001b[0m\u001b[0;34m\u001b[0m\u001b[0;34m\u001b[0m\u001b[0m\n\u001b[0m\u001b[1;32m    400\u001b[0m \u001b[0;34m\u001b[0m\u001b[0m\n\u001b[1;32m    401\u001b[0m \u001b[0;32mclass\u001b[0m \u001b[0mConv3d\u001b[0m\u001b[0;34m(\u001b[0m\u001b[0m_ConvNd\u001b[0m\u001b[0;34m)\u001b[0m\u001b[0;34m:\u001b[0m\u001b[0;34m\u001b[0m\u001b[0;34m\u001b[0m\u001b[0m\n",
            "\u001b[0;32m/usr/local/lib/python3.7/dist-packages/torch/nn/modules/conv.py\u001b[0m in \u001b[0;36m_conv_forward\u001b[0;34m(self, input, weight, bias)\u001b[0m\n\u001b[1;32m    394\u001b[0m                             _pair(0), self.dilation, self.groups)\n\u001b[1;32m    395\u001b[0m         return F.conv2d(input, weight, bias, self.stride,\n\u001b[0;32m--> 396\u001b[0;31m                         self.padding, self.dilation, self.groups)\n\u001b[0m\u001b[1;32m    397\u001b[0m \u001b[0;34m\u001b[0m\u001b[0m\n\u001b[1;32m    398\u001b[0m     \u001b[0;32mdef\u001b[0m \u001b[0mforward\u001b[0m\u001b[0;34m(\u001b[0m\u001b[0mself\u001b[0m\u001b[0;34m,\u001b[0m \u001b[0minput\u001b[0m\u001b[0;34m:\u001b[0m \u001b[0mTensor\u001b[0m\u001b[0;34m)\u001b[0m \u001b[0;34m->\u001b[0m \u001b[0mTensor\u001b[0m\u001b[0;34m:\u001b[0m\u001b[0;34m\u001b[0m\u001b[0;34m\u001b[0m\u001b[0m\n",
            "\u001b[0;31mRuntimeError\u001b[0m: expected scalar type Byte but found Float"
          ]
        }
      ]
    },
    {
      "cell_type": "code",
      "metadata": {
        "id": "obmDZia7Sxnn"
      },
      "source": [
        ""
      ],
      "execution_count": null,
      "outputs": []
    }
  ]
}