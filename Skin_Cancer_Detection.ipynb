{
  "nbformat": 4,
  "nbformat_minor": 0,
  "metadata": {
    "accelerator": "GPU",
    "colab": {
      "name": "SkinCancerDetection.ipynb",
      "provenance": [],
      "collapsed_sections": []
    },
    "kernelspec": {
      "display_name": "Python 3",
      "name": "python3"
    },
    "language_info": {
      "name": "python"
    }
  },
  "cells": [
    {
      "cell_type": "code",
      "metadata": {
        "id": "kES_rD67rrG6"
      },
      "source": [
        "import pandas as pd\n",
        "import numpy as np"
      ],
      "execution_count": 1,
      "outputs": []
    },
    {
      "cell_type": "code",
      "metadata": {
        "colab": {
          "base_uri": "https://localhost:8080/"
        },
        "id": "7zE639BQsKs7",
        "outputId": "def719cd-9c85-453a-8b87-26a63a646d48"
      },
      "source": [
        "from google.colab import drive\n",
        "drive.mount(\"/content/drive/\")"
      ],
      "execution_count": 4,
      "outputs": [
        {
          "output_type": "stream",
          "text": [
            "Mounted at /content/drive/\n"
          ],
          "name": "stdout"
        }
      ]
    },
    {
      "cell_type": "code",
      "metadata": {
        "id": "g7tDvsg5sNZK"
      },
      "source": [
        "#Dataset used: https://www.kaggle.com/kmader/skin-cancer-mnist-ham10000\n",
        "path='/content/drive/My Drive/Colab Notebooks/Skin Cancer/hmnist_28_28_RGB.csv'\n"
      ],
      "execution_count": 5,
      "outputs": []
    },
    {
      "cell_type": "code",
      "metadata": {
        "id": "TSlPUvq-sfo4"
      },
      "source": [
        "df=pd.read_csv(path)"
      ],
      "execution_count": 6,
      "outputs": []
    },
    {
      "cell_type": "code",
      "metadata": {
        "colab": {
          "base_uri": "https://localhost:8080/",
          "height": 245
        },
        "id": "-XZB67tXslAf",
        "outputId": "5d38852e-5b04-454e-e0ac-49f056e42b6e"
      },
      "source": [
        "df.tail()"
      ],
      "execution_count": 7,
      "outputs": [
        {
          "output_type": "execute_result",
          "data": {
            "text/html": [
              "<div>\n",
              "<style scoped>\n",
              "    .dataframe tbody tr th:only-of-type {\n",
              "        vertical-align: middle;\n",
              "    }\n",
              "\n",
              "    .dataframe tbody tr th {\n",
              "        vertical-align: top;\n",
              "    }\n",
              "\n",
              "    .dataframe thead th {\n",
              "        text-align: right;\n",
              "    }\n",
              "</style>\n",
              "<table border=\"1\" class=\"dataframe\">\n",
              "  <thead>\n",
              "    <tr style=\"text-align: right;\">\n",
              "      <th></th>\n",
              "      <th>pixel0000</th>\n",
              "      <th>pixel0001</th>\n",
              "      <th>pixel0002</th>\n",
              "      <th>pixel0003</th>\n",
              "      <th>pixel0004</th>\n",
              "      <th>pixel0005</th>\n",
              "      <th>pixel0006</th>\n",
              "      <th>pixel0007</th>\n",
              "      <th>pixel0008</th>\n",
              "      <th>pixel0009</th>\n",
              "      <th>pixel0010</th>\n",
              "      <th>pixel0011</th>\n",
              "      <th>pixel0012</th>\n",
              "      <th>pixel0013</th>\n",
              "      <th>pixel0014</th>\n",
              "      <th>pixel0015</th>\n",
              "      <th>pixel0016</th>\n",
              "      <th>pixel0017</th>\n",
              "      <th>pixel0018</th>\n",
              "      <th>pixel0019</th>\n",
              "      <th>pixel0020</th>\n",
              "      <th>pixel0021</th>\n",
              "      <th>pixel0022</th>\n",
              "      <th>pixel0023</th>\n",
              "      <th>pixel0024</th>\n",
              "      <th>pixel0025</th>\n",
              "      <th>pixel0026</th>\n",
              "      <th>pixel0027</th>\n",
              "      <th>pixel0028</th>\n",
              "      <th>pixel0029</th>\n",
              "      <th>pixel0030</th>\n",
              "      <th>pixel0031</th>\n",
              "      <th>pixel0032</th>\n",
              "      <th>pixel0033</th>\n",
              "      <th>pixel0034</th>\n",
              "      <th>pixel0035</th>\n",
              "      <th>pixel0036</th>\n",
              "      <th>pixel0037</th>\n",
              "      <th>pixel0038</th>\n",
              "      <th>pixel0039</th>\n",
              "      <th>...</th>\n",
              "      <th>pixel2313</th>\n",
              "      <th>pixel2314</th>\n",
              "      <th>pixel2315</th>\n",
              "      <th>pixel2316</th>\n",
              "      <th>pixel2317</th>\n",
              "      <th>pixel2318</th>\n",
              "      <th>pixel2319</th>\n",
              "      <th>pixel2320</th>\n",
              "      <th>pixel2321</th>\n",
              "      <th>pixel2322</th>\n",
              "      <th>pixel2323</th>\n",
              "      <th>pixel2324</th>\n",
              "      <th>pixel2325</th>\n",
              "      <th>pixel2326</th>\n",
              "      <th>pixel2327</th>\n",
              "      <th>pixel2328</th>\n",
              "      <th>pixel2329</th>\n",
              "      <th>pixel2330</th>\n",
              "      <th>pixel2331</th>\n",
              "      <th>pixel2332</th>\n",
              "      <th>pixel2333</th>\n",
              "      <th>pixel2334</th>\n",
              "      <th>pixel2335</th>\n",
              "      <th>pixel2336</th>\n",
              "      <th>pixel2337</th>\n",
              "      <th>pixel2338</th>\n",
              "      <th>pixel2339</th>\n",
              "      <th>pixel2340</th>\n",
              "      <th>pixel2341</th>\n",
              "      <th>pixel2342</th>\n",
              "      <th>pixel2343</th>\n",
              "      <th>pixel2344</th>\n",
              "      <th>pixel2345</th>\n",
              "      <th>pixel2346</th>\n",
              "      <th>pixel2347</th>\n",
              "      <th>pixel2348</th>\n",
              "      <th>pixel2349</th>\n",
              "      <th>pixel2350</th>\n",
              "      <th>pixel2351</th>\n",
              "      <th>label</th>\n",
              "    </tr>\n",
              "  </thead>\n",
              "  <tbody>\n",
              "    <tr>\n",
              "      <th>10010</th>\n",
              "      <td>183</td>\n",
              "      <td>165</td>\n",
              "      <td>181</td>\n",
              "      <td>182</td>\n",
              "      <td>165</td>\n",
              "      <td>180</td>\n",
              "      <td>184</td>\n",
              "      <td>166</td>\n",
              "      <td>182</td>\n",
              "      <td>188</td>\n",
              "      <td>168</td>\n",
              "      <td>182</td>\n",
              "      <td>181</td>\n",
              "      <td>157</td>\n",
              "      <td>162</td>\n",
              "      <td>205</td>\n",
              "      <td>179</td>\n",
              "      <td>188</td>\n",
              "      <td>221</td>\n",
              "      <td>199</td>\n",
              "      <td>214</td>\n",
              "      <td>224</td>\n",
              "      <td>202</td>\n",
              "      <td>215</td>\n",
              "      <td>226</td>\n",
              "      <td>201</td>\n",
              "      <td>205</td>\n",
              "      <td>223</td>\n",
              "      <td>198</td>\n",
              "      <td>206</td>\n",
              "      <td>230</td>\n",
              "      <td>207</td>\n",
              "      <td>219</td>\n",
              "      <td>228</td>\n",
              "      <td>201</td>\n",
              "      <td>211</td>\n",
              "      <td>229</td>\n",
              "      <td>203</td>\n",
              "      <td>210</td>\n",
              "      <td>223</td>\n",
              "      <td>...</td>\n",
              "      <td>225</td>\n",
              "      <td>197</td>\n",
              "      <td>195</td>\n",
              "      <td>222</td>\n",
              "      <td>193</td>\n",
              "      <td>193</td>\n",
              "      <td>228</td>\n",
              "      <td>199</td>\n",
              "      <td>202</td>\n",
              "      <td>231</td>\n",
              "      <td>202</td>\n",
              "      <td>204</td>\n",
              "      <td>227</td>\n",
              "      <td>203</td>\n",
              "      <td>206</td>\n",
              "      <td>230</td>\n",
              "      <td>211</td>\n",
              "      <td>219</td>\n",
              "      <td>231</td>\n",
              "      <td>217</td>\n",
              "      <td>223</td>\n",
              "      <td>222</td>\n",
              "      <td>204</td>\n",
              "      <td>207</td>\n",
              "      <td>202</td>\n",
              "      <td>179</td>\n",
              "      <td>180</td>\n",
              "      <td>205</td>\n",
              "      <td>180</td>\n",
              "      <td>181</td>\n",
              "      <td>208</td>\n",
              "      <td>185</td>\n",
              "      <td>187</td>\n",
              "      <td>208</td>\n",
              "      <td>186</td>\n",
              "      <td>186</td>\n",
              "      <td>206</td>\n",
              "      <td>187</td>\n",
              "      <td>189</td>\n",
              "      <td>0</td>\n",
              "    </tr>\n",
              "    <tr>\n",
              "      <th>10011</th>\n",
              "      <td>2</td>\n",
              "      <td>3</td>\n",
              "      <td>1</td>\n",
              "      <td>38</td>\n",
              "      <td>33</td>\n",
              "      <td>32</td>\n",
              "      <td>121</td>\n",
              "      <td>104</td>\n",
              "      <td>103</td>\n",
              "      <td>132</td>\n",
              "      <td>111</td>\n",
              "      <td>107</td>\n",
              "      <td>130</td>\n",
              "      <td>108</td>\n",
              "      <td>104</td>\n",
              "      <td>136</td>\n",
              "      <td>112</td>\n",
              "      <td>111</td>\n",
              "      <td>148</td>\n",
              "      <td>125</td>\n",
              "      <td>125</td>\n",
              "      <td>155</td>\n",
              "      <td>132</td>\n",
              "      <td>134</td>\n",
              "      <td>157</td>\n",
              "      <td>132</td>\n",
              "      <td>132</td>\n",
              "      <td>164</td>\n",
              "      <td>138</td>\n",
              "      <td>137</td>\n",
              "      <td>187</td>\n",
              "      <td>161</td>\n",
              "      <td>161</td>\n",
              "      <td>198</td>\n",
              "      <td>172</td>\n",
              "      <td>173</td>\n",
              "      <td>202</td>\n",
              "      <td>175</td>\n",
              "      <td>175</td>\n",
              "      <td>209</td>\n",
              "      <td>...</td>\n",
              "      <td>207</td>\n",
              "      <td>179</td>\n",
              "      <td>179</td>\n",
              "      <td>195</td>\n",
              "      <td>164</td>\n",
              "      <td>162</td>\n",
              "      <td>197</td>\n",
              "      <td>168</td>\n",
              "      <td>169</td>\n",
              "      <td>203</td>\n",
              "      <td>176</td>\n",
              "      <td>180</td>\n",
              "      <td>192</td>\n",
              "      <td>165</td>\n",
              "      <td>165</td>\n",
              "      <td>188</td>\n",
              "      <td>162</td>\n",
              "      <td>162</td>\n",
              "      <td>184</td>\n",
              "      <td>162</td>\n",
              "      <td>164</td>\n",
              "      <td>185</td>\n",
              "      <td>162</td>\n",
              "      <td>163</td>\n",
              "      <td>161</td>\n",
              "      <td>137</td>\n",
              "      <td>135</td>\n",
              "      <td>155</td>\n",
              "      <td>132</td>\n",
              "      <td>129</td>\n",
              "      <td>96</td>\n",
              "      <td>79</td>\n",
              "      <td>76</td>\n",
              "      <td>24</td>\n",
              "      <td>23</td>\n",
              "      <td>21</td>\n",
              "      <td>3</td>\n",
              "      <td>4</td>\n",
              "      <td>1</td>\n",
              "      <td>0</td>\n",
              "    </tr>\n",
              "    <tr>\n",
              "      <th>10012</th>\n",
              "      <td>132</td>\n",
              "      <td>118</td>\n",
              "      <td>118</td>\n",
              "      <td>167</td>\n",
              "      <td>149</td>\n",
              "      <td>149</td>\n",
              "      <td>175</td>\n",
              "      <td>156</td>\n",
              "      <td>160</td>\n",
              "      <td>184</td>\n",
              "      <td>164</td>\n",
              "      <td>167</td>\n",
              "      <td>195</td>\n",
              "      <td>173</td>\n",
              "      <td>175</td>\n",
              "      <td>210</td>\n",
              "      <td>191</td>\n",
              "      <td>199</td>\n",
              "      <td>212</td>\n",
              "      <td>195</td>\n",
              "      <td>201</td>\n",
              "      <td>210</td>\n",
              "      <td>189</td>\n",
              "      <td>193</td>\n",
              "      <td>218</td>\n",
              "      <td>194</td>\n",
              "      <td>203</td>\n",
              "      <td>217</td>\n",
              "      <td>191</td>\n",
              "      <td>195</td>\n",
              "      <td>217</td>\n",
              "      <td>195</td>\n",
              "      <td>199</td>\n",
              "      <td>224</td>\n",
              "      <td>201</td>\n",
              "      <td>203</td>\n",
              "      <td>236</td>\n",
              "      <td>211</td>\n",
              "      <td>215</td>\n",
              "      <td>250</td>\n",
              "      <td>...</td>\n",
              "      <td>200</td>\n",
              "      <td>169</td>\n",
              "      <td>165</td>\n",
              "      <td>217</td>\n",
              "      <td>183</td>\n",
              "      <td>179</td>\n",
              "      <td>241</td>\n",
              "      <td>211</td>\n",
              "      <td>210</td>\n",
              "      <td>242</td>\n",
              "      <td>216</td>\n",
              "      <td>215</td>\n",
              "      <td>239</td>\n",
              "      <td>214</td>\n",
              "      <td>213</td>\n",
              "      <td>234</td>\n",
              "      <td>208</td>\n",
              "      <td>208</td>\n",
              "      <td>224</td>\n",
              "      <td>198</td>\n",
              "      <td>196</td>\n",
              "      <td>206</td>\n",
              "      <td>180</td>\n",
              "      <td>177</td>\n",
              "      <td>226</td>\n",
              "      <td>202</td>\n",
              "      <td>201</td>\n",
              "      <td>214</td>\n",
              "      <td>192</td>\n",
              "      <td>190</td>\n",
              "      <td>204</td>\n",
              "      <td>181</td>\n",
              "      <td>178</td>\n",
              "      <td>181</td>\n",
              "      <td>159</td>\n",
              "      <td>153</td>\n",
              "      <td>172</td>\n",
              "      <td>151</td>\n",
              "      <td>145</td>\n",
              "      <td>0</td>\n",
              "    </tr>\n",
              "    <tr>\n",
              "      <th>10013</th>\n",
              "      <td>160</td>\n",
              "      <td>124</td>\n",
              "      <td>146</td>\n",
              "      <td>164</td>\n",
              "      <td>131</td>\n",
              "      <td>152</td>\n",
              "      <td>167</td>\n",
              "      <td>127</td>\n",
              "      <td>146</td>\n",
              "      <td>169</td>\n",
              "      <td>124</td>\n",
              "      <td>142</td>\n",
              "      <td>173</td>\n",
              "      <td>134</td>\n",
              "      <td>149</td>\n",
              "      <td>177</td>\n",
              "      <td>139</td>\n",
              "      <td>156</td>\n",
              "      <td>181</td>\n",
              "      <td>141</td>\n",
              "      <td>159</td>\n",
              "      <td>183</td>\n",
              "      <td>137</td>\n",
              "      <td>154</td>\n",
              "      <td>185</td>\n",
              "      <td>139</td>\n",
              "      <td>160</td>\n",
              "      <td>185</td>\n",
              "      <td>145</td>\n",
              "      <td>165</td>\n",
              "      <td>186</td>\n",
              "      <td>148</td>\n",
              "      <td>162</td>\n",
              "      <td>189</td>\n",
              "      <td>157</td>\n",
              "      <td>170</td>\n",
              "      <td>190</td>\n",
              "      <td>155</td>\n",
              "      <td>169</td>\n",
              "      <td>191</td>\n",
              "      <td>...</td>\n",
              "      <td>189</td>\n",
              "      <td>141</td>\n",
              "      <td>159</td>\n",
              "      <td>192</td>\n",
              "      <td>167</td>\n",
              "      <td>179</td>\n",
              "      <td>193</td>\n",
              "      <td>173</td>\n",
              "      <td>183</td>\n",
              "      <td>192</td>\n",
              "      <td>171</td>\n",
              "      <td>181</td>\n",
              "      <td>190</td>\n",
              "      <td>164</td>\n",
              "      <td>171</td>\n",
              "      <td>190</td>\n",
              "      <td>162</td>\n",
              "      <td>171</td>\n",
              "      <td>190</td>\n",
              "      <td>168</td>\n",
              "      <td>179</td>\n",
              "      <td>194</td>\n",
              "      <td>177</td>\n",
              "      <td>187</td>\n",
              "      <td>192</td>\n",
              "      <td>170</td>\n",
              "      <td>180</td>\n",
              "      <td>186</td>\n",
              "      <td>163</td>\n",
              "      <td>165</td>\n",
              "      <td>185</td>\n",
              "      <td>162</td>\n",
              "      <td>167</td>\n",
              "      <td>184</td>\n",
              "      <td>157</td>\n",
              "      <td>166</td>\n",
              "      <td>185</td>\n",
              "      <td>162</td>\n",
              "      <td>172</td>\n",
              "      <td>0</td>\n",
              "    </tr>\n",
              "    <tr>\n",
              "      <th>10014</th>\n",
              "      <td>175</td>\n",
              "      <td>142</td>\n",
              "      <td>121</td>\n",
              "      <td>181</td>\n",
              "      <td>150</td>\n",
              "      <td>134</td>\n",
              "      <td>181</td>\n",
              "      <td>150</td>\n",
              "      <td>133</td>\n",
              "      <td>178</td>\n",
              "      <td>145</td>\n",
              "      <td>127</td>\n",
              "      <td>177</td>\n",
              "      <td>144</td>\n",
              "      <td>122</td>\n",
              "      <td>177</td>\n",
              "      <td>146</td>\n",
              "      <td>123</td>\n",
              "      <td>179</td>\n",
              "      <td>148</td>\n",
              "      <td>126</td>\n",
              "      <td>185</td>\n",
              "      <td>157</td>\n",
              "      <td>140</td>\n",
              "      <td>177</td>\n",
              "      <td>142</td>\n",
              "      <td>113</td>\n",
              "      <td>174</td>\n",
              "      <td>138</td>\n",
              "      <td>112</td>\n",
              "      <td>177</td>\n",
              "      <td>141</td>\n",
              "      <td>117</td>\n",
              "      <td>175</td>\n",
              "      <td>139</td>\n",
              "      <td>108</td>\n",
              "      <td>178</td>\n",
              "      <td>145</td>\n",
              "      <td>117</td>\n",
              "      <td>181</td>\n",
              "      <td>...</td>\n",
              "      <td>183</td>\n",
              "      <td>150</td>\n",
              "      <td>136</td>\n",
              "      <td>178</td>\n",
              "      <td>141</td>\n",
              "      <td>116</td>\n",
              "      <td>184</td>\n",
              "      <td>151</td>\n",
              "      <td>135</td>\n",
              "      <td>188</td>\n",
              "      <td>160</td>\n",
              "      <td>147</td>\n",
              "      <td>183</td>\n",
              "      <td>153</td>\n",
              "      <td>131</td>\n",
              "      <td>180</td>\n",
              "      <td>146</td>\n",
              "      <td>131</td>\n",
              "      <td>173</td>\n",
              "      <td>137</td>\n",
              "      <td>115</td>\n",
              "      <td>157</td>\n",
              "      <td>88</td>\n",
              "      <td>68</td>\n",
              "      <td>146</td>\n",
              "      <td>32</td>\n",
              "      <td>47</td>\n",
              "      <td>145</td>\n",
              "      <td>24</td>\n",
              "      <td>48</td>\n",
              "      <td>159</td>\n",
              "      <td>79</td>\n",
              "      <td>82</td>\n",
              "      <td>174</td>\n",
              "      <td>137</td>\n",
              "      <td>125</td>\n",
              "      <td>175</td>\n",
              "      <td>139</td>\n",
              "      <td>126</td>\n",
              "      <td>6</td>\n",
              "    </tr>\n",
              "  </tbody>\n",
              "</table>\n",
              "<p>5 rows × 2353 columns</p>\n",
              "</div>"
            ],
            "text/plain": [
              "       pixel0000  pixel0001  pixel0002  ...  pixel2350  pixel2351  label\n",
              "10010        183        165        181  ...        187        189      0\n",
              "10011          2          3          1  ...          4          1      0\n",
              "10012        132        118        118  ...        151        145      0\n",
              "10013        160        124        146  ...        162        172      0\n",
              "10014        175        142        121  ...        139        126      6\n",
              "\n",
              "[5 rows x 2353 columns]"
            ]
          },
          "metadata": {
            "tags": []
          },
          "execution_count": 7
        }
      ]
    },
    {
      "cell_type": "code",
      "metadata": {
        "id": "iILXCW2hsoDl"
      },
      "source": [
        "#reference https://github.com/rohanmandrekar/Cifar-10-/blob/master/best_attempt%28model7%29.ipynb\n",
        "\n",
        "fractions=np.array([0.8,0.2])\n",
        "df=df.sample(frac=1)\n",
        "train_set, test_set = np.array_split(\n",
        "    df, (fractions[:-1].cumsum() * len(df)).astype(int))"
      ],
      "execution_count": 8,
      "outputs": []
    },
    {
      "cell_type": "code",
      "metadata": {
        "colab": {
          "base_uri": "https://localhost:8080/"
        },
        "id": "As38rXlQs1PY",
        "outputId": "f92b486a-d9a4-4811-9ff7-2963812ed6e0"
      },
      "source": [
        "print(len(train_set))"
      ],
      "execution_count": 9,
      "outputs": [
        {
          "output_type": "stream",
          "text": [
            "8012\n"
          ],
          "name": "stdout"
        }
      ]
    },
    {
      "cell_type": "code",
      "metadata": {
        "colab": {
          "base_uri": "https://localhost:8080/"
        },
        "id": "VY83gf_ss-x1",
        "outputId": "b603be93-bb25-42c1-8c32-1e8650b93178"
      },
      "source": [
        "print(len(test_set))"
      ],
      "execution_count": 10,
      "outputs": [
        {
          "output_type": "stream",
          "text": [
            "2003\n"
          ],
          "name": "stdout"
        }
      ]
    },
    {
      "cell_type": "code",
      "metadata": {
        "colab": {
          "base_uri": "https://localhost:8080/"
        },
        "id": "3w2H4w0_ubRT",
        "outputId": "d7cde605-4028-4714-a273-0c5cb0921cfb"
      },
      "source": [
        "df.label.unique()"
      ],
      "execution_count": 11,
      "outputs": [
        {
          "output_type": "execute_result",
          "data": {
            "text/plain": [
              "array([6, 4, 2, 0, 1, 5, 3])"
            ]
          },
          "metadata": {
            "tags": []
          },
          "execution_count": 11
        }
      ]
    },
    {
      "cell_type": "code",
      "metadata": {
        "id": "lHk4p-sdugSa"
      },
      "source": [
        "# reference: https://www.kaggle.com/kmader/skin-cancer-mnist-ham10000/discussion/183083\n",
        "classes={0:('akiec', 'actinic keratoses and intraepithelial carcinomae'),\n",
        "         1:('bcc' , 'basal cell carcinoma'),\n",
        "         2:('bkl', 'benign keratosis-like lesions'),\n",
        "         3:('df', 'dermatofibroma'),\n",
        "         4:('nv', ' melanocytic nevi'),\n",
        "         5:('vasc', ' pyogenic granulomas and hemorrhage'),\n",
        "         6:('mel', 'melanoma'),}"
      ],
      "execution_count": 12,
      "outputs": []
    },
    {
      "cell_type": "code",
      "metadata": {
        "id": "2W5sBRkZtBr9"
      },
      "source": [
        "y_train=train_set['label']\n",
        "x_train=train_set.drop(columns=['label'])\n",
        "y_test=test_set['label']\n",
        "x_test=test_set.drop(columns=['label'])\n",
        "\n",
        "columns=list(x_train)"
      ],
      "execution_count": 13,
      "outputs": []
    },
    {
      "cell_type": "code",
      "metadata": {
        "colab": {
          "base_uri": "https://localhost:8080/"
        },
        "id": "JzQneFTdtWO1",
        "outputId": "1009ba3e-7108-4bdb-9591-c858b4650966"
      },
      "source": [
        "import torch\n",
        "device = torch.device(\"cuda:0\" if torch.cuda.is_available() else \"cpu\")\n",
        "print(device)"
      ],
      "execution_count": 14,
      "outputs": [
        {
          "output_type": "stream",
          "text": [
            "cuda:0\n"
          ],
          "name": "stdout"
        }
      ]
    },
    {
      "cell_type": "code",
      "metadata": {
        "colab": {
          "base_uri": "https://localhost:8080/",
          "height": 349
        },
        "id": "Tv4196QOhtmI",
        "outputId": "0e8780d1-b8cd-4ac8-c7d3-47f2c4033752"
      },
      "source": [
        "import seaborn as sns\n",
        "\n",
        "sns.countplot(train_set['label'])"
      ],
      "execution_count": 15,
      "outputs": [
        {
          "output_type": "stream",
          "text": [
            "/usr/local/lib/python3.7/dist-packages/seaborn/_decorators.py:43: FutureWarning: Pass the following variable as a keyword arg: x. From version 0.12, the only valid positional argument will be `data`, and passing other arguments without an explicit keyword will result in an error or misinterpretation.\n",
            "  FutureWarning\n"
          ],
          "name": "stderr"
        },
        {
          "output_type": "execute_result",
          "data": {
            "text/plain": [
              "<matplotlib.axes._subplots.AxesSubplot at 0x7f69de190490>"
            ]
          },
          "metadata": {
            "tags": []
          },
          "execution_count": 15
        },
        {
          "output_type": "display_data",
          "data": {
            "image/png": "[encoded data removed]",
            "text/plain": [
              "<Figure size 432x288 with 1 Axes>"
            ]
          },
          "metadata": {
            "tags": [],
            "needs_background": "light"
          }
        }
      ]
    },
    {
      "cell_type": "code",
      "metadata": {
        "colab": {
          "base_uri": "https://localhost:8080/"
        },
        "id": "CKIlAJY9pwh1",
        "outputId": "59e6b993-8e3c-44d7-ab37-30d1e1e5052e"
      },
      "source": [
        "from imblearn.over_sampling import RandomOverSampler \n",
        "oversample = RandomOverSampler()\n",
        "x_train,y_train  = oversample.fit_resample(x_train,y_train)"
      ],
      "execution_count": 16,
      "outputs": [
        {
          "output_type": "stream",
          "text": [
            "/usr/local/lib/python3.7/dist-packages/sklearn/externals/six.py:31: FutureWarning: The module is deprecated in version 0.21 and will be removed in version 0.23 since we've dropped support for Python 2.7. Please rely on the official version of six (https://pypi.org/project/six/).\n",
            "  \"(https://pypi.org/project/six/).\", FutureWarning)\n",
            "/usr/local/lib/python3.7/dist-packages/sklearn/utils/deprecation.py:144: FutureWarning: The sklearn.neighbors.base module is  deprecated in version 0.22 and will be removed in version 0.24. The corresponding classes / functions should instead be imported from sklearn.neighbors. Anything that cannot be imported from sklearn.neighbors is now part of the private API.\n",
            "  warnings.warn(message, FutureWarning)\n",
            "/usr/local/lib/python3.7/dist-packages/sklearn/utils/deprecation.py:87: FutureWarning: Function safe_indexing is deprecated; safe_indexing is deprecated in version 0.22 and will be removed in version 0.24.\n",
            "  warnings.warn(msg, category=FutureWarning)\n"
          ],
          "name": "stderr"
        }
      ]
    },
    {
      "cell_type": "code",
      "metadata": {
        "colab": {
          "base_uri": "https://localhost:8080/",
          "height": 335
        },
        "id": "tM_GikKFiJuK",
        "outputId": "12844b4e-1089-4289-d623-f6be03b63e7a"
      },
      "source": [
        "sns.countplot(y_train)"
      ],
      "execution_count": 17,
      "outputs": [
        {
          "output_type": "stream",
          "text": [
            "/usr/local/lib/python3.7/dist-packages/seaborn/_decorators.py:43: FutureWarning: Pass the following variable as a keyword arg: x. From version 0.12, the only valid positional argument will be `data`, and passing other arguments without an explicit keyword will result in an error or misinterpretation.\n",
            "  FutureWarning\n"
          ],
          "name": "stderr"
        },
        {
          "output_type": "execute_result",
          "data": {
            "text/plain": [
              "<matplotlib.axes._subplots.AxesSubplot at 0x7f69da1100d0>"
            ]
          },
          "metadata": {
            "tags": []
          },
          "execution_count": 17
        },
        {
          "output_type": "display_data",
          "data": {
            "image/png": "[encoded data removed]",
            "text/plain": [
              "<Figure size 432x288 with 1 Axes>"
            ]
          },
          "metadata": {
            "tags": [],
            "needs_background": "light"
          }
        }
      ]
    },
    {
      "cell_type": "code",
      "metadata": {
        "colab": {
          "base_uri": "https://localhost:8080/",
          "height": 809
        },
        "id": "84ADzEUx5R9I",
        "outputId": "b356da73-c4d5-4a9f-bb6b-05f40a6362d4"
      },
      "source": [
        "import matplotlib.pyplot as plt\n",
        "import random\n",
        "num=random.randint(0,8000)\n",
        "x_train=np.array(x_train, dtype=np.uint8).reshape(-1,28,28,3)\n",
        "\n",
        "plt.imshow(x_train[num].reshape(28,28,3))\n",
        "plt.title(\"Random image from training data\")\n",
        "plt.show()\n",
        "num=random.randint(0,8000)\n",
        "plt.imshow(x_train[num].reshape(28,28,3))\n",
        "plt.title(\"Random image from training data\")\n",
        "plt.show()\n",
        "\n",
        "num=random.randint(0,8000)\n",
        "plt.imshow(x_train[num].reshape(28,28,3))\n",
        "plt.title(\"Random image from training data\")\n",
        "plt.show()"
      ],
      "execution_count": 18,
      "outputs": [
        {
          "output_type": "display_data",
          "data": {
            "image/png": "[encoded data removed]",
            "text/plain": [
              "<Figure size 432x288 with 1 Axes>"
            ]
          },
          "metadata": {
            "tags": [],
            "needs_background": "light"
          }
        },
        {
          "output_type": "display_data",
          "data": {
            "image/png": "[encoded data removed]",
            "text/plain": [
              "<Figure size 432x288 with 1 Axes>"
            ]
          },
          "metadata": {
            "tags": [],
            "needs_background": "light"
          }
        },
        {
          "output_type": "display_data",
          "data": {
            "image/png": "[encoded data removed]",
            "text/plain": [
              "<Figure size 432x288 with 1 Axes>"
            ]
          },
          "metadata": {
            "tags": [],
            "needs_background": "light"
          }
        }
      ]
    },
    {
      "cell_type": "code",
      "metadata": {
        "id": "obmDZia7Sxnn"
      },
      "source": [
        "from tensorflow.keras.models import Sequential\n",
        "from tensorflow.keras.layers import Conv2D, Flatten, Dense, MaxPool2D\n",
        "import tensorflow as tf"
      ],
      "execution_count": 19,
      "outputs": []
    },
    {
      "cell_type": "code",
      "metadata": {
        "colab": {
          "base_uri": "https://localhost:8080/"
        },
        "id": "Vsll2hd2wzuS",
        "outputId": "a360ab3e-d2ce-43f3-f634-72a08b69e5c4"
      },
      "source": [
        "model = Sequential()\n",
        "model.add(Conv2D(16, kernel_size = (3,3), input_shape = (28, 28, 3), activation = 'relu', padding = 'same'))\n",
        "model.add(MaxPool2D(pool_size = (2,2)))\n",
        "model.add(tf.keras.layers.BatchNormalization())\n",
        "model.add(Conv2D(32, kernel_size = (3,3), activation = 'relu'))\n",
        "model.add(Conv2D(64, kernel_size = (3,3), activation = 'relu'))\n",
        "model.add(MaxPool2D(pool_size = (2,2)))\n",
        "model.add(tf.keras.layers.BatchNormalization())\n",
        "model.add(Conv2D(128, kernel_size = (3,3), activation = 'relu'))\n",
        "model.add(Conv2D(256, kernel_size = (3,3), activation = 'relu'))\n",
        "model.add(Flatten())\n",
        "model.add(tf.keras.layers.Dropout(0.2))\n",
        "model.add(Dense(256,activation='relu'))\n",
        "model.add(tf.keras.layers.BatchNormalization())\n",
        "model.add(tf.keras.layers.Dropout(0.2))\n",
        "model.add(Dense(128,activation='relu'))\n",
        "model.add(tf.keras.layers.BatchNormalization())\n",
        "model.add(Dense(64,activation='relu'))\n",
        "model.add(tf.keras.layers.BatchNormalization())\n",
        "model.add(tf.keras.layers.Dropout(0.2))\n",
        "model.add(Dense(32,activation='relu'))\n",
        "model.add(tf.keras.layers.BatchNormalization())\n",
        "model.add(Dense(7,activation='softmax'))\n",
        "\n",
        "model.summary()"
      ],
      "execution_count": 20,
      "outputs": [
        {
          "output_type": "stream",
          "text": [
            "Model: \"sequential\"\n",
            "_________________________________________________________________\n",
            "Layer (type)                 Output Shape              Param #   \n",
            "=================================================================\n",
            "conv2d (Conv2D)              (None, 28, 28, 16)        448       \n",
            "_________________________________________________________________\n",
            "max_pooling2d (MaxPooling2D) (None, 14, 14, 16)        0         \n",
            "_________________________________________________________________\n",
            "batch_normalization (BatchNo (None, 14, 14, 16)        64        \n",
            "_________________________________________________________________\n",
            "conv2d_1 (Conv2D)            (None, 12, 12, 32)        4640      \n",
            "_________________________________________________________________\n",
            "conv2d_2 (Conv2D)            (None, 10, 10, 64)        18496     \n",
            "_________________________________________________________________\n",
            "max_pooling2d_1 (MaxPooling2 (None, 5, 5, 64)          0         \n",
            "_________________________________________________________________\n",
            "batch_normalization_1 (Batch (None, 5, 5, 64)          256       \n",
            "_________________________________________________________________\n",
            "conv2d_3 (Conv2D)            (None, 3, 3, 128)         73856     \n",
            "_________________________________________________________________\n",
            "conv2d_4 (Conv2D)            (None, 1, 1, 256)         295168    \n",
            "_________________________________________________________________\n",
            "flatten (Flatten)            (None, 256)               0         \n",
            "_________________________________________________________________\n",
            "dropout (Dropout)            (None, 256)               0         \n",
            "_________________________________________________________________\n",
            "dense (Dense)                (None, 256)               65792     \n",
            "_________________________________________________________________\n",
            "batch_normalization_2 (Batch (None, 256)               1024      \n",
            "_________________________________________________________________\n",
            "dropout_1 (Dropout)          (None, 256)               0         \n",
            "_________________________________________________________________\n",
            "dense_1 (Dense)              (None, 128)               32896     \n",
            "_________________________________________________________________\n",
            "batch_normalization_3 (Batch (None, 128)               512       \n",
            "_________________________________________________________________\n",
            "dense_2 (Dense)              (None, 64)                8256      \n",
            "_________________________________________________________________\n",
            "batch_normalization_4 (Batch (None, 64)                256       \n",
            "_________________________________________________________________\n",
            "dropout_2 (Dropout)          (None, 64)                0         \n",
            "_________________________________________________________________\n",
            "dense_3 (Dense)              (None, 32)                2080      \n",
            "_________________________________________________________________\n",
            "batch_normalization_5 (Batch (None, 32)                128       \n",
            "_________________________________________________________________\n",
            "dense_4 (Dense)              (None, 7)                 231       \n",
            "=================================================================\n",
            "Total params: 504,103\n",
            "Trainable params: 502,983\n",
            "Non-trainable params: 1,120\n",
            "_________________________________________________________________\n"
          ],
          "name": "stdout"
        }
      ]
    },
    {
      "cell_type": "code",
      "metadata": {
        "id": "g4B4-f7ehUIW"
      },
      "source": [
        "#reference: https://www.kaggle.com/dhruv1234/ham10000-skin-disease-classification\n",
        "callback = tf.keras.callbacks.ModelCheckpoint(filepath='/content/drive/My Drive/Colab Notebooks/Skin Cancer/best_model.h5',\n",
        "                                                  monitor='val_acc', mode='max',\n",
        "                                                 verbose=1, save_best_only=True)"
      ],
      "execution_count": 21,
      "outputs": []
    },
    {
      "cell_type": "code",
      "metadata": {
        "colab": {
          "base_uri": "https://localhost:8080/"
        },
        "id": "1XgBEIh5hY63",
        "outputId": "aaac4c2f-f925-4367-a61b-3061a1016e78"
      },
      "source": [
        "optimizer=tf.keras.optimizers.Adam(lr=0.001)\n",
        "model.compile(loss = 'sparse_categorical_crossentropy',\n",
        "             optimizer =optimizer,\n",
        "              metrics = ['accuracy'])\n",
        "history = model.fit(x_train,\n",
        "                    y_train,\n",
        "                    validation_split=0.2,\n",
        "                    batch_size = 128,\n",
        "                    epochs = 50,\n",
        "                    shuffle=True,\n",
        "                    callbacks=[callback])"
      ],
      "execution_count": 22,
      "outputs": [
        {
          "output_type": "stream",
          "text": [
            "Epoch 1/50\n",
            "235/235 [==============================] - 36s 12ms/step - loss: 1.5915 - accuracy: 0.4160 - val_loss: 2.8865 - val_accuracy: 0.0317\n",
            "WARNING:tensorflow:Can save best model only with val_acc available, skipping.\n",
            "Epoch 2/50\n",
            "235/235 [==============================] - 2s 9ms/step - loss: 0.4993 - accuracy: 0.8372 - val_loss: 1.4458 - val_accuracy: 0.4121\n",
            "WARNING:tensorflow:Can save best model only with val_acc available, skipping.\n",
            "Epoch 3/50\n",
            "235/235 [==============================] - 2s 9ms/step - loss: 0.2724 - accuracy: 0.9103 - val_loss: 1.3315 - val_accuracy: 0.4002\n",
            "WARNING:tensorflow:Can save best model only with val_acc available, skipping.\n",
            "Epoch 4/50\n",
            "235/235 [==============================] - 2s 9ms/step - loss: 0.2234 - accuracy: 0.9224 - val_loss: 0.8266 - val_accuracy: 0.5951\n",
            "WARNING:tensorflow:Can save best model only with val_acc available, skipping.\n",
            "Epoch 5/50\n",
            "235/235 [==============================] - 2s 9ms/step - loss: 0.1792 - accuracy: 0.9377 - val_loss: 1.0320 - val_accuracy: 0.7162\n",
            "WARNING:tensorflow:Can save best model only with val_acc available, skipping.\n",
            "Epoch 6/50\n",
            "235/235 [==============================] - 2s 9ms/step - loss: 0.1638 - accuracy: 0.9436 - val_loss: 0.5715 - val_accuracy: 0.7312\n",
            "WARNING:tensorflow:Can save best model only with val_acc available, skipping.\n",
            "Epoch 7/50\n",
            "235/235 [==============================] - 2s 9ms/step - loss: 0.1149 - accuracy: 0.9597 - val_loss: 0.8722 - val_accuracy: 0.5806\n",
            "WARNING:tensorflow:Can save best model only with val_acc available, skipping.\n",
            "Epoch 8/50\n",
            "235/235 [==============================] - 2s 9ms/step - loss: 0.1169 - accuracy: 0.9606 - val_loss: 0.8624 - val_accuracy: 0.6242\n",
            "WARNING:tensorflow:Can save best model only with val_acc available, skipping.\n",
            "Epoch 9/50\n",
            "235/235 [==============================] - 2s 9ms/step - loss: 0.0889 - accuracy: 0.9690 - val_loss: 1.3489 - val_accuracy: 0.5624\n",
            "WARNING:tensorflow:Can save best model only with val_acc available, skipping.\n",
            "Epoch 10/50\n",
            "235/235 [==============================] - 2s 9ms/step - loss: 0.0935 - accuracy: 0.9681 - val_loss: 0.5333 - val_accuracy: 0.7601\n",
            "WARNING:tensorflow:Can save best model only with val_acc available, skipping.\n",
            "Epoch 11/50\n",
            "235/235 [==============================] - 2s 9ms/step - loss: 0.0787 - accuracy: 0.9733 - val_loss: 1.0674 - val_accuracy: 0.6154\n",
            "WARNING:tensorflow:Can save best model only with val_acc available, skipping.\n",
            "Epoch 12/50\n",
            "235/235 [==============================] - 2s 9ms/step - loss: 0.0581 - accuracy: 0.9806 - val_loss: 0.7218 - val_accuracy: 0.7056\n",
            "WARNING:tensorflow:Can save best model only with val_acc available, skipping.\n",
            "Epoch 13/50\n",
            "235/235 [==============================] - 2s 9ms/step - loss: 0.0739 - accuracy: 0.9746 - val_loss: 0.6832 - val_accuracy: 0.7364\n",
            "WARNING:tensorflow:Can save best model only with val_acc available, skipping.\n",
            "Epoch 14/50\n",
            "235/235 [==============================] - 2s 9ms/step - loss: 0.0558 - accuracy: 0.9818 - val_loss: 1.3406 - val_accuracy: 0.6397\n",
            "WARNING:tensorflow:Can save best model only with val_acc available, skipping.\n",
            "Epoch 15/50\n",
            "235/235 [==============================] - 2s 9ms/step - loss: 0.0748 - accuracy: 0.9762 - val_loss: 0.4244 - val_accuracy: 0.8587\n",
            "WARNING:tensorflow:Can save best model only with val_acc available, skipping.\n",
            "Epoch 16/50\n",
            "235/235 [==============================] - 2s 9ms/step - loss: 0.0532 - accuracy: 0.9808 - val_loss: 0.3187 - val_accuracy: 0.8658\n",
            "WARNING:tensorflow:Can save best model only with val_acc available, skipping.\n",
            "Epoch 17/50\n",
            "235/235 [==============================] - 2s 9ms/step - loss: 0.0407 - accuracy: 0.9871 - val_loss: 0.3234 - val_accuracy: 0.8772\n",
            "WARNING:tensorflow:Can save best model only with val_acc available, skipping.\n",
            "Epoch 18/50\n",
            "235/235 [==============================] - 2s 9ms/step - loss: 0.0349 - accuracy: 0.9891 - val_loss: 1.5362 - val_accuracy: 0.5190\n",
            "WARNING:tensorflow:Can save best model only with val_acc available, skipping.\n",
            "Epoch 19/50\n",
            "235/235 [==============================] - 2s 9ms/step - loss: 0.0528 - accuracy: 0.9819 - val_loss: 0.3450 - val_accuracy: 0.8330\n",
            "WARNING:tensorflow:Can save best model only with val_acc available, skipping.\n",
            "Epoch 20/50\n",
            "235/235 [==============================] - 2s 9ms/step - loss: 0.0425 - accuracy: 0.9848 - val_loss: 0.5082 - val_accuracy: 0.8306\n",
            "WARNING:tensorflow:Can save best model only with val_acc available, skipping.\n",
            "Epoch 21/50\n",
            "235/235 [==============================] - 2s 9ms/step - loss: 0.0378 - accuracy: 0.9878 - val_loss: 0.5035 - val_accuracy: 0.8462\n",
            "WARNING:tensorflow:Can save best model only with val_acc available, skipping.\n",
            "Epoch 22/50\n",
            "235/235 [==============================] - 2s 9ms/step - loss: 0.0322 - accuracy: 0.9886 - val_loss: 0.6385 - val_accuracy: 0.7912\n",
            "WARNING:tensorflow:Can save best model only with val_acc available, skipping.\n",
            "Epoch 23/50\n",
            "235/235 [==============================] - 2s 9ms/step - loss: 0.0333 - accuracy: 0.9895 - val_loss: 0.6843 - val_accuracy: 0.7942\n",
            "WARNING:tensorflow:Can save best model only with val_acc available, skipping.\n",
            "Epoch 24/50\n",
            "235/235 [==============================] - 2s 9ms/step - loss: 0.0308 - accuracy: 0.9895 - val_loss: 0.1519 - val_accuracy: 0.9382\n",
            "WARNING:tensorflow:Can save best model only with val_acc available, skipping.\n",
            "Epoch 25/50\n",
            "235/235 [==============================] - 2s 9ms/step - loss: 0.0242 - accuracy: 0.9916 - val_loss: 0.6080 - val_accuracy: 0.8289\n",
            "WARNING:tensorflow:Can save best model only with val_acc available, skipping.\n",
            "Epoch 26/50\n",
            "235/235 [==============================] - 2s 9ms/step - loss: 0.0299 - accuracy: 0.9904 - val_loss: 0.2495 - val_accuracy: 0.9038\n",
            "WARNING:tensorflow:Can save best model only with val_acc available, skipping.\n",
            "Epoch 27/50\n",
            "235/235 [==============================] - 2s 9ms/step - loss: 0.0291 - accuracy: 0.9906 - val_loss: 0.4722 - val_accuracy: 0.8502\n",
            "WARNING:tensorflow:Can save best model only with val_acc available, skipping.\n",
            "Epoch 28/50\n",
            "235/235 [==============================] - 2s 9ms/step - loss: 0.0268 - accuracy: 0.9909 - val_loss: 0.2086 - val_accuracy: 0.9247\n",
            "WARNING:tensorflow:Can save best model only with val_acc available, skipping.\n",
            "Epoch 29/50\n",
            "235/235 [==============================] - 2s 9ms/step - loss: 0.0243 - accuracy: 0.9917 - val_loss: 0.9127 - val_accuracy: 0.7722\n",
            "WARNING:tensorflow:Can save best model only with val_acc available, skipping.\n",
            "Epoch 30/50\n",
            "235/235 [==============================] - 2s 9ms/step - loss: 0.0208 - accuracy: 0.9934 - val_loss: 2.0540 - val_accuracy: 0.5503\n",
            "WARNING:tensorflow:Can save best model only with val_acc available, skipping.\n",
            "Epoch 31/50\n",
            "235/235 [==============================] - 2s 9ms/step - loss: 0.0285 - accuracy: 0.9906 - val_loss: 0.3010 - val_accuracy: 0.9186\n",
            "WARNING:tensorflow:Can save best model only with val_acc available, skipping.\n",
            "Epoch 32/50\n",
            "235/235 [==============================] - 2s 9ms/step - loss: 0.0249 - accuracy: 0.9923 - val_loss: 0.1280 - val_accuracy: 0.9520\n",
            "WARNING:tensorflow:Can save best model only with val_acc available, skipping.\n",
            "Epoch 33/50\n",
            "235/235 [==============================] - 2s 9ms/step - loss: 0.0211 - accuracy: 0.9928 - val_loss: 0.5762 - val_accuracy: 0.8398\n",
            "WARNING:tensorflow:Can save best model only with val_acc available, skipping.\n",
            "Epoch 34/50\n",
            "235/235 [==============================] - 2s 9ms/step - loss: 0.0143 - accuracy: 0.9949 - val_loss: 0.4032 - val_accuracy: 0.8835\n",
            "WARNING:tensorflow:Can save best model only with val_acc available, skipping.\n",
            "Epoch 35/50\n",
            "235/235 [==============================] - 2s 9ms/step - loss: 0.0128 - accuracy: 0.9952 - val_loss: 0.4891 - val_accuracy: 0.8485\n",
            "WARNING:tensorflow:Can save best model only with val_acc available, skipping.\n",
            "Epoch 36/50\n",
            "235/235 [==============================] - 2s 9ms/step - loss: 0.0253 - accuracy: 0.9913 - val_loss: 0.4762 - val_accuracy: 0.8747\n",
            "WARNING:tensorflow:Can save best model only with val_acc available, skipping.\n",
            "Epoch 37/50\n",
            "235/235 [==============================] - 2s 9ms/step - loss: 0.0178 - accuracy: 0.9944 - val_loss: 1.2868 - val_accuracy: 0.7043\n",
            "WARNING:tensorflow:Can save best model only with val_acc available, skipping.\n",
            "Epoch 38/50\n",
            "235/235 [==============================] - 2s 9ms/step - loss: 0.0157 - accuracy: 0.9948 - val_loss: 0.4303 - val_accuracy: 0.8747\n",
            "WARNING:tensorflow:Can save best model only with val_acc available, skipping.\n",
            "Epoch 39/50\n",
            "235/235 [==============================] - 2s 9ms/step - loss: 0.0139 - accuracy: 0.9955 - val_loss: 0.1160 - val_accuracy: 0.9504\n",
            "WARNING:tensorflow:Can save best model only with val_acc available, skipping.\n",
            "Epoch 40/50\n",
            "235/235 [==============================] - 2s 9ms/step - loss: 0.0115 - accuracy: 0.9961 - val_loss: 0.4994 - val_accuracy: 0.8706\n",
            "WARNING:tensorflow:Can save best model only with val_acc available, skipping.\n",
            "Epoch 41/50\n",
            "235/235 [==============================] - 2s 9ms/step - loss: 0.0221 - accuracy: 0.9928 - val_loss: 0.1113 - val_accuracy: 0.9623\n",
            "WARNING:tensorflow:Can save best model only with val_acc available, skipping.\n",
            "Epoch 42/50\n",
            "235/235 [==============================] - 2s 9ms/step - loss: 0.0131 - accuracy: 0.9963 - val_loss: 0.1382 - val_accuracy: 0.9601\n",
            "WARNING:tensorflow:Can save best model only with val_acc available, skipping.\n",
            "Epoch 43/50\n",
            "235/235 [==============================] - 2s 9ms/step - loss: 0.0267 - accuracy: 0.9915 - val_loss: 0.2634 - val_accuracy: 0.9252\n",
            "WARNING:tensorflow:Can save best model only with val_acc available, skipping.\n",
            "Epoch 44/50\n",
            "235/235 [==============================] - 2s 10ms/step - loss: 0.0128 - accuracy: 0.9952 - val_loss: 0.0543 - val_accuracy: 0.9844\n",
            "WARNING:tensorflow:Can save best model only with val_acc available, skipping.\n",
            "Epoch 45/50\n",
            "235/235 [==============================] - 2s 9ms/step - loss: 0.0052 - accuracy: 0.9984 - val_loss: 1.0786 - val_accuracy: 0.7656\n",
            "WARNING:tensorflow:Can save best model only with val_acc available, skipping.\n",
            "Epoch 46/50\n",
            "235/235 [==============================] - 2s 9ms/step - loss: 0.0220 - accuracy: 0.9924 - val_loss: 0.2286 - val_accuracy: 0.9344\n",
            "WARNING:tensorflow:Can save best model only with val_acc available, skipping.\n",
            "Epoch 47/50\n",
            "235/235 [==============================] - 2s 9ms/step - loss: 0.0177 - accuracy: 0.9942 - val_loss: 0.1356 - val_accuracy: 0.9566\n",
            "WARNING:tensorflow:Can save best model only with val_acc available, skipping.\n",
            "Epoch 48/50\n",
            "235/235 [==============================] - 2s 9ms/step - loss: 0.0094 - accuracy: 0.9973 - val_loss: 0.0474 - val_accuracy: 0.9805\n",
            "WARNING:tensorflow:Can save best model only with val_acc available, skipping.\n",
            "Epoch 49/50\n",
            "235/235 [==============================] - 2s 9ms/step - loss: 0.0092 - accuracy: 0.9973 - val_loss: 0.3068 - val_accuracy: 0.9091\n",
            "WARNING:tensorflow:Can save best model only with val_acc available, skipping.\n",
            "Epoch 50/50\n",
            "235/235 [==============================] - 2s 9ms/step - loss: 0.0068 - accuracy: 0.9979 - val_loss: 0.0518 - val_accuracy: 0.9861\n",
            "WARNING:tensorflow:Can save best model only with val_acc available, skipping.\n"
          ],
          "name": "stdout"
        }
      ]
    },
    {
      "cell_type": "code",
      "metadata": {
        "colab": {
          "base_uri": "https://localhost:8080/",
          "height": 295
        },
        "id": "qieCeDDGnEh3",
        "outputId": "685f6865-a52b-4442-ff8e-3abcce50ddad"
      },
      "source": [
        "plt.plot(history.history['accuracy'])\n",
        "plt.plot(history.history['val_accuracy'])\n",
        "plt.title('model accuracy')\n",
        "plt.ylabel('accuracy')\n",
        "plt.xlabel('epoch')\n",
        "plt.legend(['train', 'val'], loc='upper left')\n",
        "plt.show()\n"
      ],
      "execution_count": 23,
      "outputs": [
        {
          "output_type": "display_data",
          "data": {
            "image/png": "[encoded data removed]",
            "text/plain": [
              "<Figure size 432x288 with 1 Axes>"
            ]
          },
          "metadata": {
            "tags": [],
            "needs_background": "light"
          }
        }
      ]
    },
    {
      "cell_type": "code",
      "metadata": {
        "colab": {
          "base_uri": "https://localhost:8080/",
          "height": 295
        },
        "id": "8gK_9yQotuky",
        "outputId": "5ddda288-d59d-4a34-fdc1-0b554080f249"
      },
      "source": [
        "plt.plot(history.history['loss'])\n",
        "plt.plot(history.history['val_loss'])\n",
        "plt.title('model loss')\n",
        "plt.ylabel('loss')\n",
        "plt.xlabel('epoch')\n",
        "plt.legend(['train', 'val'], loc='upper left')\n",
        "plt.show()"
      ],
      "execution_count": 24,
      "outputs": [
        {
          "output_type": "display_data",
          "data": {
            "image/png": "[encoded data removed]",
            "text/plain": [
              "<Figure size 432x288 with 1 Axes>"
            ]
          },
          "metadata": {
            "tags": [],
            "needs_background": "light"
          }
        }
      ]
    },
    {
      "cell_type": "code",
      "metadata": {
        "id": "w9uqTVqftz1w"
      },
      "source": [
        "model.load_weights('/content/drive/My Drive/Colab Notebooks/Skin Cancer/best_model.h5')"
      ],
      "execution_count": 25,
      "outputs": []
    },
    {
      "cell_type": "code",
      "metadata": {
        "colab": {
          "base_uri": "https://localhost:8080/"
        },
        "id": "lzqOpvxMt2Xb",
        "outputId": "a9c25524-a597-4c9d-c55c-682785c24f37"
      },
      "source": [
        "x_test=np.array(x_test).reshape(-1,28,28,3)\n",
        "loss, acc = model.evaluate(x_test, y_test, verbose=2)"
      ],
      "execution_count": 26,
      "outputs": [
        {
          "output_type": "stream",
          "text": [
            "63/63 - 1s - loss: 0.1790 - accuracy: 0.9601\n"
          ],
          "name": "stdout"
        }
      ]
    },
    {
      "cell_type": "code",
      "metadata": {
        "id": "ouu5LJMLt7TF",
        "colab": {
          "base_uri": "https://localhost:8080/"
        },
        "outputId": "078f4d36-be0c-4392-95fd-f7e94dee3c7a"
      },
      "source": [
        "import PIL\n",
        "image=PIL.Image.open('/content/drive/My Drive/Colab Notebooks/Skin Cancer/tester.jpg')\n",
        "image=image.resize((28,28))\n",
        "img=x_test[1]\n",
        "img=np.array(image).reshape(-1,28,28,3)\n",
        "result=model.predict(img)\n",
        "print(result[0])\n",
        "result=result.tolist()\n",
        "max_prob=max(result[0])\n",
        "class_ind=result[0].index(max_prob)\n",
        "print(classes[class_ind])"
      ],
      "execution_count": 43,
      "outputs": [
        {
          "output_type": "stream",
          "text": [
            "[1.3951855e-05 3.1497890e-05 3.8413345e-05 9.0899075e-06 9.9975508e-01\n",
            " 4.4435733e-06 1.4756045e-04]\n",
            "('nv', ' melanocytic nevi')\n"
          ],
          "name": "stdout"
        }
      ]
    },
    {
      "cell_type": "code",
      "metadata": {
        "id": "0sHblryffYpX"
      },
      "source": [
        ""
      ],
      "execution_count": null,
      "outputs": []
    }
  ]
}